{
 "cells": [
  {
   "cell_type": "markdown",
   "metadata": {},
   "source": [
    "## Введение\n",
    "\n",
    "Гуляя по парку, Зюк увидел ребят, играющих в футбол. Это странное, на первый взгляд, занятие, вызвало у него неподдельное любопытство. Мы предложили ему присоединиться, но Зюк смущённо отказался. Оказалось, что задача расчёта траектории полёта того или иного предмета считается у нейрян достаточно сложной и у Зюка до сих пор не было времени, чтобы реализовать нейросеть, которая могла бы эту задачу решить.\n",
    "\n",
    "## Нейросеть\n",
    "\n",
    "Мы с радостью вызвались помочь Зюку написать нейросеть для такого случая.\n",
    "\n",
    "Вот что у нас получилось. Кое-где мы запутались и не смогли написать нужный кусок кода. Помогите нам, пожалуйста!\n",
    "\n",
    "// внимательно изучите комментарии к каждой функции, <br>\n",
    "// осознайте код настолько, насколько сможете. Заполните пропущенные кусочки. <br>\n",
    "// за основу класса Network взят пример с сайта neuralnetworksanddeeplearning.com"
   ]
  },
  {
   "cell_type": "code",
   "execution_count": 1,
   "metadata": {
    "collapsed": true,
    "pycharm": {
     "is_executing": false
    }
   },
   "outputs": [],
   "source": [
    "import numpy as np\n",
    "import random\n",
    "\n",
    "def sigmoid(z):\n",
    "    \"\"\"The sigmoid function.\n",
    "    Сигмоида\n",
    "    \"\"\"\n",
    "    return 1.0/(1.0+np.exp(-z))\n",
    "\n",
    "def sigmoid_prime(z):\n",
    "    \"\"\"Derivative of the sigmoid function.\n",
    "    Производная сигмоиды по e (шутка). По x\n",
    "    \"\"\"\n",
    "    return sigmoid(z)*(1-sigmoid(z))\n",
    "\n",
    "def cost_function(network, test_data, onehot=True):\n",
    "    c = 0\n",
    "    for example, y in test_data:\n",
    "        if not onehot:\n",
    "            y = np.eye(3, 1, k=-int(y))\n",
    "        yhat = network.feedforward(example)\n",
    "        c += np.sum((y - yhat)**2)\n",
    "    return c / len(test_data)"
   ]
  },
  {
   "cell_type": "code",
   "execution_count": 33,
   "metadata": {
    "collapsed": true,
    "pycharm": {
     "is_executing": false
    }
   },
   "outputs": [],
   "source": [
    "class Network:\n",
    "\n",
    "    def __init__(self, sizes, output=True):\n",
    "        \"\"\"\n",
    "        Список ``sizes`` содержит количество нейронов в соответствующих слоях\n",
    "        нейронной сети. К примеру, если бы этот лист выглядел как [2, 3, 1],\n",
    "        то мы бы получили трёхслойную нейросеть, с двумя нейронами в первом\n",
    "        (входном), тремя нейронами во втором (промежуточном) и одним нейроном\n",
    "        в третьем (выходном, внешнем) слое. Смещения и веса для нейронных сетей\n",
    "        инициализируются случайными значениями, подчиняющимися стандартному нормальному\n",
    "        распределению. Обратите внимание, что первый слой подразумевается слоем, \n",
    "        принимающим входные данные, поэтому мы не будем добавлять к нему смещение \n",
    "        (делать это не принято, поскольку смещения используются только при \n",
    "        вычислении выходных значений нейронов последующих слоёв)\n",
    "        \"\"\"\n",
    "\n",
    "        self.num_layers = len(sizes)\n",
    "        self.sizes = sizes\n",
    "        self.biases = [np.random.randn(y, 1) for y in sizes[1:]]\n",
    "        self.weights = [np.random.randn(y, x)\n",
    "                        for x, y in zip(sizes[:-1], sizes[1:])]\n",
    "        self.output = output\n",
    "\n",
    "    def feedforward(self, a):\n",
    "        \"\"\"\n",
    "        Вычислить и вернуть выходную активацию нейронной сети\n",
    "        при получении ``a`` на входе (бывшее forward_pass).\n",
    "        \"\"\"\n",
    "        for b, w in zip(self.biases, self.weights):\n",
    "            a = sigmoid(np.dot(w, a)+b)\n",
    "        return a\n",
    "\n",
    "    def SGD(self, training_data, epochs, mini_batch_size, eta,\n",
    "            test_data=None):\n",
    "        \"\"\"\n",
    "        Обучить нейронную сеть, используя алгоритм стохастического\n",
    "        (mini-batch) градиентного спуска. \n",
    "        ``training_data`` - лист кортежей вида ``(x, y)``, где \n",
    "        x - вход обучающего примера, y - желаемый выход (в формате one-hot). \n",
    "        Роль остальных обязательных параметров должна быть понятна из их названия.\n",
    "        Если предоставлен опциональный аргумент ``test_data``, \n",
    "        то после каждой эпохи обучения сеть будет протестирована на этих данных \n",
    "        и промежуточный результат обучения будет выведен в консоль. \n",
    "        ``test_data`` -- это список кортежей из входных данных \n",
    "        и номеров правильных классов примеров (т.е. argmax(y),\n",
    "        если y -- набор ответов в той же форме, что и в тренировочных данных).\n",
    "        Тестирование полезно для мониторинга процесса обучения,\n",
    "        но может существенно замедлить работу программы.\n",
    "        \"\"\"\n",
    "\n",
    "        if test_data is not None: n_test = len(test_data)\n",
    "        n = len(training_data)\n",
    "        success_tests = 0\n",
    "        for j in range(epochs):\n",
    "            random.shuffle(training_data)\n",
    "            mini_batches = [\n",
    "                training_data[k:k+mini_batch_size]\n",
    "                for k in range(0, n, mini_batch_size)]\n",
    "            for mini_batch in mini_batches:\n",
    "                self.update_mini_batch(mini_batch, eta)\n",
    "            if test_data is not None and self.output:\n",
    "                success_tests = self.evaluate(test_data)\n",
    "                print(\"Эпоха {0}: {1} / {2}\".format(\n",
    "                    j, success_tests, n_test))\n",
    "            elif self.output:\n",
    "                print(\"Эпоха {0} завершена\".format(j))\n",
    "        if test_data is not None:\n",
    "            return success_tests / n_test\n",
    "\n",
    "    def update_mini_batch(self, mini_batch, eta):\n",
    "        \"\"\"\n",
    "        Обновить веса и смещения нейронной сети, сделав шаг градиентного\n",
    "        спуска на основе алгоритма обратного распространения ошибки, примененного\n",
    "        к одному mini batch.\n",
    "        ``mini_batch`` - список кортежей вида ``(x, y)``,\n",
    "        ``eta`` - величина шага (learning rate).\n",
    "        \"\"\"\n",
    "        \n",
    "        nabla_b = [np.zeros(b.shape) for b in self.biases]\n",
    "        nabla_w = [np.zeros(w.shape) for w in self.weights]\n",
    "        for x, y in mini_batch:\n",
    "            delta_nabla_b, delta_nabla_w = self.backprop(x, y)\n",
    "            nabla_b = [nb+dnb for nb, dnb in zip(nabla_b, delta_nabla_b)]\n",
    "            nabla_w = [nw+dnw for nw, dnw in zip(nabla_w, delta_nabla_w)]\n",
    "            \n",
    "        eps = eta / len(mini_batch)\n",
    "        self.weights = [w - eps * nw for w, nw in zip(self.weights, nabla_w)]\n",
    "        self.biases  = [b - eps * nb for b, nb in zip(self.biases,  nabla_b)]\n",
    "\n",
    "    def backprop(self, x, y):\n",
    "        \"\"\"\n",
    "        Возвращает кортеж ``(nabla_b, nabla_w)`` -- градиент целевой функции по всем параметрам сети.\n",
    "        ``nabla_b`` и ``nabla_w`` -- послойные списки массивов ndarray,\n",
    "        такие же, как self.biases и self.weights соответственно.\n",
    "        \"\"\"\n",
    "        # Эту функцию необходимо реализовать\n",
    "        nabla_b = [np.zeros(b.shape) for b in self.biases]\n",
    "        nabla_w = [np.zeros(w.shape) for w in self.weights]\n",
    "\n",
    "        # прямое распространение (forward pass)\n",
    "        a_list = [x]\n",
    "        a = x\n",
    "        for b, w in zip(self.biases, self.weights):\n",
    "            # посчитать активации\n",
    "            a = sigmoid(np.dot(w, a) + b)\n",
    "            a_list.append(a)\n",
    "        y_pred = a\n",
    "\n",
    "        # обратное распространение (backward pass)\n",
    "        delta =  self.cost_derivative(y_pred, y) * a_list[-1] * (1 - a_list[-1]) # ошибка выходного слоя\n",
    "        nabla_b[-1] = delta # производная J по смещениям выходного слоя\n",
    "        nabla_w[-1] = delta.dot(a_list[-2].T) # производная J по весам выходного слоя\n",
    "        \n",
    "        # Обратите внимание, что переменная k в цикле ниже используется\n",
    "        # немного иначе, чем в лекциях.  Здесь k = 1 означает последний слой, \n",
    "        # k = 2 - предпоследний и так далее.  \n",
    "        # Мы перенумеровали схему, чтобы с удобством для себя \n",
    "        # использовать тот факт, что в Python к переменной типа list \n",
    "        # можно обращаться по негативному индексу.\n",
    "        for k in range(2, self.num_layers):\n",
    "            # дополнительные вычисления, чтобы легче записывалось\n",
    "            #\n",
    "            delta =  nabla_w[-k+1].T.dot(delta) * a_list[-k] * (1 - a_list[-k]) # ошибка на слое L-k\n",
    "            nabla_b[-k] = delta # производная J по смещениям L-k-го слоя\n",
    "            nabla_w[-k] = delta.dot(a_list[-k-1].T) # производная J по весам L-k-го слоя\n",
    "        return nabla_b, nabla_w\n",
    "\n",
    "    def evaluate(self, test_data):\n",
    "        \"\"\"\n",
    "        Вернуть количество тестовых примеров, для которых нейронная сеть\n",
    "        возвращает правильный ответ. Обратите внимание: подразумевается,\n",
    "        что выход нейронной сети - это индекс, указывающий, какой из нейронов\n",
    "        последнего слоя имеет наибольшую активацию.\n",
    "        \"\"\"\n",
    "        test_results = [(np.argmax(self.feedforward(x)), y)\n",
    "                        for (x, y) in test_data]\n",
    "        return sum(int(x == y) for (x, y) in test_results)\n",
    "\n",
    "    def cost_derivative(self, output_activations, y):\n",
    "        \"\"\"\n",
    "        Возвращает вектор частных производных (\\partial C_x) / (\\partial a) \n",
    "        целевой функции по активациям выходного слоя.\n",
    "        \"\"\"\n",
    "        return (output_activations-y)"
   ]
  },
  {
   "cell_type": "code",
   "execution_count": 34,
   "outputs": [
    {
     "name": "stdout",
     "text": [
      "activation.shape= (4, 1) ;w.shape= (3, 4) ; b.shape (3, 1)\n",
      "activation.shape= (3, 1) ;w.shape= (1, 3) ; b.shape (1, 1)\n",
      "[[0.80605102]\n",
      " [0.13148133]\n",
      " [0.0172775 ]]\n",
      "[array([[0.00062891],\n",
      "       [0.00205718],\n",
      "       [0.00034609]]), array([[0.14402063]])]\n",
      "[array([[0.00062891, 0.00125782, 0.00188672, 0.00251563],\n",
      "       [0.00205718, 0.00411436, 0.00617153, 0.00822871],\n",
      "       [0.00034609, 0.00069218, 0.00103828, 0.00138437]]), array([[0.02793265, 0.1250846 , 0.14153231]])]\n"
     ],
     "output_type": "stream"
    }
   ],
   "source": [
    "nn = Network([4,3,1])\n",
    "x = np.array([[1], [2], [3], [4]])\n",
    "y = np.array([[0]])\n",
    "nabla_b, nabla_w = nn.backprop(x, y)\n",
    "print(nabla_b)\n",
    "print(nabla_w)\n"
   ],
   "metadata": {
    "collapsed": false,
    "pycharm": {
     "name": "#%%\n",
     "is_executing": false
    }
   }
  },
  {
   "cell_type": "markdown",
   "metadata": {},
   "source": [
    "Так много кода!.. Чтобы быть уверенным, что он работает правильно, нам не обойтись без тестирования. Вообще-то чем меньше функция делает, тем проще её тестировать: мы можем взять какие-то аргументы, ожидаемый результат для этих аргументов и сравнить его с тем, который реально выдаст наша функция. Если реальность совпала с ожиданием, то всё в порядке — тест пройден!\n",
    "\n",
    "В качестве примера мы покажем довольно общий тест — тот случай, который указан в описании задания. Если вам понравится такой подход, вы можете развить идею на ваш вкус.\n",
    "\n",
    "Одним из самых распространённых средств тестирования является встроенная в Python система `doctest`. Тесты оформляются в очень наглядном виде внутри первого комментария к функции (в `docstring`). Символом `>>>` начинаются строки, которые система выполнит. А следующие за ними строки без клювиков — это ожидаемые результаты выполнения. Это очень похоже на снимок экрана при работе с интерпретатором, а разница в том, что система сама сравнивает ожидаемые и реальные результаты. Если они не совпадут, выведется сообщение об ошибке.\n",
    "\n",
    "Подробнее можно прочитать в [документации по doctest](https://docs.python.org/3.4/library/doctest.html)."
   ]
  },
  {
   "cell_type": "code",
   "execution_count": 3,
   "metadata": {
    "collapsed": true,
    "pycharm": {
     "is_executing": false
    }
   },
   "outputs": [],
   "source": [
    "import doctest"
   ]
  },
  {
   "cell_type": "code",
   "execution_count": 32,
   "metadata": {
    "collapsed": false,
    "pycharm": {
     "is_executing": false
    }
   },
   "outputs": [
    {
     "name": "stdout",
     "text": [
      "Finding tests in NoName\n",
      "Trying:\n",
      "    nabla_b, nabla_w = sample_backprop1()\n",
      "Expecting nothing\n",
      "**********************************************************************\n",
      "File \"__main__\", line 8, in NoName\n",
      "Failed example:\n",
      "    nabla_b, nabla_w = sample_backprop1()\n",
      "Expected nothing\n",
      "Got:\n",
      "    activation.shape= (3, 1) ;w.shape= (2, 3) ; b.shape (2, 1)\n",
      "Trying:\n",
      "    print(nabla_b[0])\n",
      "Expecting:\n",
      "    [[ 0.00214254]\n",
      "     [-0.05287709]]\n",
      "ok\n",
      "Trying:\n",
      "    print(nabla_w[0])\n",
      "Expecting:\n",
      "    [[ 0.00214254  0.00428509  0.00642763]\n",
      "     [-0.05287709 -0.10575419 -0.15863128]]\n",
      "ok\n"
     ],
     "output_type": "stream"
    }
   ],
   "source": [
    "# Описание теста. Само по себе оно ещё ничего не проверяет,\n",
    "# это просто функция, которую можно вызвать.\n",
    "def sample_backprop1():\n",
    "    \"\"\"\n",
    "    Пример тестового случая. Создает сеть, запускает функцию backprop и\n",
    "    проверяет возвращенные значения.\n",
    "    \n",
    "    >>> nabla_b, nabla_w = sample_backprop1()\n",
    "    >>> print(nabla_b[0])\n",
    "    [[ 0.00214254]\n",
    "     [-0.05287709]]\n",
    "    >>> print(nabla_w[0])\n",
    "    [[ 0.00214254  0.00428509  0.00642763]\n",
    "     [-0.05287709 -0.10575419 -0.15863128]]\n",
    "    \"\"\"\n",
    "    nn = Network([3,2])\n",
    "    nn.biases = [np.array([[-1], [-1]])]\n",
    "    nn.weights = [np.array([[-1, 1,-1], [ 1, -1, 1]])]\n",
    "    x = np.array([[1], [2], [3]])\n",
    "    y = np.array([[0], [1]])\n",
    "    \n",
    "    return nn.backprop(x, y)\n",
    "\n",
    "# Непосредственный запуск теста.\n",
    "# Указывается имя объекта (функции, класса и т. п.), из описания которой берутся тесты.\n",
    "# Обычно аргумент verbose=True не используют, и если всё хорошо,\n",
    "# то система просто ничего не выводит. Мы оставили его для наглядности.\n",
    "doctest.run_docstring_examples(sample_backprop1, globals(), verbose=True)"
   ]
  },
  {
   "cell_type": "markdown",
   "metadata": {},
   "source": [
    "Ура, товарищи! Теперь у нас есть класс для нейронной сети. Пора применить его к нашей задаче. В конце концов, мы ведь хотим поиграть с Зюком в футбол!\n",
    "\n",
    "## Учим Зюка играть в футбол\n",
    "\n",
    "В обучении мастерству игры мы решили начать с малого: будем учить Зюка пасоваться и делать навесы. Для этого нужно научиться решать такую задачу: зная начальное направление (угол от поверхности земли) и скорость мяча, определить, где этот мяч упадёт. Или иначе: попадёт ли мяч в мишень, находящуюся на земле, при заданных начальных условиях. Чтобы собрать тренировочные данные, мы поставили на земле мишень и пинали мячик в направлении этой мишени с разных расстояний, с разной силой и под разным углом. Зюк смотрел и запоминал. Он очень хотел научиться определять, попадём ли мы в мишень или нет.\n",
    "\n",
    "Зюк поделился с нами своими наблюдениями, давайте загрузим эти данные и обучим нейронную сеть!"
   ]
  },
  {
   "cell_type": "code",
   "execution_count": 5,
   "metadata": {
    "collapsed": true,
    "pycharm": {
     "is_executing": false
    }
   },
   "outputs": [],
   "source": [
    "data = np.loadtxt(\"data.csv\", delimiter=\",\")"
   ]
  },
  {
   "cell_type": "markdown",
   "metadata": {},
   "source": [
    "В данных у нас скорость пинка, угол пинка (между направлением полёта мяча и землёй) и расстояние до мишени. Заметим сразу, что пинали мы от души: скорость броска от 0 и до 50. Угол, по вполне очевидным причинам, принимает значения из $\\left[0;\\frac{\\pi}{2}\\right]$. Разница в масштабах настолько существенна, что имеет смысл нормализовать наши данные, чтобы при обучении не отвлекаться на попытки скомпенсировать масштаб данных масштабом весов."
   ]
  },
  {
   "cell_type": "code",
   "execution_count": 6,
   "metadata": {
    "collapsed": false,
    "pycharm": {
     "is_executing": false
    }
   },
   "outputs": [],
   "source": [
    "means = data.mean(axis=0)\n",
    "means[-1] = 0  # правильные ответы мы нормализовывать не будем: это качественные переменные\n",
    "stds = data.std(axis=0)\n",
    "stds[-1] = 1\n",
    "data = (data - means) / stds"
   ]
  },
  {
   "cell_type": "markdown",
   "metadata": {},
   "source": [
    "Чтобы у нас была возможность следить за успешностью обучения, сразу отделим часть данных в тестовое множество. Мы решили, что в этот раз не будем устраивать кросс-валидацию, поскольку нам хочется поскорее поиграть в футбол. Конечно, если бы задача была чуть более ответственной, без кросс-валидации мы бы не обошлись."
   ]
  },
  {
   "cell_type": "code",
   "execution_count": 7,
   "metadata": {
    "collapsed": false,
    "pycharm": {
     "is_executing": false
    }
   },
   "outputs": [],
   "source": [
    "np.random.seed(42)\n",
    "test_index = np.random.choice([True, False], len(data), replace=True, p=[0.25, 0.75])\n",
    "test  = data[test_index]\n",
    "train = data[np.logical_not(test_index)]"
   ]
  },
  {
   "cell_type": "markdown",
   "metadata": {},
   "source": [
    "Приведём теперь данные в тот вид, в котором они понимаются нашей нейросетью. Для обучения нам нужно, чтобы ответ был в формате one-hot: вектор длины 3 (общее количество классов), состоящий из нулей и одной единицы на месте правильного класса наблюдения. Мы сделаем это с помощью `np.eye`: для единицы, стоящей на `i`-м месте, нужно создать вектор `np.eye(3, 1, k=-i)`. Соответственно, когда мы будем итерироваться по нашим входным данным, искомое `i` для примера - это последний элемент строки с этим примером, то есть `d[-1]`. Получается несколько неуклюже: `np.eye(3, 1, k=-int(d[-1]))`. Если вам пришла в голову идея получше - пишите, делайте пулл-реквесты, Зюк будет рад!\n",
    "\n",
    "Возможно, кого-то всё ещё пугает строчка `a[:, np.newaxis]`. Это то же самое, что `a.reshape(a.shape + (1,))` (только посимпатичнее) - добавление ещё одной оси в массив. Делает одномерный вектор вертикальным, помните [эту задачу](https://stepic.org/lesson/NumPy-основы-16462/step/7?unit=4283)?"
   ]
  },
  {
   "cell_type": "code",
   "execution_count": 8,
   "metadata": {
    "collapsed": false,
    "pycharm": {
     "is_executing": false
    }
   },
   "outputs": [],
   "source": [
    "# eye - чтобы создать вертикальный вектор, аналогичный тому, который будет выдавать нейросеть на выходе\n",
    "train = [(d[:3][:, np.newaxis], np.eye(3, 1, k=-int(d[-1]))) for d in train]  \n",
    "test =  [(d[:3][:, np.newaxis], d[-1]) for d in test]"
   ]
  },
  {
   "cell_type": "markdown",
   "metadata": {},
   "source": [
    "Это может выглядеть несколько странно, но так нам будет удобнее работать с сетью. Предлагаемый вариант не оптимален, но удобен в учебных целях.\n",
    "\n",
    "Теперь создадим сеть:"
   ]
  },
  {
   "cell_type": "code",
   "execution_count": 9,
   "metadata": {
    "collapsed": true,
    "pycharm": {
     "is_executing": false
    }
   },
   "outputs": [],
   "source": [
    "input_count  = 3  # 3 нейрона входного слоя\n",
    "hidden_count = 6  # 5 нейронов внутреннего слоя\n",
    "output_count = 3  # 3 нейрона выходного слоя, по индикатору для каждого из классов \"недолёт\", \"попал\" и \"перелёт\""
   ]
  },
  {
   "cell_type": "markdown",
   "metadata": {},
   "source": [
    "И тепеерь... Давайте её обучим! После каждой эпохи будем выводить достигнутую точность."
   ]
  },
  {
   "cell_type": "code",
   "execution_count": 10,
   "metadata": {
    "collapsed": false,
    "pycharm": {
     "is_executing": false
    }
   },
   "outputs": [
    {
     "name": "stdout",
     "text": [
      "Эпоха 0: 66 / 130\n",
      "Эпоха 1: 57 / 130\n",
      "Эпоха 2: 89 / 130\n",
      "Эпоха 3: 75 / 130\n",
      "Эпоха 4: 91 / 130\n",
      "Эпоха 5: 89 / 130\n",
      "Эпоха 6: 89 / 130\n",
      "Эпоха 7: 90 / 130\n",
      "Эпоха 8: 86 / 130\n",
      "Эпоха 9: 88 / 130\n",
      "Эпоха 10: 89 / 130\n",
      "Эпоха 11: 90 / 130\n",
      "Эпоха 12: 89 / 130\n",
      "Эпоха 13: 93 / 130\n",
      "Эпоха 14: 88 / 130\n",
      "Эпоха 15: 89 / 130\n",
      "Эпоха 16: 89 / 130\n",
      "Эпоха 17: 79 / 130\n",
      "Эпоха 18: 83 / 130\n",
      "Эпоха 19: 90 / 130\n",
      "Эпоха 20: 90 / 130\n",
      "Эпоха 21: 90 / 130\n",
      "Эпоха 22: 93 / 130\n",
      "Эпоха 23: 87 / 130\n",
      "Эпоха 24: 79 / 130\n",
      "Эпоха 25: 94 / 130\n",
      "Эпоха 26: 91 / 130\n",
      "Эпоха 27: 89 / 130\n",
      "Эпоха 28: 92 / 130\n",
      "Эпоха 29: 89 / 130\n",
      "Эпоха 30: 82 / 130\n",
      "Эпоха 31: 90 / 130\n",
      "Эпоха 32: 82 / 130\n",
      "Эпоха 33: 87 / 130\n",
      "Эпоха 34: 92 / 130\n",
      "Эпоха 35: 93 / 130\n",
      "Эпоха 36: 93 / 130\n",
      "Эпоха 37: 73 / 130\n",
      "Эпоха 38: 85 / 130\n",
      "Эпоха 39: 88 / 130\n",
      "Эпоха 40: 85 / 130\n",
      "Эпоха 41: 80 / 130\n",
      "Эпоха 42: 88 / 130\n",
      "Эпоха 43: 82 / 130\n",
      "Эпоха 44: 88 / 130\n",
      "Эпоха 45: 84 / 130\n",
      "Эпоха 46: 80 / 130\n",
      "Эпоха 47: 88 / 130\n",
      "Эпоха 48: 84 / 130\n",
      "Эпоха 49: 82 / 130\n",
      "Эпоха 50: 87 / 130\n",
      "Эпоха 51: 82 / 130\n",
      "Эпоха 52: 83 / 130\n",
      "Эпоха 53: 82 / 130\n",
      "Эпоха 54: 83 / 130\n",
      "Эпоха 55: 86 / 130\n",
      "Эпоха 56: 80 / 130\n",
      "Эпоха 57: 80 / 130\n",
      "Эпоха 58: 80 / 130\n",
      "Эпоха 59: 91 / 130\n",
      "Эпоха 60: 81 / 130\n",
      "Эпоха 61: 88 / 130\n",
      "Эпоха 62: 88 / 130\n",
      "Эпоха 63: 85 / 130\n",
      "Эпоха 64: 82 / 130\n",
      "Эпоха 65: 83 / 130\n",
      "Эпоха 66: 86 / 130\n",
      "Эпоха 67: 82 / 130\n",
      "Эпоха 68: 85 / 130\n",
      "Эпоха 69: 86 / 130\n",
      "Эпоха 70: 83 / 130\n",
      "Эпоха 71: 82 / 130\n",
      "Эпоха 72: 82 / 130\n",
      "Эпоха 73: 88 / 130\n",
      "Эпоха 74: 82 / 130\n",
      "Эпоха 75: 82 / 130\n",
      "Эпоха 76: 82 / 130\n",
      "Эпоха 77: 89 / 130\n",
      "Эпоха 78: 86 / 130\n",
      "Эпоха 79: 84 / 130\n",
      "Эпоха 80: 82 / 130\n",
      "Эпоха 81: 86 / 130\n",
      "Эпоха 82: 82 / 130\n",
      "Эпоха 83: 87 / 130\n",
      "Эпоха 84: 84 / 130\n",
      "Эпоха 85: 85 / 130\n",
      "Эпоха 86: 86 / 130\n",
      "Эпоха 87: 82 / 130\n",
      "Эпоха 88: 84 / 130\n",
      "Эпоха 89: 84 / 130\n",
      "Эпоха 90: 82 / 130\n",
      "Эпоха 91: 88 / 130\n",
      "Эпоха 92: 85 / 130\n",
      "Эпоха 93: 87 / 130\n",
      "Эпоха 94: 85 / 130\n",
      "Эпоха 95: 87 / 130\n",
      "Эпоха 96: 84 / 130\n",
      "Эпоха 97: 86 / 130\n",
      "Эпоха 98: 82 / 130\n",
      "Эпоха 99: 86 / 130\n"
     ],
     "output_type": "stream"
    },
    {
     "data": {
      "text/plain": "0.6615384615384615"
     },
     "metadata": {},
     "output_type": "execute_result",
     "execution_count": 10
    }
   ],
   "source": [
    "random.seed(1)\n",
    "np.random.seed(1)\n",
    "nn = Network([input_count, hidden_count, output_count])\n",
    "nn.SGD(training_data=train, epochs=100, mini_batch_size=5, eta=1, test_data=test)"
   ]
  },
  {
   "cell_type": "markdown",
   "metadata": {},
   "source": [
    "Итак, что-то мы построили, причём доля правильных ответов этого \"чего-то\" равна 0.86, то есть чему-то отличному от случайного угадывания сеть явно научилась! Можно ли как-то посмотреть, что за правило усвоила наша модель? Что за закономерность она вывела? Оказывается, что можно!"
   ]
  },
  {
   "cell_type": "markdown",
   "metadata": {},
   "source": [
    "Поскольку задача очень простая: предсказать, приземлится ли мячик в заданном отрезке, мы знаем, как выглядит правильное решение.\n",
    "\n",
    "Действительно, если мы кидаем мячик с высоты 0 с заданной скоростью $v$ под углом $\\alpha$, то он пролетит ровно $$s = \\frac{v^2}{g}\\cdot \\sin\\left(2\\alpha\\right).$$\n",
    "Соответственно, можно построить график зависимости $s$ от $v$ и $\\alpha$."
   ]
  },
  {
   "cell_type": "code",
   "execution_count": 11,
   "metadata": {
    "collapsed": false,
    "pycharm": {
     "is_executing": false
    }
   },
   "outputs": [
    {
     "name": "stderr",
     "text": [
      "findfont: Font family ['STIXGeneral'] not found. Falling back to DejaVu Sans.\n",
      "findfont: Font family ['DejaVu Sans'] not found. Falling back to DejaVu Sans.\n",
      "findfont: Font family ['DejaVu Sans'] not found. Falling back to DejaVu Sans.\n",
      "findfont: Font family ['DejaVu Sans'] not found. Falling back to DejaVu Sans.\n",
      "findfont: Font family ['DejaVu Sans'] not found. Falling back to DejaVu Sans.\n",
      "findfont: Font family ['DejaVu Sans'] not found. Falling back to DejaVu Sans.\n",
      "findfont: Font family ['DejaVu Sans'] not found. Falling back to DejaVu Sans.\n",
      "findfont: Font family ['DejaVu Sans'] not found. Falling back to DejaVu Sans.\n",
      "findfont: Font family ['DejaVu Sans'] not found. Falling back to DejaVu Sans.\n",
      "findfont: Font family ['DejaVu Sans'] not found. Falling back to DejaVu Sans.\n",
      "findfont: Font family ['DejaVu Sans'] not found. Falling back to DejaVu Sans.\n",
      "findfont: Font family ['DejaVu Sans'] not found. Falling back to DejaVu Sans.\n",
      "findfont: Font family ['DejaVu Sans'] not found. Falling back to DejaVu Sans.\n",
      "findfont: Font family ['DejaVu Sans'] not found. Falling back to DejaVu Sans.\n",
      "findfont: Font family ['DejaVu Sans'] not found. Falling back to DejaVu Sans.\n",
      "findfont: Font family ['DejaVu Sans'] not found. Falling back to DejaVu Sans.\n",
      "findfont: Font family ['DejaVu Sans'] not found. Falling back to DejaVu Sans.\n",
      "findfont: Font family ['DejaVu Sans'] not found. Falling back to DejaVu Sans.\n",
      "findfont: Font family ['DejaVu Sans'] not found. Falling back to DejaVu Sans.\n",
      "findfont: Font family ['DejaVu Sans'] not found. Falling back to DejaVu Sans.\n",
      "findfont: Font family ['DejaVu Sans'] not found. Falling back to DejaVu Sans.\n",
      "findfont: Font family ['DejaVu Sans'] not found. Falling back to DejaVu Sans.\n",
      "findfont: Font family ['DejaVu Sans'] not found. Falling back to DejaVu Sans.\n",
      "findfont: Font family ['DejaVu Sans'] not found. Falling back to DejaVu Sans.\n",
      "findfont: Font family ['DejaVu Sans'] not found. Falling back to DejaVu Sans.\n",
      "findfont: Font family ['DejaVu Sans'] not found. Falling back to DejaVu Sans.\n",
      "findfont: Font family ['DejaVu Sans'] not found. Falling back to DejaVu Sans.\n",
      "findfont: Font family ['DejaVu Sans'] not found. Falling back to DejaVu Sans.\n",
      "findfont: Font family ['DejaVu Sans'] not found. Falling back to DejaVu Sans.\n",
      "findfont: Font family ['DejaVu Sans'] not found. Falling back to DejaVu Sans.\n",
      "findfont: Font family ['DejaVu Sans'] not found. Falling back to DejaVu Sans.\n",
      "findfont: Font family ['DejaVu Sans'] not found. Falling back to DejaVu Sans.\n",
      "findfont: Font family ['DejaVu Sans'] not found. Falling back to DejaVu Sans.\n",
      "findfont: Font family ['DejaVu Sans'] not found. Falling back to DejaVu Sans.\n",
      "findfont: Font family ['DejaVu Sans'] not found. Falling back to DejaVu Sans.\n",
      "findfont: Font family ['DejaVu Sans'] not found. Falling back to DejaVu Sans.\n",
      "findfont: Font family ['DejaVu Sans'] not found. Falling back to DejaVu Sans.\n",
      "findfont: Font family ['DejaVu Sans'] not found. Falling back to DejaVu Sans.\n",
      "findfont: Font family ['DejaVu Sans'] not found. Falling back to DejaVu Sans.\n",
      "findfont: Font family ['DejaVu Sans'] not found. Falling back to DejaVu Sans.\n",
      "findfont: Font family ['DejaVu Sans'] not found. Falling back to DejaVu Sans.\n",
      "findfont: Font family ['DejaVu Sans'] not found. Falling back to DejaVu Sans.\n",
      "findfont: Font family ['DejaVu Sans'] not found. Falling back to DejaVu Sans.\n",
      "findfont: Font family ['DejaVu Sans'] not found. Falling back to DejaVu Sans.\n",
      "findfont: Font family ['DejaVu Sans'] not found. Falling back to DejaVu Sans.\n",
      "findfont: Font family ['DejaVu Sans'] not found. Falling back to DejaVu Sans.\n",
      "findfont: Font family ['DejaVu Sans'] not found. Falling back to DejaVu Sans.\n",
      "findfont: Font family ['DejaVu Sans'] not found. Falling back to DejaVu Sans.\n",
      "findfont: Font family ['DejaVu Sans'] not found. Falling back to DejaVu Sans.\n",
      "findfont: Font family ['DejaVu Sans'] not found. Falling back to DejaVu Sans.\n",
      "findfont: Font family ['DejaVu Sans'] not found. Falling back to DejaVu Sans.\n",
      "findfont: Font family ['DejaVu Sans'] not found. Falling back to DejaVu Sans.\n",
      "findfont: Font family ['DejaVu Sans'] not found. Falling back to DejaVu Sans.\n",
      "findfont: Font family ['DejaVu Sans'] not found. Falling back to DejaVu Sans.\n",
      "findfont: Font family ['DejaVu Sans'] not found. Falling back to DejaVu Sans.\n",
      "findfont: Font family ['DejaVu Sans'] not found. Falling back to DejaVu Sans.\n",
      "findfont: Font family ['DejaVu Sans'] not found. Falling back to DejaVu Sans.\n",
      "findfont: Font family ['DejaVu Sans'] not found. Falling back to DejaVu Sans.\n",
      "findfont: Font family ['DejaVu Sans'] not found. Falling back to DejaVu Sans.\n",
      "findfont: Font family ['DejaVu Sans'] not found. Falling back to DejaVu Sans.\n",
      "findfont: Font family ['DejaVu Sans'] not found. Falling back to DejaVu Sans.\n",
      "findfont: Font family ['DejaVu Sans'] not found. Falling back to DejaVu Sans.\n",
      "findfont: Font family ['DejaVu Sans'] not found. Falling back to DejaVu Sans.\n",
      "findfont: Font family ['DejaVu Sans'] not found. Falling back to DejaVu Sans.\n",
      "findfont: Font family ['DejaVu Sans'] not found. Falling back to DejaVu Sans.\n",
      "findfont: Font family ['DejaVu Sans'] not found. Falling back to DejaVu Sans.\n",
      "findfont: Font family ['DejaVu Sans'] not found. Falling back to DejaVu Sans.\n",
      "findfont: Font family ['DejaVu Sans'] not found. Falling back to DejaVu Sans.\n",
      "findfont: Font family ['DejaVu Sans'] not found. Falling back to DejaVu Sans.\n",
      "findfont: Font family ['DejaVu Sans'] not found. Falling back to DejaVu Sans.\n",
      "findfont: Font family ['DejaVu Sans'] not found. Falling back to DejaVu Sans.\n",
      "findfont: Font family ['DejaVu Sans'] not found. Falling back to DejaVu Sans.\n",
      "findfont: Font family ['DejaVu Sans'] not found. Falling back to DejaVu Sans.\n",
      "findfont: Font family ['DejaVu Sans'] not found. Falling back to DejaVu Sans.\n",
      "findfont: Font family ['DejaVu Sans'] not found. Falling back to DejaVu Sans.\n",
      "findfont: Font family ['DejaVu Sans'] not found. Falling back to DejaVu Sans.\n",
      "findfont: Font family ['DejaVu Sans'] not found. Falling back to DejaVu Sans.\n",
      "findfont: Font family ['DejaVu Sans'] not found. Falling back to DejaVu Sans.\n",
      "findfont: Font family ['DejaVu Sans'] not found. Falling back to DejaVu Sans.\n",
      "findfont: Font family ['DejaVu Sans'] not found. Falling back to DejaVu Sans.\n",
      "findfont: Font family ['DejaVu Sans'] not found. Falling back to DejaVu Sans.\n",
      "findfont: Font family ['DejaVu Sans'] not found. Falling back to DejaVu Sans.\n",
      "findfont: Font family ['DejaVu Sans'] not found. Falling back to DejaVu Sans.\n",
      "findfont: Font family ['DejaVu Sans'] not found. Falling back to DejaVu Sans.\n",
      "findfont: Font family ['DejaVu Sans'] not found. Falling back to DejaVu Sans.\n",
      "findfont: Font family ['DejaVu Sans'] not found. Falling back to DejaVu Sans.\n",
      "findfont: Font family ['DejaVu Sans'] not found. Falling back to DejaVu Sans.\n",
      "findfont: Font family ['DejaVu Sans'] not found. Falling back to DejaVu Sans.\n",
      "findfont: Font family ['DejaVu Sans'] not found. Falling back to DejaVu Sans.\n",
      "findfont: Font family ['DejaVu Sans'] not found. Falling back to DejaVu Sans.\n",
      "findfont: Font family ['DejaVu Sans'] not found. Falling back to DejaVu Sans.\n",
      "findfont: Font family ['DejaVu Sans'] not found. Falling back to DejaVu Sans.\n",
      "findfont: Font family ['DejaVu Sans'] not found. Falling back to DejaVu Sans.\n",
      "findfont: Font family ['DejaVu Sans'] not found. Falling back to DejaVu Sans.\n",
      "findfont: Font family ['DejaVu Sans'] not found. Falling back to DejaVu Sans.\n",
      "findfont: Font family ['DejaVu Sans'] not found. Falling back to DejaVu Sans.\n",
      "findfont: Font family ['DejaVu Sans'] not found. Falling back to DejaVu Sans.\n",
      "findfont: Font family ['DejaVu Sans'] not found. Falling back to DejaVu Sans.\n",
      "findfont: Font family ['DejaVu Sans'] not found. Falling back to DejaVu Sans.\n",
      "findfont: Font family ['DejaVu Sans'] not found. Falling back to DejaVu Sans.\n",
      "findfont: Font family ['DejaVu Sans'] not found. Falling back to DejaVu Sans.\n",
      "findfont: Font family ['DejaVu Sans'] not found. Falling back to DejaVu Sans.\n",
      "findfont: Font family ['DejaVu Sans'] not found. Falling back to DejaVu Sans.\n",
      "findfont: Font family ['DejaVu Sans'] not found. Falling back to DejaVu Sans.\n",
      "findfont: Font family ['DejaVu Sans'] not found. Falling back to DejaVu Sans.\n",
      "findfont: Font family ['DejaVu Sans'] not found. Falling back to DejaVu Sans.\n",
      "findfont: Font family ['DejaVu Sans'] not found. Falling back to DejaVu Sans.\n",
      "findfont: Font family ['DejaVu Sans'] not found. Falling back to DejaVu Sans.\n",
      "findfont: Font family ['DejaVu Sans'] not found. Falling back to DejaVu Sans.\n",
      "findfont: Font family ['DejaVu Sans'] not found. Falling back to DejaVu Sans.\n",
      "findfont: Font family ['DejaVu Sans'] not found. Falling back to DejaVu Sans.\n",
      "findfont: Font family ['DejaVu Sans'] not found. Falling back to DejaVu Sans.\n",
      "findfont: Font family ['DejaVu Sans'] not found. Falling back to DejaVu Sans.\n",
      "findfont: Font family ['DejaVu Sans'] not found. Falling back to DejaVu Sans.\n",
      "findfont: Font family ['DejaVu Sans'] not found. Falling back to DejaVu Sans.\n",
      "findfont: Font family ['DejaVu Sans'] not found. Falling back to DejaVu Sans.\n",
      "findfont: Font family ['DejaVu Sans'] not found. Falling back to DejaVu Sans.\n",
      "findfont: Font family ['DejaVu Sans'] not found. Falling back to DejaVu Sans.\n",
      "findfont: Font family ['DejaVu Sans'] not found. Falling back to DejaVu Sans.\n",
      "findfont: Font family ['DejaVu Sans'] not found. Falling back to DejaVu Sans.\n",
      "findfont: Font family ['DejaVu Sans'] not found. Falling back to DejaVu Sans.\n",
      "findfont: Font family ['DejaVu Sans'] not found. Falling back to DejaVu Sans.\n",
      "findfont: Font family ['DejaVu Sans'] not found. Falling back to DejaVu Sans.\n",
      "findfont: Font family ['DejaVu Sans'] not found. Falling back to DejaVu Sans.\n",
      "findfont: Font family ['DejaVu Sans'] not found. Falling back to DejaVu Sans.\n",
      "findfont: Font family ['DejaVu Sans'] not found. Falling back to DejaVu Sans.\n",
      "findfont: Font family ['DejaVu Sans'] not found. Falling back to DejaVu Sans.\n",
      "findfont: Font family ['DejaVu Sans'] not found. Falling back to DejaVu Sans.\n",
      "findfont: Font family ['DejaVu Sans'] not found. Falling back to DejaVu Sans.\n",
      "findfont: Font family ['DejaVu Sans'] not found. Falling back to DejaVu Sans.\n",
      "findfont: Font family ['DejaVu Sans'] not found. Falling back to DejaVu Sans.\n",
      "findfont: Font family ['DejaVu Sans'] not found. Falling back to DejaVu Sans.\n",
      "findfont: Font family ['DejaVu Sans'] not found. Falling back to DejaVu Sans.\n",
      "findfont: Font family ['DejaVu Sans'] not found. Falling back to DejaVu Sans.\n",
      "findfont: Font family ['DejaVu Sans'] not found. Falling back to DejaVu Sans.\n",
      "findfont: Font family ['DejaVu Sans'] not found. Falling back to DejaVu Sans.\n",
      "findfont: Font family ['DejaVu Sans'] not found. Falling back to DejaVu Sans.\n",
      "findfont: Font family ['DejaVu Sans'] not found. Falling back to DejaVu Sans.\n",
      "findfont: Font family ['DejaVu Sans'] not found. Falling back to DejaVu Sans.\n",
      "findfont: Font family ['DejaVu Sans'] not found. Falling back to DejaVu Sans.\n",
      "findfont: Font family ['DejaVu Sans'] not found. Falling back to DejaVu Sans.\n",
      "findfont: Font family ['DejaVu Sans'] not found. Falling back to DejaVu Sans.\n",
      "findfont: Font family ['DejaVu Sans'] not found. Falling back to DejaVu Sans.\n",
      "findfont: Font family ['DejaVu Sans'] not found. Falling back to DejaVu Sans.\n",
      "findfont: Font family ['DejaVu Sans'] not found. Falling back to DejaVu Sans.\n",
      "findfont: Font family ['DejaVu Sans'] not found. Falling back to DejaVu Sans.\n",
      "findfont: Font family ['DejaVu Sans'] not found. Falling back to DejaVu Sans.\n",
      "findfont: Font family ['DejaVu Sans'] not found. Falling back to DejaVu Sans.\n",
      "findfont: Font family ['DejaVu Sans'] not found. Falling back to DejaVu Sans.\n",
      "findfont: Font family ['DejaVu Sans'] not found. Falling back to DejaVu Sans.\n",
      "findfont: Font family ['DejaVu Sans'] not found. Falling back to DejaVu Sans.\n",
      "findfont: Font family ['DejaVu Sans'] not found. Falling back to DejaVu Sans.\n",
      "findfont: Font family ['DejaVu Sans'] not found. Falling back to DejaVu Sans.\n",
      "findfont: Font family ['DejaVu Sans'] not found. Falling back to DejaVu Sans.\n",
      "findfont: Font family ['DejaVu Sans'] not found. Falling back to DejaVu Sans.\n",
      "findfont: Font family ['DejaVu Sans'] not found. Falling back to DejaVu Sans.\n",
      "findfont: Font family ['DejaVu Sans'] not found. Falling back to DejaVu Sans.\n",
      "findfont: Font family ['DejaVu Sans'] not found. Falling back to DejaVu Sans.\n",
      "findfont: Font family ['DejaVu Sans'] not found. Falling back to DejaVu Sans.\n",
      "findfont: Font family ['DejaVu Sans'] not found. Falling back to DejaVu Sans.\n",
      "findfont: Font family ['DejaVu Sans'] not found. Falling back to DejaVu Sans.\n",
      "findfont: Font family ['DejaVu Sans'] not found. Falling back to DejaVu Sans.\n",
      "findfont: Font family ['DejaVu Sans'] not found. Falling back to DejaVu Sans.\n",
      "findfont: Font family ['DejaVu Sans'] not found. Falling back to DejaVu Sans.\n",
      "findfont: Font family ['DejaVu Sans'] not found. Falling back to DejaVu Sans.\n",
      "findfont: Font family ['DejaVu Sans'] not found. Falling back to DejaVu Sans.\n",
      "findfont: Font family ['DejaVu Sans'] not found. Falling back to DejaVu Sans.\n",
      "findfont: Font family ['DejaVu Sans'] not found. Falling back to DejaVu Sans.\n",
      "findfont: Font family ['DejaVu Sans'] not found. Falling back to DejaVu Sans.\n",
      "findfont: Font family ['DejaVu Sans'] not found. Falling back to DejaVu Sans.\n",
      "findfont: Font family ['DejaVu Sans'] not found. Falling back to DejaVu Sans.\n",
      "findfont: Font family ['DejaVu Sans'] not found. Falling back to DejaVu Sans.\n",
      "findfont: Font family ['DejaVu Sans'] not found. Falling back to DejaVu Sans.\n",
      "findfont: Font family ['DejaVu Sans'] not found. Falling back to DejaVu Sans.\n",
      "findfont: Font family ['DejaVu Sans'] not found. Falling back to DejaVu Sans.\n",
      "findfont: Font family ['DejaVu Sans'] not found. Falling back to DejaVu Sans.\n",
      "findfont: Font family ['DejaVu Sans'] not found. Falling back to DejaVu Sans.\n",
      "findfont: Font family ['DejaVu Sans'] not found. Falling back to DejaVu Sans.\n",
      "findfont: Font family ['DejaVu Sans'] not found. Falling back to DejaVu Sans.\n",
      "findfont: Font family ['DejaVu Sans'] not found. Falling back to DejaVu Sans.\n",
      "findfont: Font family ['DejaVu Sans'] not found. Falling back to DejaVu Sans.\n",
      "findfont: Font family ['DejaVu Sans'] not found. Falling back to DejaVu Sans.\n",
      "findfont: Font family ['DejaVu Sans'] not found. Falling back to DejaVu Sans.\n",
      "findfont: Font family ['DejaVu Sans'] not found. Falling back to DejaVu Sans.\n",
      "findfont: Font family ['DejaVu Sans'] not found. Falling back to DejaVu Sans.\n",
      "findfont: Font family ['DejaVu Sans'] not found. Falling back to DejaVu Sans.\n",
      "findfont: Font family ['DejaVu Sans'] not found. Falling back to DejaVu Sans.\n",
      "findfont: Font family ['DejaVu Sans'] not found. Falling back to DejaVu Sans.\n",
      "findfont: Font family ['DejaVu Sans'] not found. Falling back to DejaVu Sans.\n",
      "findfont: Font family ['DejaVu Sans'] not found. Falling back to DejaVu Sans.\n",
      "findfont: Font family ['DejaVu Sans'] not found. Falling back to DejaVu Sans.\n",
      "findfont: Font family ['DejaVu Sans'] not found. Falling back to DejaVu Sans.\n",
      "findfont: Font family ['DejaVu Sans'] not found. Falling back to DejaVu Sans.\n",
      "findfont: Font family ['DejaVu Sans'] not found. Falling back to DejaVu Sans.\n",
      "findfont: Font family ['DejaVu Sans'] not found. Falling back to DejaVu Sans.\n",
      "findfont: Font family ['DejaVu Sans'] not found. Falling back to DejaVu Sans.\n",
      "findfont: Font family ['DejaVu Sans'] not found. Falling back to DejaVu Sans.\n",
      "findfont: Font family ['DejaVu Sans'] not found. Falling back to DejaVu Sans.\n",
      "findfont: Font family ['DejaVu Sans'] not found. Falling back to DejaVu Sans.\n",
      "findfont: Font family ['DejaVu Sans'] not found. Falling back to DejaVu Sans.\n",
      "findfont: Font family ['DejaVu Sans'] not found. Falling back to DejaVu Sans.\n",
      "findfont: Font family ['DejaVu Sans'] not found. Falling back to DejaVu Sans.\n",
      "findfont: Font family ['DejaVu Sans'] not found. Falling back to DejaVu Sans.\n",
      "findfont: Font family ['DejaVu Sans'] not found. Falling back to DejaVu Sans.\n",
      "findfont: Font family ['DejaVu Sans'] not found. Falling back to DejaVu Sans.\n",
      "findfont: Font family ['DejaVu Sans'] not found. Falling back to DejaVu Sans.\n",
      "findfont: Font family ['DejaVu Sans'] not found. Falling back to DejaVu Sans.\n",
      "findfont: Font family ['DejaVu Sans'] not found. Falling back to DejaVu Sans.\n",
      "findfont: Font family ['DejaVu Sans'] not found. Falling back to DejaVu Sans.\n",
      "findfont: Font family ['DejaVu Sans'] not found. Falling back to DejaVu Sans.\n",
      "findfont: Font family ['DejaVu Sans'] not found. Falling back to DejaVu Sans.\n",
      "findfont: Font family ['DejaVu Sans'] not found. Falling back to DejaVu Sans.\n",
      "findfont: Font family ['DejaVu Sans'] not found. Falling back to DejaVu Sans.\n",
      "findfont: Font family ['DejaVu Sans'] not found. Falling back to DejaVu Sans.\n",
      "findfont: Font family ['DejaVu Sans'] not found. Falling back to DejaVu Sans.\n",
      "findfont: Font family ['DejaVu Sans'] not found. Falling back to DejaVu Sans.\n",
      "findfont: Font family ['DejaVu Sans'] not found. Falling back to DejaVu Sans.\n",
      "findfont: Font family ['DejaVu Sans'] not found. Falling back to DejaVu Sans.\n",
      "findfont: Font family ['DejaVu Sans'] not found. Falling back to DejaVu Sans.\n",
      "findfont: Font family ['DejaVu Sans'] not found. Falling back to DejaVu Sans.\n",
      "findfont: Font family ['DejaVu Sans'] not found. Falling back to DejaVu Sans.\n",
      "findfont: Font family ['DejaVu Sans'] not found. Falling back to DejaVu Sans.\n",
      "findfont: Font family ['DejaVu Sans'] not found. Falling back to DejaVu Sans.\n",
      "findfont: Font family ['DejaVu Sans'] not found. Falling back to DejaVu Sans.\n",
      "findfont: Font family ['DejaVu Sans'] not found. Falling back to DejaVu Sans.\n",
      "findfont: Font family ['DejaVu Sans'] not found. Falling back to DejaVu Sans.\n",
      "findfont: Font family ['DejaVu Sans'] not found. Falling back to DejaVu Sans.\n",
      "findfont: Font family ['DejaVu Sans'] not found. Falling back to DejaVu Sans.\n",
      "findfont: Font family ['DejaVu Sans'] not found. Falling back to DejaVu Sans.\n",
      "findfont: Font family ['DejaVu Sans'] not found. Falling back to DejaVu Sans.\n",
      "findfont: Font family ['DejaVu Sans'] not found. Falling back to DejaVu Sans.\n",
      "findfont: Font family ['DejaVu Sans'] not found. Falling back to DejaVu Sans.\n",
      "findfont: Font family ['DejaVu Sans'] not found. Falling back to DejaVu Sans.\n",
      "findfont: Font family ['DejaVu Sans'] not found. Falling back to DejaVu Sans.\n",
      "findfont: Font family ['DejaVu Sans'] not found. Falling back to DejaVu Sans.\n",
      "findfont: Font family ['DejaVu Sans'] not found. Falling back to DejaVu Sans.\n",
      "findfont: Font family ['DejaVu Sans'] not found. Falling back to DejaVu Sans.\n",
      "findfont: Font family ['DejaVu Sans'] not found. Falling back to DejaVu Sans.\n",
      "findfont: Font family ['DejaVu Sans'] not found. Falling back to DejaVu Sans.\n",
      "findfont: Font family ['DejaVu Sans'] not found. Falling back to DejaVu Sans.\n",
      "findfont: Font family ['DejaVu Sans'] not found. Falling back to DejaVu Sans.\n",
      "findfont: Font family ['DejaVu Sans'] not found. Falling back to DejaVu Sans.\n",
      "findfont: Font family ['DejaVu Sans'] not found. Falling back to DejaVu Sans.\n",
      "findfont: Font family ['DejaVu Sans'] not found. Falling back to DejaVu Sans.\n",
      "findfont: Font family ['DejaVu Sans'] not found. Falling back to DejaVu Sans.\n",
      "findfont: Font family ['DejaVu Sans'] not found. Falling back to DejaVu Sans.\n",
      "findfont: Font family ['DejaVu Sans'] not found. Falling back to DejaVu Sans.\n",
      "findfont: Font family ['DejaVu Sans'] not found. Falling back to DejaVu Sans.\n",
      "findfont: Font family ['DejaVu Sans'] not found. Falling back to DejaVu Sans.\n",
      "findfont: Font family ['DejaVu Sans'] not found. Falling back to DejaVu Sans.\n",
      "findfont: Font family ['DejaVu Sans'] not found. Falling back to DejaVu Sans.\n",
      "findfont: Font family ['DejaVu Sans'] not found. Falling back to DejaVu Sans.\n",
      "findfont: Font family ['DejaVu Sans'] not found. Falling back to DejaVu Sans.\n",
      "findfont: Font family ['DejaVu Sans'] not found. Falling back to DejaVu Sans.\n",
      "findfont: Font family ['DejaVu Sans'] not found. Falling back to DejaVu Sans.\n",
      "findfont: Font family ['DejaVu Sans'] not found. Falling back to DejaVu Sans.\n",
      "findfont: Font family ['DejaVu Sans'] not found. Falling back to DejaVu Sans.\n",
      "findfont: Font family ['DejaVu Sans'] not found. Falling back to DejaVu Sans.\n",
      "findfont: Font family ['DejaVu Sans'] not found. Falling back to DejaVu Sans.\n",
      "findfont: Font family ['DejaVu Sans'] not found. Falling back to DejaVu Sans.\n",
      "findfont: Font family ['DejaVu Sans'] not found. Falling back to DejaVu Sans.\n",
      "findfont: Font family ['DejaVu Sans'] not found. Falling back to DejaVu Sans.\n",
      "findfont: Font family ['DejaVu Sans'] not found. Falling back to DejaVu Sans.\n",
      "findfont: Font family ['DejaVu Sans'] not found. Falling back to DejaVu Sans.\n",
      "findfont: Font family ['DejaVu Sans'] not found. Falling back to DejaVu Sans.\n",
      "findfont: Font family ['DejaVu Sans'] not found. Falling back to DejaVu Sans.\n",
      "findfont: Font family ['DejaVu Sans'] not found. Falling back to DejaVu Sans.\n",
      "findfont: Font family ['DejaVu Sans'] not found. Falling back to DejaVu Sans.\n",
      "findfont: Font family ['DejaVu Sans'] not found. Falling back to DejaVu Sans.\n",
      "findfont: Font family ['DejaVu Sans'] not found. Falling back to DejaVu Sans.\n",
      "findfont: Font family ['DejaVu Sans'] not found. Falling back to DejaVu Sans.\n",
      "findfont: Font family ['DejaVu Sans'] not found. Falling back to DejaVu Sans.\n",
      "findfont: Font family ['DejaVu Sans'] not found. Falling back to DejaVu Sans.\n",
      "findfont: Font family ['DejaVu Sans'] not found. Falling back to DejaVu Sans.\n",
      "findfont: Font family ['DejaVu Sans'] not found. Falling back to DejaVu Sans.\n",
      "findfont: Font family ['DejaVu Sans'] not found. Falling back to DejaVu Sans.\n",
      "findfont: Font family ['DejaVu Sans'] not found. Falling back to DejaVu Sans.\n",
      "findfont: Font family ['DejaVu Sans'] not found. Falling back to DejaVu Sans.\n",
      "findfont: Font family ['DejaVu Sans'] not found. Falling back to DejaVu Sans.\n",
      "findfont: Font family ['DejaVu Sans'] not found. Falling back to DejaVu Sans.\n",
      "findfont: Font family ['DejaVu Sans'] not found. Falling back to DejaVu Sans.\n",
      "findfont: Font family ['DejaVu Sans'] not found. Falling back to DejaVu Sans.\n",
      "findfont: Font family ['DejaVu Sans'] not found. Falling back to DejaVu Sans.\n",
      "findfont: Font family ['DejaVu Sans'] not found. Falling back to DejaVu Sans.\n",
      "findfont: Font family ['DejaVu Sans'] not found. Falling back to DejaVu Sans.\n",
      "findfont: Font family ['DejaVu Sans'] not found. Falling back to DejaVu Sans.\n",
      "findfont: Font family ['DejaVu Sans'] not found. Falling back to DejaVu Sans.\n",
      "findfont: Font family ['DejaVu Sans'] not found. Falling back to DejaVu Sans.\n",
      "findfont: Font family ['DejaVu Sans'] not found. Falling back to DejaVu Sans.\n",
      "findfont: Font family ['DejaVu Sans'] not found. Falling back to DejaVu Sans.\n",
      "findfont: Font family ['DejaVu Sans'] not found. Falling back to DejaVu Sans.\n",
      "findfont: Font family ['DejaVu Sans'] not found. Falling back to DejaVu Sans.\n",
      "findfont: Font family ['DejaVu Sans'] not found. Falling back to DejaVu Sans.\n",
      "findfont: Font family ['DejaVu Sans'] not found. Falling back to DejaVu Sans.\n",
      "findfont: Font family ['DejaVu Sans'] not found. Falling back to DejaVu Sans.\n",
      "findfont: Font family ['DejaVu Sans'] not found. Falling back to DejaVu Sans.\n",
      "findfont: Font family ['DejaVu Sans'] not found. Falling back to DejaVu Sans.\n",
      "findfont: Font family ['DejaVu Sans'] not found. Falling back to DejaVu Sans.\n",
      "findfont: Font family ['DejaVu Sans'] not found. Falling back to DejaVu Sans.\n",
      "findfont: Font family ['DejaVu Sans'] not found. Falling back to DejaVu Sans.\n",
      "findfont: Font family ['DejaVu Sans'] not found. Falling back to DejaVu Sans.\n",
      "findfont: Font family ['DejaVu Sans'] not found. Falling back to DejaVu Sans.\n",
      "findfont: Font family ['DejaVu Sans'] not found. Falling back to DejaVu Sans.\n",
      "findfont: Font family ['DejaVu Sans'] not found. Falling back to DejaVu Sans.\n",
      "findfont: Font family ['DejaVu Sans'] not found. Falling back to DejaVu Sans.\n",
      "findfont: Font family ['DejaVu Sans'] not found. Falling back to DejaVu Sans.\n",
      "findfont: Font family ['DejaVu Sans'] not found. Falling back to DejaVu Sans.\n",
      "findfont: Font family ['DejaVu Sans'] not found. Falling back to DejaVu Sans.\n",
      "findfont: Font family ['DejaVu Sans'] not found. Falling back to DejaVu Sans.\n",
      "findfont: Font family ['DejaVu Sans'] not found. Falling back to DejaVu Sans.\n",
      "findfont: Font family ['DejaVu Sans'] not found. Falling back to DejaVu Sans.\n",
      "findfont: Font family ['DejaVu Sans'] not found. Falling back to DejaVu Sans.\n",
      "findfont: Font family ['DejaVu Sans'] not found. Falling back to DejaVu Sans.\n",
      "findfont: Font family ['DejaVu Sans'] not found. Falling back to DejaVu Sans.\n",
      "findfont: Font family ['DejaVu Sans'] not found. Falling back to DejaVu Sans.\n",
      "findfont: Font family ['DejaVu Sans'] not found. Falling back to DejaVu Sans.\n",
      "findfont: Font family ['DejaVu Sans'] not found. Falling back to DejaVu Sans.\n",
      "findfont: Font family ['DejaVu Sans'] not found. Falling back to DejaVu Sans.\n",
      "findfont: Font family ['DejaVu Sans'] not found. Falling back to DejaVu Sans.\n",
      "findfont: Font family ['DejaVu Sans'] not found. Falling back to DejaVu Sans.\n",
      "findfont: Font family ['DejaVu Sans'] not found. Falling back to DejaVu Sans.\n",
      "findfont: Font family ['DejaVu Sans'] not found. Falling back to DejaVu Sans.\n",
      "findfont: Font family ['DejaVu Sans'] not found. Falling back to DejaVu Sans.\n",
      "findfont: Font family ['DejaVu Sans'] not found. Falling back to DejaVu Sans.\n",
      "findfont: Font family ['DejaVu Sans'] not found. Falling back to DejaVu Sans.\n",
      "findfont: Font family ['DejaVu Sans'] not found. Falling back to DejaVu Sans.\n",
      "findfont: Font family ['DejaVu Sans'] not found. Falling back to DejaVu Sans.\n",
      "findfont: Font family ['DejaVu Sans'] not found. Falling back to DejaVu Sans.\n",
      "findfont: Font family ['DejaVu Sans'] not found. Falling back to DejaVu Sans.\n",
      "findfont: Font family ['DejaVu Sans'] not found. Falling back to DejaVu Sans.\n",
      "findfont: Font family ['DejaVu Sans'] not found. Falling back to DejaVu Sans.\n",
      "findfont: Font family ['DejaVu Sans'] not found. Falling back to DejaVu Sans.\n",
      "findfont: Font family ['DejaVu Sans'] not found. Falling back to DejaVu Sans.\n",
      "findfont: Font family ['DejaVu Sans'] not found. Falling back to DejaVu Sans.\n",
      "findfont: Font family ['DejaVu Sans'] not found. Falling back to DejaVu Sans.\n",
      "findfont: Font family ['DejaVu Sans'] not found. Falling back to DejaVu Sans.\n",
      "findfont: Font family ['DejaVu Sans'] not found. Falling back to DejaVu Sans.\n",
      "findfont: Font family ['DejaVu Sans'] not found. Falling back to DejaVu Sans.\n",
      "findfont: Font family ['DejaVu Sans'] not found. Falling back to DejaVu Sans.\n",
      "findfont: Font family ['DejaVu Sans'] not found. Falling back to DejaVu Sans.\n",
      "findfont: Font family ['DejaVu Sans'] not found. Falling back to DejaVu Sans.\n",
      "findfont: Font family ['DejaVu Sans'] not found. Falling back to DejaVu Sans.\n",
      "findfont: Font family ['DejaVu Sans'] not found. Falling back to DejaVu Sans.\n",
      "findfont: Font family ['DejaVu Sans'] not found. Falling back to DejaVu Sans.\n",
      "findfont: Font family ['DejaVu Sans'] not found. Falling back to DejaVu Sans.\n",
      "findfont: Font family ['DejaVu Sans'] not found. Falling back to DejaVu Sans.\n",
      "findfont: Font family ['DejaVu Sans'] not found. Falling back to DejaVu Sans.\n",
      "findfont: Font family ['DejaVu Sans'] not found. Falling back to DejaVu Sans.\n",
      "findfont: Font family ['DejaVu Sans'] not found. Falling back to DejaVu Sans.\n",
      "findfont: Font family ['DejaVu Sans'] not found. Falling back to DejaVu Sans.\n",
      "findfont: Font family ['DejaVu Sans'] not found. Falling back to DejaVu Sans.\n",
      "findfont: Font family ['DejaVu Sans'] not found. Falling back to DejaVu Sans.\n",
      "findfont: Font family ['DejaVu Sans'] not found. Falling back to DejaVu Sans.\n",
      "findfont: Font family ['DejaVu Sans'] not found. Falling back to DejaVu Sans.\n",
      "findfont: Font family ['DejaVu Sans'] not found. Falling back to DejaVu Sans.\n",
      "findfont: Font family ['DejaVu Sans'] not found. Falling back to DejaVu Sans.\n",
      "findfont: Font family ['DejaVu Sans'] not found. Falling back to DejaVu Sans.\n",
      "findfont: Font family ['DejaVu Sans'] not found. Falling back to DejaVu Sans.\n",
      "findfont: Font family ['DejaVu Sans'] not found. Falling back to DejaVu Sans.\n",
      "findfont: Font family ['DejaVu Sans'] not found. Falling back to DejaVu Sans.\n",
      "findfont: Font family ['DejaVu Sans'] not found. Falling back to DejaVu Sans.\n",
      "findfont: Font family ['DejaVu Sans'] not found. Falling back to DejaVu Sans.\n",
      "findfont: Font family ['DejaVu Sans'] not found. Falling back to DejaVu Sans.\n",
      "findfont: Font family ['DejaVu Sans'] not found. Falling back to DejaVu Sans.\n"
     ],
     "output_type": "stream"
    },
    {
     "traceback": [
      "\u001b[1;31m---------------------------------------------------------------------------\u001b[0m",
      "\u001b[1;31mRecursionError\u001b[0m                            Traceback (most recent call last)",
      "\u001b[1;32m~\\Anaconda3\\lib\\site-packages\\IPython\\core\\formatters.py\u001b[0m in \u001b[0;36m__call__\u001b[1;34m(self, obj)\u001b[0m\n\u001b[0;32m    339\u001b[0m                 \u001b[1;32mpass\u001b[0m\u001b[1;33m\u001b[0m\u001b[1;33m\u001b[0m\u001b[0m\n\u001b[0;32m    340\u001b[0m             \u001b[1;32melse\u001b[0m\u001b[1;33m:\u001b[0m\u001b[1;33m\u001b[0m\u001b[1;33m\u001b[0m\u001b[0m\n\u001b[1;32m--> 341\u001b[1;33m                 \u001b[1;32mreturn\u001b[0m \u001b[0mprinter\u001b[0m\u001b[1;33m(\u001b[0m\u001b[0mobj\u001b[0m\u001b[1;33m)\u001b[0m\u001b[1;33m\u001b[0m\u001b[1;33m\u001b[0m\u001b[0m\n\u001b[0m\u001b[0;32m    342\u001b[0m             \u001b[1;31m# Finally look for special method names\u001b[0m\u001b[1;33m\u001b[0m\u001b[1;33m\u001b[0m\u001b[1;33m\u001b[0m\u001b[0m\n\u001b[0;32m    343\u001b[0m             \u001b[0mmethod\u001b[0m \u001b[1;33m=\u001b[0m \u001b[0mget_real_method\u001b[0m\u001b[1;33m(\u001b[0m\u001b[0mobj\u001b[0m\u001b[1;33m,\u001b[0m \u001b[0mself\u001b[0m\u001b[1;33m.\u001b[0m\u001b[0mprint_method\u001b[0m\u001b[1;33m)\u001b[0m\u001b[1;33m\u001b[0m\u001b[1;33m\u001b[0m\u001b[0m\n",
      "\u001b[1;32m~\\Anaconda3\\lib\\site-packages\\IPython\\core\\pylabtools.py\u001b[0m in \u001b[0;36m<lambda>\u001b[1;34m(fig)\u001b[0m\n\u001b[0;32m    242\u001b[0m \u001b[1;33m\u001b[0m\u001b[0m\n\u001b[0;32m    243\u001b[0m     \u001b[1;32mif\u001b[0m \u001b[1;34m'png'\u001b[0m \u001b[1;32min\u001b[0m \u001b[0mformats\u001b[0m\u001b[1;33m:\u001b[0m\u001b[1;33m\u001b[0m\u001b[1;33m\u001b[0m\u001b[0m\n\u001b[1;32m--> 244\u001b[1;33m         \u001b[0mpng_formatter\u001b[0m\u001b[1;33m.\u001b[0m\u001b[0mfor_type\u001b[0m\u001b[1;33m(\u001b[0m\u001b[0mFigure\u001b[0m\u001b[1;33m,\u001b[0m \u001b[1;32mlambda\u001b[0m \u001b[0mfig\u001b[0m\u001b[1;33m:\u001b[0m \u001b[0mprint_figure\u001b[0m\u001b[1;33m(\u001b[0m\u001b[0mfig\u001b[0m\u001b[1;33m,\u001b[0m \u001b[1;34m'png'\u001b[0m\u001b[1;33m,\u001b[0m \u001b[1;33m**\u001b[0m\u001b[0mkwargs\u001b[0m\u001b[1;33m)\u001b[0m\u001b[1;33m)\u001b[0m\u001b[1;33m\u001b[0m\u001b[1;33m\u001b[0m\u001b[0m\n\u001b[0m\u001b[0;32m    245\u001b[0m     \u001b[1;32mif\u001b[0m \u001b[1;34m'retina'\u001b[0m \u001b[1;32min\u001b[0m \u001b[0mformats\u001b[0m \u001b[1;32mor\u001b[0m \u001b[1;34m'png2x'\u001b[0m \u001b[1;32min\u001b[0m \u001b[0mformats\u001b[0m\u001b[1;33m:\u001b[0m\u001b[1;33m\u001b[0m\u001b[1;33m\u001b[0m\u001b[0m\n\u001b[0;32m    246\u001b[0m         \u001b[0mpng_formatter\u001b[0m\u001b[1;33m.\u001b[0m\u001b[0mfor_type\u001b[0m\u001b[1;33m(\u001b[0m\u001b[0mFigure\u001b[0m\u001b[1;33m,\u001b[0m \u001b[1;32mlambda\u001b[0m \u001b[0mfig\u001b[0m\u001b[1;33m:\u001b[0m \u001b[0mretina_figure\u001b[0m\u001b[1;33m(\u001b[0m\u001b[0mfig\u001b[0m\u001b[1;33m,\u001b[0m \u001b[1;33m**\u001b[0m\u001b[0mkwargs\u001b[0m\u001b[1;33m)\u001b[0m\u001b[1;33m)\u001b[0m\u001b[1;33m\u001b[0m\u001b[1;33m\u001b[0m\u001b[0m\n",
      "\u001b[1;32m~\\Anaconda3\\lib\\site-packages\\IPython\\core\\pylabtools.py\u001b[0m in \u001b[0;36mprint_figure\u001b[1;34m(fig, fmt, bbox_inches, **kwargs)\u001b[0m\n\u001b[0;32m    126\u001b[0m \u001b[1;33m\u001b[0m\u001b[0m\n\u001b[0;32m    127\u001b[0m     \u001b[0mbytes_io\u001b[0m \u001b[1;33m=\u001b[0m \u001b[0mBytesIO\u001b[0m\u001b[1;33m(\u001b[0m\u001b[1;33m)\u001b[0m\u001b[1;33m\u001b[0m\u001b[1;33m\u001b[0m\u001b[0m\n\u001b[1;32m--> 128\u001b[1;33m     \u001b[0mfig\u001b[0m\u001b[1;33m.\u001b[0m\u001b[0mcanvas\u001b[0m\u001b[1;33m.\u001b[0m\u001b[0mprint_figure\u001b[0m\u001b[1;33m(\u001b[0m\u001b[0mbytes_io\u001b[0m\u001b[1;33m,\u001b[0m \u001b[1;33m**\u001b[0m\u001b[0mkw\u001b[0m\u001b[1;33m)\u001b[0m\u001b[1;33m\u001b[0m\u001b[1;33m\u001b[0m\u001b[0m\n\u001b[0m\u001b[0;32m    129\u001b[0m     \u001b[0mdata\u001b[0m \u001b[1;33m=\u001b[0m \u001b[0mbytes_io\u001b[0m\u001b[1;33m.\u001b[0m\u001b[0mgetvalue\u001b[0m\u001b[1;33m(\u001b[0m\u001b[1;33m)\u001b[0m\u001b[1;33m\u001b[0m\u001b[1;33m\u001b[0m\u001b[0m\n\u001b[0;32m    130\u001b[0m     \u001b[1;32mif\u001b[0m \u001b[0mfmt\u001b[0m \u001b[1;33m==\u001b[0m \u001b[1;34m'svg'\u001b[0m\u001b[1;33m:\u001b[0m\u001b[1;33m\u001b[0m\u001b[1;33m\u001b[0m\u001b[0m\n",
      "\u001b[1;32m~\\Anaconda3\\lib\\site-packages\\matplotlib\\backend_bases.py\u001b[0m in \u001b[0;36mprint_figure\u001b[1;34m(self, filename, dpi, facecolor, edgecolor, orientation, format, bbox_inches, **kwargs)\u001b[0m\n\u001b[0;32m   2054\u001b[0m                         \u001b[0morientation\u001b[0m\u001b[1;33m=\u001b[0m\u001b[0morientation\u001b[0m\u001b[1;33m,\u001b[0m\u001b[1;33m\u001b[0m\u001b[1;33m\u001b[0m\u001b[0m\n\u001b[0;32m   2055\u001b[0m                         \u001b[0mdryrun\u001b[0m\u001b[1;33m=\u001b[0m\u001b[1;32mTrue\u001b[0m\u001b[1;33m,\u001b[0m\u001b[1;33m\u001b[0m\u001b[1;33m\u001b[0m\u001b[0m\n\u001b[1;32m-> 2056\u001b[1;33m                         **kwargs)\n\u001b[0m\u001b[0;32m   2057\u001b[0m                     \u001b[0mrenderer\u001b[0m \u001b[1;33m=\u001b[0m \u001b[0mself\u001b[0m\u001b[1;33m.\u001b[0m\u001b[0mfigure\u001b[0m\u001b[1;33m.\u001b[0m\u001b[0m_cachedRenderer\u001b[0m\u001b[1;33m\u001b[0m\u001b[1;33m\u001b[0m\u001b[0m\n\u001b[0;32m   2058\u001b[0m                     \u001b[0mbbox_artists\u001b[0m \u001b[1;33m=\u001b[0m \u001b[0mkwargs\u001b[0m\u001b[1;33m.\u001b[0m\u001b[0mpop\u001b[0m\u001b[1;33m(\u001b[0m\u001b[1;34m\"bbox_extra_artists\"\u001b[0m\u001b[1;33m,\u001b[0m \u001b[1;32mNone\u001b[0m\u001b[1;33m)\u001b[0m\u001b[1;33m\u001b[0m\u001b[1;33m\u001b[0m\u001b[0m\n",
      "\u001b[1;32m~\\Anaconda3\\lib\\site-packages\\matplotlib\\backends\\backend_agg.py\u001b[0m in \u001b[0;36mprint_png\u001b[1;34m(self, filename_or_obj, metadata, pil_kwargs, *args, **kwargs)\u001b[0m\n\u001b[0;32m    525\u001b[0m \u001b[1;33m\u001b[0m\u001b[0m\n\u001b[0;32m    526\u001b[0m         \u001b[1;32melse\u001b[0m\u001b[1;33m:\u001b[0m\u001b[1;33m\u001b[0m\u001b[1;33m\u001b[0m\u001b[0m\n\u001b[1;32m--> 527\u001b[1;33m             \u001b[0mFigureCanvasAgg\u001b[0m\u001b[1;33m.\u001b[0m\u001b[0mdraw\u001b[0m\u001b[1;33m(\u001b[0m\u001b[0mself\u001b[0m\u001b[1;33m)\u001b[0m\u001b[1;33m\u001b[0m\u001b[1;33m\u001b[0m\u001b[0m\n\u001b[0m\u001b[0;32m    528\u001b[0m             \u001b[0mrenderer\u001b[0m \u001b[1;33m=\u001b[0m \u001b[0mself\u001b[0m\u001b[1;33m.\u001b[0m\u001b[0mget_renderer\u001b[0m\u001b[1;33m(\u001b[0m\u001b[1;33m)\u001b[0m\u001b[1;33m\u001b[0m\u001b[1;33m\u001b[0m\u001b[0m\n\u001b[0;32m    529\u001b[0m             \u001b[1;32mwith\u001b[0m \u001b[0mcbook\u001b[0m\u001b[1;33m.\u001b[0m\u001b[0m_setattr_cm\u001b[0m\u001b[1;33m(\u001b[0m\u001b[0mrenderer\u001b[0m\u001b[1;33m,\u001b[0m \u001b[0mdpi\u001b[0m\u001b[1;33m=\u001b[0m\u001b[0mself\u001b[0m\u001b[1;33m.\u001b[0m\u001b[0mfigure\u001b[0m\u001b[1;33m.\u001b[0m\u001b[0mdpi\u001b[0m\u001b[1;33m)\u001b[0m\u001b[1;33m,\u001b[0m\u001b[0;31m \u001b[0m\u001b[0;31m\\\u001b[0m\u001b[1;33m\u001b[0m\u001b[1;33m\u001b[0m\u001b[0m\n",
      "\u001b[1;32m~\\Anaconda3\\lib\\site-packages\\matplotlib\\backends\\backend_agg.py\u001b[0m in \u001b[0;36mdraw\u001b[1;34m(self)\u001b[0m\n\u001b[0;32m    386\u001b[0m         \u001b[0mself\u001b[0m\u001b[1;33m.\u001b[0m\u001b[0mrenderer\u001b[0m \u001b[1;33m=\u001b[0m \u001b[0mself\u001b[0m\u001b[1;33m.\u001b[0m\u001b[0mget_renderer\u001b[0m\u001b[1;33m(\u001b[0m\u001b[0mcleared\u001b[0m\u001b[1;33m=\u001b[0m\u001b[1;32mTrue\u001b[0m\u001b[1;33m)\u001b[0m\u001b[1;33m\u001b[0m\u001b[1;33m\u001b[0m\u001b[0m\n\u001b[0;32m    387\u001b[0m         \u001b[1;32mwith\u001b[0m \u001b[0mRendererAgg\u001b[0m\u001b[1;33m.\u001b[0m\u001b[0mlock\u001b[0m\u001b[1;33m:\u001b[0m\u001b[1;33m\u001b[0m\u001b[1;33m\u001b[0m\u001b[0m\n\u001b[1;32m--> 388\u001b[1;33m             \u001b[0mself\u001b[0m\u001b[1;33m.\u001b[0m\u001b[0mfigure\u001b[0m\u001b[1;33m.\u001b[0m\u001b[0mdraw\u001b[0m\u001b[1;33m(\u001b[0m\u001b[0mself\u001b[0m\u001b[1;33m.\u001b[0m\u001b[0mrenderer\u001b[0m\u001b[1;33m)\u001b[0m\u001b[1;33m\u001b[0m\u001b[1;33m\u001b[0m\u001b[0m\n\u001b[0m\u001b[0;32m    389\u001b[0m             \u001b[1;31m# A GUI class may be need to update a window using this draw, so\u001b[0m\u001b[1;33m\u001b[0m\u001b[1;33m\u001b[0m\u001b[1;33m\u001b[0m\u001b[0m\n\u001b[0;32m    390\u001b[0m             \u001b[1;31m# don't forget to call the superclass.\u001b[0m\u001b[1;33m\u001b[0m\u001b[1;33m\u001b[0m\u001b[1;33m\u001b[0m\u001b[0m\n",
      "\u001b[1;32m~\\Anaconda3\\lib\\site-packages\\matplotlib\\artist.py\u001b[0m in \u001b[0;36mdraw_wrapper\u001b[1;34m(artist, renderer, *args, **kwargs)\u001b[0m\n\u001b[0;32m     36\u001b[0m                 \u001b[0mrenderer\u001b[0m\u001b[1;33m.\u001b[0m\u001b[0mstart_filter\u001b[0m\u001b[1;33m(\u001b[0m\u001b[1;33m)\u001b[0m\u001b[1;33m\u001b[0m\u001b[1;33m\u001b[0m\u001b[0m\n\u001b[0;32m     37\u001b[0m \u001b[1;33m\u001b[0m\u001b[0m\n\u001b[1;32m---> 38\u001b[1;33m             \u001b[1;32mreturn\u001b[0m \u001b[0mdraw\u001b[0m\u001b[1;33m(\u001b[0m\u001b[0martist\u001b[0m\u001b[1;33m,\u001b[0m \u001b[0mrenderer\u001b[0m\u001b[1;33m,\u001b[0m \u001b[1;33m*\u001b[0m\u001b[0margs\u001b[0m\u001b[1;33m,\u001b[0m \u001b[1;33m**\u001b[0m\u001b[0mkwargs\u001b[0m\u001b[1;33m)\u001b[0m\u001b[1;33m\u001b[0m\u001b[1;33m\u001b[0m\u001b[0m\n\u001b[0m\u001b[0;32m     39\u001b[0m         \u001b[1;32mfinally\u001b[0m\u001b[1;33m:\u001b[0m\u001b[1;33m\u001b[0m\u001b[1;33m\u001b[0m\u001b[0m\n\u001b[0;32m     40\u001b[0m             \u001b[1;32mif\u001b[0m \u001b[0martist\u001b[0m\u001b[1;33m.\u001b[0m\u001b[0mget_agg_filter\u001b[0m\u001b[1;33m(\u001b[0m\u001b[1;33m)\u001b[0m \u001b[1;32mis\u001b[0m \u001b[1;32mnot\u001b[0m \u001b[1;32mNone\u001b[0m\u001b[1;33m:\u001b[0m\u001b[1;33m\u001b[0m\u001b[1;33m\u001b[0m\u001b[0m\n",
      "\u001b[1;32m~\\Anaconda3\\lib\\site-packages\\matplotlib\\figure.py\u001b[0m in \u001b[0;36mdraw\u001b[1;34m(self, renderer)\u001b[0m\n\u001b[0;32m   1707\u001b[0m             \u001b[0mself\u001b[0m\u001b[1;33m.\u001b[0m\u001b[0mpatch\u001b[0m\u001b[1;33m.\u001b[0m\u001b[0mdraw\u001b[0m\u001b[1;33m(\u001b[0m\u001b[0mrenderer\u001b[0m\u001b[1;33m)\u001b[0m\u001b[1;33m\u001b[0m\u001b[1;33m\u001b[0m\u001b[0m\n\u001b[0;32m   1708\u001b[0m             mimage._draw_list_compositing_images(\n\u001b[1;32m-> 1709\u001b[1;33m                 renderer, self, artists, self.suppressComposite)\n\u001b[0m\u001b[0;32m   1710\u001b[0m \u001b[1;33m\u001b[0m\u001b[0m\n\u001b[0;32m   1711\u001b[0m             \u001b[0mrenderer\u001b[0m\u001b[1;33m.\u001b[0m\u001b[0mclose_group\u001b[0m\u001b[1;33m(\u001b[0m\u001b[1;34m'figure'\u001b[0m\u001b[1;33m)\u001b[0m\u001b[1;33m\u001b[0m\u001b[1;33m\u001b[0m\u001b[0m\n",
      "\u001b[1;32m~\\Anaconda3\\lib\\site-packages\\matplotlib\\image.py\u001b[0m in \u001b[0;36m_draw_list_compositing_images\u001b[1;34m(renderer, parent, artists, suppress_composite)\u001b[0m\n\u001b[0;32m    133\u001b[0m     \u001b[1;32mif\u001b[0m \u001b[0mnot_composite\u001b[0m \u001b[1;32mor\u001b[0m \u001b[1;32mnot\u001b[0m \u001b[0mhas_images\u001b[0m\u001b[1;33m:\u001b[0m\u001b[1;33m\u001b[0m\u001b[1;33m\u001b[0m\u001b[0m\n\u001b[0;32m    134\u001b[0m         \u001b[1;32mfor\u001b[0m \u001b[0ma\u001b[0m \u001b[1;32min\u001b[0m \u001b[0martists\u001b[0m\u001b[1;33m:\u001b[0m\u001b[1;33m\u001b[0m\u001b[1;33m\u001b[0m\u001b[0m\n\u001b[1;32m--> 135\u001b[1;33m             \u001b[0ma\u001b[0m\u001b[1;33m.\u001b[0m\u001b[0mdraw\u001b[0m\u001b[1;33m(\u001b[0m\u001b[0mrenderer\u001b[0m\u001b[1;33m)\u001b[0m\u001b[1;33m\u001b[0m\u001b[1;33m\u001b[0m\u001b[0m\n\u001b[0m\u001b[0;32m    136\u001b[0m     \u001b[1;32melse\u001b[0m\u001b[1;33m:\u001b[0m\u001b[1;33m\u001b[0m\u001b[1;33m\u001b[0m\u001b[0m\n\u001b[0;32m    137\u001b[0m         \u001b[1;31m# Composite any adjacent images together\u001b[0m\u001b[1;33m\u001b[0m\u001b[1;33m\u001b[0m\u001b[1;33m\u001b[0m\u001b[0m\n",
      "\u001b[1;32m~\\Anaconda3\\lib\\site-packages\\matplotlib\\artist.py\u001b[0m in \u001b[0;36mdraw_wrapper\u001b[1;34m(artist, renderer, *args, **kwargs)\u001b[0m\n\u001b[0;32m     36\u001b[0m                 \u001b[0mrenderer\u001b[0m\u001b[1;33m.\u001b[0m\u001b[0mstart_filter\u001b[0m\u001b[1;33m(\u001b[0m\u001b[1;33m)\u001b[0m\u001b[1;33m\u001b[0m\u001b[1;33m\u001b[0m\u001b[0m\n\u001b[0;32m     37\u001b[0m \u001b[1;33m\u001b[0m\u001b[0m\n\u001b[1;32m---> 38\u001b[1;33m             \u001b[1;32mreturn\u001b[0m \u001b[0mdraw\u001b[0m\u001b[1;33m(\u001b[0m\u001b[0martist\u001b[0m\u001b[1;33m,\u001b[0m \u001b[0mrenderer\u001b[0m\u001b[1;33m,\u001b[0m \u001b[1;33m*\u001b[0m\u001b[0margs\u001b[0m\u001b[1;33m,\u001b[0m \u001b[1;33m**\u001b[0m\u001b[0mkwargs\u001b[0m\u001b[1;33m)\u001b[0m\u001b[1;33m\u001b[0m\u001b[1;33m\u001b[0m\u001b[0m\n\u001b[0m\u001b[0;32m     39\u001b[0m         \u001b[1;32mfinally\u001b[0m\u001b[1;33m:\u001b[0m\u001b[1;33m\u001b[0m\u001b[1;33m\u001b[0m\u001b[0m\n\u001b[0;32m     40\u001b[0m             \u001b[1;32mif\u001b[0m \u001b[0martist\u001b[0m\u001b[1;33m.\u001b[0m\u001b[0mget_agg_filter\u001b[0m\u001b[1;33m(\u001b[0m\u001b[1;33m)\u001b[0m \u001b[1;32mis\u001b[0m \u001b[1;32mnot\u001b[0m \u001b[1;32mNone\u001b[0m\u001b[1;33m:\u001b[0m\u001b[1;33m\u001b[0m\u001b[1;33m\u001b[0m\u001b[0m\n",
      "\u001b[1;32m~\\Anaconda3\\lib\\site-packages\\mpl_toolkits\\mplot3d\\axes3d.py\u001b[0m in \u001b[0;36mdraw\u001b[1;34m(self, renderer)\u001b[0m\n\u001b[0;32m    304\u001b[0m             \u001b[1;31m# Then axes\u001b[0m\u001b[1;33m\u001b[0m\u001b[1;33m\u001b[0m\u001b[1;33m\u001b[0m\u001b[0m\n\u001b[0;32m    305\u001b[0m             \u001b[1;32mfor\u001b[0m \u001b[0maxis\u001b[0m \u001b[1;32min\u001b[0m \u001b[0mself\u001b[0m\u001b[1;33m.\u001b[0m\u001b[0m_get_axis_list\u001b[0m\u001b[1;33m(\u001b[0m\u001b[1;33m)\u001b[0m\u001b[1;33m:\u001b[0m\u001b[1;33m\u001b[0m\u001b[1;33m\u001b[0m\u001b[0m\n\u001b[1;32m--> 306\u001b[1;33m                 \u001b[0maxis\u001b[0m\u001b[1;33m.\u001b[0m\u001b[0mdraw\u001b[0m\u001b[1;33m(\u001b[0m\u001b[0mrenderer\u001b[0m\u001b[1;33m)\u001b[0m\u001b[1;33m\u001b[0m\u001b[1;33m\u001b[0m\u001b[0m\n\u001b[0m\u001b[0;32m    307\u001b[0m \u001b[1;33m\u001b[0m\u001b[0m\n\u001b[0;32m    308\u001b[0m         \u001b[1;31m# Then rest\u001b[0m\u001b[1;33m\u001b[0m\u001b[1;33m\u001b[0m\u001b[1;33m\u001b[0m\u001b[0m\n",
      "\u001b[1;32m~\\Anaconda3\\lib\\site-packages\\matplotlib\\artist.py\u001b[0m in \u001b[0;36mdraw_wrapper\u001b[1;34m(artist, renderer, *args, **kwargs)\u001b[0m\n\u001b[0;32m     36\u001b[0m                 \u001b[0mrenderer\u001b[0m\u001b[1;33m.\u001b[0m\u001b[0mstart_filter\u001b[0m\u001b[1;33m(\u001b[0m\u001b[1;33m)\u001b[0m\u001b[1;33m\u001b[0m\u001b[1;33m\u001b[0m\u001b[0m\n\u001b[0;32m     37\u001b[0m \u001b[1;33m\u001b[0m\u001b[0m\n\u001b[1;32m---> 38\u001b[1;33m             \u001b[1;32mreturn\u001b[0m \u001b[0mdraw\u001b[0m\u001b[1;33m(\u001b[0m\u001b[0martist\u001b[0m\u001b[1;33m,\u001b[0m \u001b[0mrenderer\u001b[0m\u001b[1;33m,\u001b[0m \u001b[1;33m*\u001b[0m\u001b[0margs\u001b[0m\u001b[1;33m,\u001b[0m \u001b[1;33m**\u001b[0m\u001b[0mkwargs\u001b[0m\u001b[1;33m)\u001b[0m\u001b[1;33m\u001b[0m\u001b[1;33m\u001b[0m\u001b[0m\n\u001b[0m\u001b[0;32m     39\u001b[0m         \u001b[1;32mfinally\u001b[0m\u001b[1;33m:\u001b[0m\u001b[1;33m\u001b[0m\u001b[1;33m\u001b[0m\u001b[0m\n\u001b[0;32m     40\u001b[0m             \u001b[1;32mif\u001b[0m \u001b[0martist\u001b[0m\u001b[1;33m.\u001b[0m\u001b[0mget_agg_filter\u001b[0m\u001b[1;33m(\u001b[0m\u001b[1;33m)\u001b[0m \u001b[1;32mis\u001b[0m \u001b[1;32mnot\u001b[0m \u001b[1;32mNone\u001b[0m\u001b[1;33m:\u001b[0m\u001b[1;33m\u001b[0m\u001b[1;33m\u001b[0m\u001b[0m\n",
      "\u001b[1;32m~\\Anaconda3\\lib\\site-packages\\mpl_toolkits\\mplot3d\\axis3d.py\u001b[0m in \u001b[0;36mdraw\u001b[1;34m(self, renderer)\u001b[0m\n\u001b[0;32m    288\u001b[0m         \u001b[0mself\u001b[0m\u001b[1;33m.\u001b[0m\u001b[0mlabel\u001b[0m\u001b[1;33m.\u001b[0m\u001b[0mset_va\u001b[0m\u001b[1;33m(\u001b[0m\u001b[0minfo\u001b[0m\u001b[1;33m[\u001b[0m\u001b[1;34m'label'\u001b[0m\u001b[1;33m]\u001b[0m\u001b[1;33m[\u001b[0m\u001b[1;34m'va'\u001b[0m\u001b[1;33m]\u001b[0m\u001b[1;33m)\u001b[0m\u001b[1;33m\u001b[0m\u001b[1;33m\u001b[0m\u001b[0m\n\u001b[0;32m    289\u001b[0m         \u001b[0mself\u001b[0m\u001b[1;33m.\u001b[0m\u001b[0mlabel\u001b[0m\u001b[1;33m.\u001b[0m\u001b[0mset_ha\u001b[0m\u001b[1;33m(\u001b[0m\u001b[0minfo\u001b[0m\u001b[1;33m[\u001b[0m\u001b[1;34m'label'\u001b[0m\u001b[1;33m]\u001b[0m\u001b[1;33m[\u001b[0m\u001b[1;34m'ha'\u001b[0m\u001b[1;33m]\u001b[0m\u001b[1;33m)\u001b[0m\u001b[1;33m\u001b[0m\u001b[1;33m\u001b[0m\u001b[0m\n\u001b[1;32m--> 290\u001b[1;33m         \u001b[0mself\u001b[0m\u001b[1;33m.\u001b[0m\u001b[0mlabel\u001b[0m\u001b[1;33m.\u001b[0m\u001b[0mdraw\u001b[0m\u001b[1;33m(\u001b[0m\u001b[0mrenderer\u001b[0m\u001b[1;33m)\u001b[0m\u001b[1;33m\u001b[0m\u001b[1;33m\u001b[0m\u001b[0m\n\u001b[0m\u001b[0;32m    291\u001b[0m \u001b[1;33m\u001b[0m\u001b[0m\n\u001b[0;32m    292\u001b[0m         \u001b[1;31m# Draw Offset text\u001b[0m\u001b[1;33m\u001b[0m\u001b[1;33m\u001b[0m\u001b[1;33m\u001b[0m\u001b[0m\n",
      "\u001b[1;32m~\\Anaconda3\\lib\\site-packages\\matplotlib\\artist.py\u001b[0m in \u001b[0;36mdraw_wrapper\u001b[1;34m(artist, renderer, *args, **kwargs)\u001b[0m\n\u001b[0;32m     36\u001b[0m                 \u001b[0mrenderer\u001b[0m\u001b[1;33m.\u001b[0m\u001b[0mstart_filter\u001b[0m\u001b[1;33m(\u001b[0m\u001b[1;33m)\u001b[0m\u001b[1;33m\u001b[0m\u001b[1;33m\u001b[0m\u001b[0m\n\u001b[0;32m     37\u001b[0m \u001b[1;33m\u001b[0m\u001b[0m\n\u001b[1;32m---> 38\u001b[1;33m             \u001b[1;32mreturn\u001b[0m \u001b[0mdraw\u001b[0m\u001b[1;33m(\u001b[0m\u001b[0martist\u001b[0m\u001b[1;33m,\u001b[0m \u001b[0mrenderer\u001b[0m\u001b[1;33m,\u001b[0m \u001b[1;33m*\u001b[0m\u001b[0margs\u001b[0m\u001b[1;33m,\u001b[0m \u001b[1;33m**\u001b[0m\u001b[0mkwargs\u001b[0m\u001b[1;33m)\u001b[0m\u001b[1;33m\u001b[0m\u001b[1;33m\u001b[0m\u001b[0m\n\u001b[0m\u001b[0;32m     39\u001b[0m         \u001b[1;32mfinally\u001b[0m\u001b[1;33m:\u001b[0m\u001b[1;33m\u001b[0m\u001b[1;33m\u001b[0m\u001b[0m\n\u001b[0;32m     40\u001b[0m             \u001b[1;32mif\u001b[0m \u001b[0martist\u001b[0m\u001b[1;33m.\u001b[0m\u001b[0mget_agg_filter\u001b[0m\u001b[1;33m(\u001b[0m\u001b[1;33m)\u001b[0m \u001b[1;32mis\u001b[0m \u001b[1;32mnot\u001b[0m \u001b[1;32mNone\u001b[0m\u001b[1;33m:\u001b[0m\u001b[1;33m\u001b[0m\u001b[1;33m\u001b[0m\u001b[0m\n",
      "\u001b[1;32m~\\Anaconda3\\lib\\site-packages\\matplotlib\\text.py\u001b[0m in \u001b[0;36mdraw\u001b[1;34m(self, renderer)\u001b[0m\n\u001b[0;32m    668\u001b[0m \u001b[1;33m\u001b[0m\u001b[0m\n\u001b[0;32m    669\u001b[0m         \u001b[1;32mwith\u001b[0m \u001b[0m_wrap_text\u001b[0m\u001b[1;33m(\u001b[0m\u001b[0mself\u001b[0m\u001b[1;33m)\u001b[0m \u001b[1;32mas\u001b[0m \u001b[0mtextobj\u001b[0m\u001b[1;33m:\u001b[0m\u001b[1;33m\u001b[0m\u001b[1;33m\u001b[0m\u001b[0m\n\u001b[1;32m--> 670\u001b[1;33m             \u001b[0mbbox\u001b[0m\u001b[1;33m,\u001b[0m \u001b[0minfo\u001b[0m\u001b[1;33m,\u001b[0m \u001b[0mdescent\u001b[0m \u001b[1;33m=\u001b[0m \u001b[0mtextobj\u001b[0m\u001b[1;33m.\u001b[0m\u001b[0m_get_layout\u001b[0m\u001b[1;33m(\u001b[0m\u001b[0mrenderer\u001b[0m\u001b[1;33m)\u001b[0m\u001b[1;33m\u001b[0m\u001b[1;33m\u001b[0m\u001b[0m\n\u001b[0m\u001b[0;32m    671\u001b[0m             \u001b[0mtrans\u001b[0m \u001b[1;33m=\u001b[0m \u001b[0mtextobj\u001b[0m\u001b[1;33m.\u001b[0m\u001b[0mget_transform\u001b[0m\u001b[1;33m(\u001b[0m\u001b[1;33m)\u001b[0m\u001b[1;33m\u001b[0m\u001b[1;33m\u001b[0m\u001b[0m\n\u001b[0;32m    672\u001b[0m \u001b[1;33m\u001b[0m\u001b[0m\n",
      "\u001b[1;32m~\\Anaconda3\\lib\\site-packages\\matplotlib\\text.py\u001b[0m in \u001b[0;36m_get_layout\u001b[1;34m(self, renderer)\u001b[0m\n\u001b[0;32m    296\u001b[0m             \u001b[1;32mif\u001b[0m \u001b[0mclean_line\u001b[0m\u001b[1;33m:\u001b[0m\u001b[1;33m\u001b[0m\u001b[1;33m\u001b[0m\u001b[0m\n\u001b[0;32m    297\u001b[0m                 w, h, d = renderer.get_text_width_height_descent(\n\u001b[1;32m--> 298\u001b[1;33m                     clean_line, self._fontproperties, ismath=ismath)\n\u001b[0m\u001b[0;32m    299\u001b[0m             \u001b[1;32melse\u001b[0m\u001b[1;33m:\u001b[0m\u001b[1;33m\u001b[0m\u001b[1;33m\u001b[0m\u001b[0m\n\u001b[0;32m    300\u001b[0m                 \u001b[0mw\u001b[0m \u001b[1;33m=\u001b[0m \u001b[0mh\u001b[0m \u001b[1;33m=\u001b[0m \u001b[0md\u001b[0m \u001b[1;33m=\u001b[0m \u001b[1;36m0\u001b[0m\u001b[1;33m\u001b[0m\u001b[1;33m\u001b[0m\u001b[0m\n",
      "\u001b[1;32m~\\Anaconda3\\lib\\site-packages\\matplotlib\\backends\\backend_agg.py\u001b[0m in \u001b[0;36mget_text_width_height_descent\u001b[1;34m(self, s, prop, ismath)\u001b[0m\n\u001b[0;32m    204\u001b[0m         \u001b[1;32mif\u001b[0m \u001b[0mismath\u001b[0m\u001b[1;33m:\u001b[0m\u001b[1;33m\u001b[0m\u001b[1;33m\u001b[0m\u001b[0m\n\u001b[0;32m    205\u001b[0m             \u001b[0mox\u001b[0m\u001b[1;33m,\u001b[0m \u001b[0moy\u001b[0m\u001b[1;33m,\u001b[0m \u001b[0mwidth\u001b[0m\u001b[1;33m,\u001b[0m \u001b[0mheight\u001b[0m\u001b[1;33m,\u001b[0m \u001b[0mdescent\u001b[0m\u001b[1;33m,\u001b[0m \u001b[0mfonts\u001b[0m\u001b[1;33m,\u001b[0m \u001b[0mused_characters\u001b[0m \u001b[1;33m=\u001b[0m\u001b[0;31m \u001b[0m\u001b[0;31m\\\u001b[0m\u001b[1;33m\u001b[0m\u001b[1;33m\u001b[0m\u001b[0m\n\u001b[1;32m--> 206\u001b[1;33m                 \u001b[0mself\u001b[0m\u001b[1;33m.\u001b[0m\u001b[0mmathtext_parser\u001b[0m\u001b[1;33m.\u001b[0m\u001b[0mparse\u001b[0m\u001b[1;33m(\u001b[0m\u001b[0ms\u001b[0m\u001b[1;33m,\u001b[0m \u001b[0mself\u001b[0m\u001b[1;33m.\u001b[0m\u001b[0mdpi\u001b[0m\u001b[1;33m,\u001b[0m \u001b[0mprop\u001b[0m\u001b[1;33m)\u001b[0m\u001b[1;33m\u001b[0m\u001b[1;33m\u001b[0m\u001b[0m\n\u001b[0m\u001b[0;32m    207\u001b[0m             \u001b[1;32mreturn\u001b[0m \u001b[0mwidth\u001b[0m\u001b[1;33m,\u001b[0m \u001b[0mheight\u001b[0m\u001b[1;33m,\u001b[0m \u001b[0mdescent\u001b[0m\u001b[1;33m\u001b[0m\u001b[1;33m\u001b[0m\u001b[0m\n\u001b[0;32m    208\u001b[0m \u001b[1;33m\u001b[0m\u001b[0m\n",
      "\u001b[1;32m~\\Anaconda3\\lib\\site-packages\\matplotlib\\mathtext.py\u001b[0m in \u001b[0;36mparse\u001b[1;34m(self, s, dpi, prop)\u001b[0m\n\u001b[0;32m   3360\u001b[0m             \u001b[0mcbook\u001b[0m\u001b[1;33m.\u001b[0m\u001b[0m_check_in_list\u001b[0m\u001b[1;33m(\u001b[0m\u001b[0mself\u001b[0m\u001b[1;33m.\u001b[0m\u001b[0m_font_type_mapping\u001b[0m\u001b[1;33m,\u001b[0m \u001b[0mfontset\u001b[0m\u001b[1;33m=\u001b[0m\u001b[0mfontset\u001b[0m\u001b[1;33m)\u001b[0m\u001b[1;33m\u001b[0m\u001b[1;33m\u001b[0m\u001b[0m\n\u001b[0;32m   3361\u001b[0m             \u001b[0mfontset_class\u001b[0m \u001b[1;33m=\u001b[0m \u001b[0mself\u001b[0m\u001b[1;33m.\u001b[0m\u001b[0m_font_type_mapping\u001b[0m\u001b[1;33m[\u001b[0m\u001b[0mfontset\u001b[0m\u001b[1;33m]\u001b[0m\u001b[1;33m\u001b[0m\u001b[1;33m\u001b[0m\u001b[0m\n\u001b[1;32m-> 3362\u001b[1;33m             \u001b[0mfont_output\u001b[0m \u001b[1;33m=\u001b[0m \u001b[0mfontset_class\u001b[0m\u001b[1;33m(\u001b[0m\u001b[0mprop\u001b[0m\u001b[1;33m,\u001b[0m \u001b[0mbackend\u001b[0m\u001b[1;33m)\u001b[0m\u001b[1;33m\u001b[0m\u001b[1;33m\u001b[0m\u001b[0m\n\u001b[0m\u001b[0;32m   3363\u001b[0m \u001b[1;33m\u001b[0m\u001b[0m\n\u001b[0;32m   3364\u001b[0m         \u001b[0mfontsize\u001b[0m \u001b[1;33m=\u001b[0m \u001b[0mprop\u001b[0m\u001b[1;33m.\u001b[0m\u001b[0mget_size_in_points\u001b[0m\u001b[1;33m(\u001b[0m\u001b[1;33m)\u001b[0m\u001b[1;33m\u001b[0m\u001b[1;33m\u001b[0m\u001b[0m\n",
      "\u001b[1;32m~\\Anaconda3\\lib\\site-packages\\matplotlib\\mathtext.py\u001b[0m in \u001b[0;36m__init__\u001b[1;34m(self, *args, **kwargs)\u001b[0m\n\u001b[0;32m    881\u001b[0m             \u001b[0mself\u001b[0m\u001b[1;33m.\u001b[0m\u001b[0mcm_fallback\u001b[0m \u001b[1;33m=\u001b[0m \u001b[0mStixFonts\u001b[0m\u001b[1;33m(\u001b[0m\u001b[1;33m*\u001b[0m\u001b[0margs\u001b[0m\u001b[1;33m,\u001b[0m \u001b[1;33m**\u001b[0m\u001b[0mkwargs\u001b[0m\u001b[1;33m)\u001b[0m\u001b[1;33m\u001b[0m\u001b[1;33m\u001b[0m\u001b[0m\n\u001b[0;32m    882\u001b[0m         \u001b[1;32melse\u001b[0m\u001b[1;33m:\u001b[0m\u001b[1;33m\u001b[0m\u001b[1;33m\u001b[0m\u001b[0m\n\u001b[1;32m--> 883\u001b[1;33m             \u001b[0mself\u001b[0m\u001b[1;33m.\u001b[0m\u001b[0mcm_fallback\u001b[0m \u001b[1;33m=\u001b[0m \u001b[0mStixSansFonts\u001b[0m\u001b[1;33m(\u001b[0m\u001b[1;33m*\u001b[0m\u001b[0margs\u001b[0m\u001b[1;33m,\u001b[0m \u001b[1;33m**\u001b[0m\u001b[0mkwargs\u001b[0m\u001b[1;33m)\u001b[0m\u001b[1;33m\u001b[0m\u001b[1;33m\u001b[0m\u001b[0m\n\u001b[0m\u001b[0;32m    884\u001b[0m         \u001b[0mself\u001b[0m\u001b[1;33m.\u001b[0m\u001b[0mbakoma\u001b[0m \u001b[1;33m=\u001b[0m \u001b[0mBakomaFonts\u001b[0m\u001b[1;33m(\u001b[0m\u001b[1;33m*\u001b[0m\u001b[0margs\u001b[0m\u001b[1;33m,\u001b[0m \u001b[1;33m**\u001b[0m\u001b[0mkwargs\u001b[0m\u001b[1;33m)\u001b[0m\u001b[1;33m\u001b[0m\u001b[1;33m\u001b[0m\u001b[0m\n\u001b[0;32m    885\u001b[0m         \u001b[0mTruetypeFonts\u001b[0m\u001b[1;33m.\u001b[0m\u001b[0m__init__\u001b[0m\u001b[1;33m(\u001b[0m\u001b[0mself\u001b[0m\u001b[1;33m,\u001b[0m \u001b[1;33m*\u001b[0m\u001b[0margs\u001b[0m\u001b[1;33m,\u001b[0m \u001b[1;33m**\u001b[0m\u001b[0mkwargs\u001b[0m\u001b[1;33m)\u001b[0m\u001b[1;33m\u001b[0m\u001b[1;33m\u001b[0m\u001b[0m\n",
      "\u001b[1;32m~\\Anaconda3\\lib\\site-packages\\matplotlib\\mathtext.py\u001b[0m in \u001b[0;36m__init__\u001b[1;34m(self, *args, **kwargs)\u001b[0m\n\u001b[0;32m    982\u001b[0m         \u001b[0mself\u001b[0m\u001b[1;33m.\u001b[0m\u001b[0mfontmap\u001b[0m \u001b[1;33m=\u001b[0m \u001b[1;33m{\u001b[0m\u001b[1;33m}\u001b[0m\u001b[1;33m\u001b[0m\u001b[1;33m\u001b[0m\u001b[0m\n\u001b[0;32m    983\u001b[0m         \u001b[1;32mfor\u001b[0m \u001b[0mkey\u001b[0m\u001b[1;33m,\u001b[0m \u001b[0mname\u001b[0m \u001b[1;32min\u001b[0m \u001b[0mself\u001b[0m\u001b[1;33m.\u001b[0m\u001b[0m_fontmap\u001b[0m\u001b[1;33m.\u001b[0m\u001b[0mitems\u001b[0m\u001b[1;33m(\u001b[0m\u001b[1;33m)\u001b[0m\u001b[1;33m:\u001b[0m\u001b[1;33m\u001b[0m\u001b[1;33m\u001b[0m\u001b[0m\n\u001b[1;32m--> 984\u001b[1;33m             \u001b[0mfullpath\u001b[0m \u001b[1;33m=\u001b[0m \u001b[0mfindfont\u001b[0m\u001b[1;33m(\u001b[0m\u001b[0mname\u001b[0m\u001b[1;33m)\u001b[0m\u001b[1;33m\u001b[0m\u001b[1;33m\u001b[0m\u001b[0m\n\u001b[0m\u001b[0;32m    985\u001b[0m             \u001b[0mself\u001b[0m\u001b[1;33m.\u001b[0m\u001b[0mfontmap\u001b[0m\u001b[1;33m[\u001b[0m\u001b[0mkey\u001b[0m\u001b[1;33m]\u001b[0m \u001b[1;33m=\u001b[0m \u001b[0mfullpath\u001b[0m\u001b[1;33m\u001b[0m\u001b[1;33m\u001b[0m\u001b[0m\n\u001b[0;32m    986\u001b[0m             \u001b[0mself\u001b[0m\u001b[1;33m.\u001b[0m\u001b[0mfontmap\u001b[0m\u001b[1;33m[\u001b[0m\u001b[0mname\u001b[0m\u001b[1;33m]\u001b[0m \u001b[1;33m=\u001b[0m \u001b[0mfullpath\u001b[0m\u001b[1;33m\u001b[0m\u001b[1;33m\u001b[0m\u001b[0m\n",
      "\u001b[1;32m~\\Anaconda3\\lib\\site-packages\\matplotlib\\font_manager.py\u001b[0m in \u001b[0;36mfindfont\u001b[1;34m(self, prop, fontext, directory, fallback_to_default, rebuild_if_missing)\u001b[0m\n\u001b[0;32m   1236\u001b[0m         return self._findfont_cached(\n\u001b[0;32m   1237\u001b[0m             \u001b[0mprop\u001b[0m\u001b[1;33m,\u001b[0m \u001b[0mfontext\u001b[0m\u001b[1;33m,\u001b[0m \u001b[0mdirectory\u001b[0m\u001b[1;33m,\u001b[0m \u001b[0mfallback_to_default\u001b[0m\u001b[1;33m,\u001b[0m \u001b[0mrebuild_if_missing\u001b[0m\u001b[1;33m,\u001b[0m\u001b[1;33m\u001b[0m\u001b[1;33m\u001b[0m\u001b[0m\n\u001b[1;32m-> 1238\u001b[1;33m             rc_params)\n\u001b[0m\u001b[0;32m   1239\u001b[0m \u001b[1;33m\u001b[0m\u001b[0m\n\u001b[0;32m   1240\u001b[0m     \u001b[1;33m@\u001b[0m\u001b[0mlru_cache\u001b[0m\u001b[1;33m(\u001b[0m\u001b[1;33m)\u001b[0m\u001b[1;33m\u001b[0m\u001b[1;33m\u001b[0m\u001b[0m\n",
      "\u001b[1;32m~\\Anaconda3\\lib\\site-packages\\matplotlib\\font_manager.py\u001b[0m in \u001b[0;36m_findfont_cached\u001b[1;34m(self, prop, fontext, directory, fallback_to_default, rebuild_if_missing, rc_params)\u001b[0m\n\u001b[0;32m   1283\u001b[0m                 \u001b[0mdefault_prop\u001b[0m \u001b[1;33m=\u001b[0m \u001b[0mprop\u001b[0m\u001b[1;33m.\u001b[0m\u001b[0mcopy\u001b[0m\u001b[1;33m(\u001b[0m\u001b[1;33m)\u001b[0m\u001b[1;33m\u001b[0m\u001b[1;33m\u001b[0m\u001b[0m\n\u001b[0;32m   1284\u001b[0m                 \u001b[0mdefault_prop\u001b[0m\u001b[1;33m.\u001b[0m\u001b[0mset_family\u001b[0m\u001b[1;33m(\u001b[0m\u001b[0mself\u001b[0m\u001b[1;33m.\u001b[0m\u001b[0mdefaultFamily\u001b[0m\u001b[1;33m[\u001b[0m\u001b[0mfontext\u001b[0m\u001b[1;33m]\u001b[0m\u001b[1;33m)\u001b[0m\u001b[1;33m\u001b[0m\u001b[1;33m\u001b[0m\u001b[0m\n\u001b[1;32m-> 1285\u001b[1;33m                 \u001b[1;32mreturn\u001b[0m \u001b[0mself\u001b[0m\u001b[1;33m.\u001b[0m\u001b[0mfindfont\u001b[0m\u001b[1;33m(\u001b[0m\u001b[0mdefault_prop\u001b[0m\u001b[1;33m,\u001b[0m \u001b[0mfontext\u001b[0m\u001b[1;33m,\u001b[0m \u001b[0mdirectory\u001b[0m\u001b[1;33m,\u001b[0m \u001b[1;32mFalse\u001b[0m\u001b[1;33m)\u001b[0m\u001b[1;33m\u001b[0m\u001b[1;33m\u001b[0m\u001b[0m\n\u001b[0m\u001b[0;32m   1286\u001b[0m             \u001b[1;32melse\u001b[0m\u001b[1;33m:\u001b[0m\u001b[1;33m\u001b[0m\u001b[1;33m\u001b[0m\u001b[0m\n\u001b[0;32m   1287\u001b[0m                 \u001b[1;31m# This is a hard fail -- we can't find anything reasonable,\u001b[0m\u001b[1;33m\u001b[0m\u001b[1;33m\u001b[0m\u001b[1;33m\u001b[0m\u001b[0m\n",
      "\u001b[1;32m~\\Anaconda3\\lib\\site-packages\\matplotlib\\font_manager.py\u001b[0m in \u001b[0;36mfindfont\u001b[1;34m(self, prop, fontext, directory, fallback_to_default, rebuild_if_missing)\u001b[0m\n\u001b[0;32m   1236\u001b[0m         return self._findfont_cached(\n\u001b[0;32m   1237\u001b[0m             \u001b[0mprop\u001b[0m\u001b[1;33m,\u001b[0m \u001b[0mfontext\u001b[0m\u001b[1;33m,\u001b[0m \u001b[0mdirectory\u001b[0m\u001b[1;33m,\u001b[0m \u001b[0mfallback_to_default\u001b[0m\u001b[1;33m,\u001b[0m \u001b[0mrebuild_if_missing\u001b[0m\u001b[1;33m,\u001b[0m\u001b[1;33m\u001b[0m\u001b[1;33m\u001b[0m\u001b[0m\n\u001b[1;32m-> 1238\u001b[1;33m             rc_params)\n\u001b[0m\u001b[0;32m   1239\u001b[0m \u001b[1;33m\u001b[0m\u001b[0m\n\u001b[0;32m   1240\u001b[0m     \u001b[1;33m@\u001b[0m\u001b[0mlru_cache\u001b[0m\u001b[1;33m(\u001b[0m\u001b[1;33m)\u001b[0m\u001b[1;33m\u001b[0m\u001b[1;33m\u001b[0m\u001b[0m\n",
      "\u001b[1;32m~\\Anaconda3\\lib\\site-packages\\matplotlib\\font_manager.py\u001b[0m in \u001b[0;36m_findfont_cached\u001b[1;34m(self, prop, fontext, directory, fallback_to_default, rebuild_if_missing, rc_params)\u001b[0m\n\u001b[0;32m   1288\u001b[0m                 \u001b[1;31m# so just return the DejaVuSans.ttf\u001b[0m\u001b[1;33m\u001b[0m\u001b[1;33m\u001b[0m\u001b[1;33m\u001b[0m\u001b[0m\n\u001b[0;32m   1289\u001b[0m                 _log.warning('findfont: Could not match %s. Returning %s.',\n\u001b[1;32m-> 1290\u001b[1;33m                              prop, self.defaultFont[fontext])\n\u001b[0m\u001b[0;32m   1291\u001b[0m                 \u001b[0mresult\u001b[0m \u001b[1;33m=\u001b[0m \u001b[0mself\u001b[0m\u001b[1;33m.\u001b[0m\u001b[0mdefaultFont\u001b[0m\u001b[1;33m[\u001b[0m\u001b[0mfontext\u001b[0m\u001b[1;33m]\u001b[0m\u001b[1;33m\u001b[0m\u001b[1;33m\u001b[0m\u001b[0m\n\u001b[0;32m   1292\u001b[0m         \u001b[1;32melse\u001b[0m\u001b[1;33m:\u001b[0m\u001b[1;33m\u001b[0m\u001b[1;33m\u001b[0m\u001b[0m\n",
      "\u001b[1;32m~\\Anaconda3\\lib\\site-packages\\matplotlib\\font_manager.py\u001b[0m in \u001b[0;36mdefaultFont\u001b[1;34m(self)\u001b[0m\n\u001b[0;32m   1033\u001b[0m         \u001b[1;31m# the venv path in the json serialization.\u001b[0m\u001b[1;33m\u001b[0m\u001b[1;33m\u001b[0m\u001b[1;33m\u001b[0m\u001b[0m\n\u001b[0;32m   1034\u001b[0m         return {ext: self.findfont(family, fontext=ext)\n\u001b[1;32m-> 1035\u001b[1;33m                 for ext, family in self.defaultFamily.items()}\n\u001b[0m\u001b[0;32m   1036\u001b[0m \u001b[1;33m\u001b[0m\u001b[0m\n\u001b[0;32m   1037\u001b[0m     \u001b[1;32mdef\u001b[0m \u001b[0mget_default_weight\u001b[0m\u001b[1;33m(\u001b[0m\u001b[0mself\u001b[0m\u001b[1;33m)\u001b[0m\u001b[1;33m:\u001b[0m\u001b[1;33m\u001b[0m\u001b[1;33m\u001b[0m\u001b[0m\n",
      "\u001b[1;32m~\\Anaconda3\\lib\\site-packages\\matplotlib\\font_manager.py\u001b[0m in \u001b[0;36m<dictcomp>\u001b[1;34m(.0)\u001b[0m\n\u001b[0;32m   1033\u001b[0m         \u001b[1;31m# the venv path in the json serialization.\u001b[0m\u001b[1;33m\u001b[0m\u001b[1;33m\u001b[0m\u001b[1;33m\u001b[0m\u001b[0m\n\u001b[0;32m   1034\u001b[0m         return {ext: self.findfont(family, fontext=ext)\n\u001b[1;32m-> 1035\u001b[1;33m                 for ext, family in self.defaultFamily.items()}\n\u001b[0m\u001b[0;32m   1036\u001b[0m \u001b[1;33m\u001b[0m\u001b[0m\n\u001b[0;32m   1037\u001b[0m     \u001b[1;32mdef\u001b[0m \u001b[0mget_default_weight\u001b[0m\u001b[1;33m(\u001b[0m\u001b[0mself\u001b[0m\u001b[1;33m)\u001b[0m\u001b[1;33m:\u001b[0m\u001b[1;33m\u001b[0m\u001b[1;33m\u001b[0m\u001b[0m\n",
      "... last 6 frames repeated, from the frame below ...\n",
      "\u001b[1;32m~\\Anaconda3\\lib\\site-packages\\matplotlib\\font_manager.py\u001b[0m in \u001b[0;36mfindfont\u001b[1;34m(self, prop, fontext, directory, fallback_to_default, rebuild_if_missing)\u001b[0m\n\u001b[0;32m   1236\u001b[0m         return self._findfont_cached(\n\u001b[0;32m   1237\u001b[0m             \u001b[0mprop\u001b[0m\u001b[1;33m,\u001b[0m \u001b[0mfontext\u001b[0m\u001b[1;33m,\u001b[0m \u001b[0mdirectory\u001b[0m\u001b[1;33m,\u001b[0m \u001b[0mfallback_to_default\u001b[0m\u001b[1;33m,\u001b[0m \u001b[0mrebuild_if_missing\u001b[0m\u001b[1;33m,\u001b[0m\u001b[1;33m\u001b[0m\u001b[1;33m\u001b[0m\u001b[0m\n\u001b[1;32m-> 1238\u001b[1;33m             rc_params)\n\u001b[0m\u001b[0;32m   1239\u001b[0m \u001b[1;33m\u001b[0m\u001b[0m\n\u001b[0;32m   1240\u001b[0m     \u001b[1;33m@\u001b[0m\u001b[0mlru_cache\u001b[0m\u001b[1;33m(\u001b[0m\u001b[1;33m)\u001b[0m\u001b[1;33m\u001b[0m\u001b[1;33m\u001b[0m\u001b[0m\n",
      "\u001b[1;31mRecursionError\u001b[0m: maximum recursion depth exceeded while calling a Python object"
     ],
     "ename": "RecursionError",
     "evalue": "maximum recursion depth exceeded while calling a Python object",
     "output_type": "error"
    },
    {
     "data": {
      "text/plain": "<Figure size 432x288 with 1 Axes>"
     },
     "metadata": {
      "needs_background": "light"
     },
     "output_type": "display_data"
    }
   ],
   "source": [
    "%matplotlib inline\n",
    "import matplotlib.pyplot as plt\n",
    "from mpl_toolkits.mplot3d import Axes3D\n",
    "try:\n",
    "    from scipy.constants import g, pi\n",
    "except ImportError:\n",
    "    g = 9.80665\n",
    "    from math import pi\n",
    "    \n",
    "xx = np.linspace(0.5, 50, 200)\n",
    "yy = np.linspace(1e-6, pi / 2, 200)\n",
    "xx, yy = np.meshgrid(xx, yy)\n",
    "points = np.stack([xx, yy], axis=2)\n",
    "def s(coords):\n",
    "    v, angle = coords\n",
    "    return v * v * np.sin(2 * angle) / g \n",
    "dist = np.apply_along_axis(s, -1, points)\n",
    "\n",
    "fig = plt.figure()\n",
    "ax = fig.add_subplot(1, 1, 1, projection='3d')\n",
    "ax.plot_surface(xx, yy, dist)\n",
    "ax.plot_surface(xx, yy, dist + 10, alpha=0.3)  # верхняя граница ответа \"попал\" в тренировочных данных\n",
    "ax.plot_surface(xx, yy, dist - 10, alpha=0.3)  # нижняя граница ответа \"попал\" в тренировочных данных\n",
    "plt.xlabel(r\"$v_x$\")\n",
    "plt.ylabel(r\"$v_y$\")\n",
    "xlim = plt.xlim()  # чтобы построить следующий график в том же масштабе\n",
    "ylim = plt.ylim()  # чтобы построить следующий график в том же масштабе\n",
    "zlim = ax.get_zlim()\n",
    "ax.set_zlim(0, 200)\n",
    "plt.show()"
   ]
  },
  {
   "cell_type": "markdown",
   "metadata": {},
   "source": [
    "Осталось понять, как сравнить с этим решающую поверхность, полученную нашей сетью. Нарисуем все начальные точки вида (угол, скорость, дальность мишени), которые классифицируются как \"будет попадание\". То есть покажем натренированной нейронной сети много-много разных точек и отметим на графике те, которые, на её взгляд, соответствуют ситуации попадания в мишень. \n",
    "\n",
    "Так как точек много, будем смотреть только широкое \"облако\" около правильной поверхности, но не все точки в кубе. Осторожно: график будет строиться долго (мы $100\\times 200\\times 40 = 800\\,000$ раз прогоняем данные через нейросеть)!"
   ]
  },
  {
   "cell_type": "code",
   "execution_count": 14,
   "metadata": {
    "collapsed": false,
    "pycharm": {
     "is_executing": false
    }
   },
   "outputs": [],
   "source": [
    "xx = np.linspace(0.5, 100, 100)\n",
    "yy = np.linspace(0, pi / 2, 180)\n",
    "dd = np.linspace( -10,  10, 40)  # только точки от -2.5 до 2.5 должны бы войти в график, но посмотрим\n",
    "def normalize(a):\n",
    "    \"\"\"нормализует очередной вход тестовых данных, подготавливая его к обработке нейросетью\"\"\"\n",
    "    return ((np.array(a) - means[:-1]) / stds[:-1])[:, np.newaxis]\n",
    "dots = np.array([(x, y, d + s([x, y])) for x in xx for y in yy for d in dd \n",
    "                 if np.argmax(nn.feedforward(normalize((x, y, d + s([x, y]))))) == 0])"
   ]
  },
  {
   "cell_type": "code",
   "execution_count": 15,
   "metadata": {
    "collapsed": false,
    "pycharm": {
     "is_executing": false
    }
   },
   "outputs": [
    {
     "traceback": [
      "\u001b[1;31m---------------------------------------------------------------------------\u001b[0m",
      "\u001b[1;31mIndexError\u001b[0m                                Traceback (most recent call last)",
      "\u001b[1;32m<ipython-input-15-759d17405295>\u001b[0m in \u001b[0;36m<module>\u001b[1;34m\u001b[0m\n\u001b[0;32m      1\u001b[0m \u001b[0mfig\u001b[0m \u001b[1;33m=\u001b[0m \u001b[0mplt\u001b[0m\u001b[1;33m.\u001b[0m\u001b[0mfigure\u001b[0m\u001b[1;33m(\u001b[0m\u001b[1;33m)\u001b[0m\u001b[1;33m\u001b[0m\u001b[1;33m\u001b[0m\u001b[0m\n\u001b[0;32m      2\u001b[0m \u001b[0max\u001b[0m \u001b[1;33m=\u001b[0m \u001b[0mfig\u001b[0m\u001b[1;33m.\u001b[0m\u001b[0madd_subplot\u001b[0m\u001b[1;33m(\u001b[0m\u001b[1;36m1\u001b[0m\u001b[1;33m,\u001b[0m \u001b[1;36m1\u001b[0m\u001b[1;33m,\u001b[0m \u001b[1;36m1\u001b[0m\u001b[1;33m,\u001b[0m \u001b[0mprojection\u001b[0m\u001b[1;33m=\u001b[0m\u001b[1;34m'3d'\u001b[0m\u001b[1;33m)\u001b[0m\u001b[1;33m\u001b[0m\u001b[1;33m\u001b[0m\u001b[0m\n\u001b[1;32m----> 3\u001b[1;33m \u001b[0max\u001b[0m\u001b[1;33m.\u001b[0m\u001b[0mscatter\u001b[0m\u001b[1;33m(\u001b[0m\u001b[0mdots\u001b[0m\u001b[1;33m[\u001b[0m\u001b[1;33m:\u001b[0m\u001b[1;33m,\u001b[0m \u001b[1;36m0\u001b[0m\u001b[1;33m]\u001b[0m\u001b[1;33m,\u001b[0m \u001b[0mdots\u001b[0m\u001b[1;33m[\u001b[0m\u001b[1;33m:\u001b[0m\u001b[1;33m,\u001b[0m \u001b[1;36m1\u001b[0m\u001b[1;33m]\u001b[0m\u001b[1;33m,\u001b[0m \u001b[0mdots\u001b[0m\u001b[1;33m[\u001b[0m\u001b[1;33m:\u001b[0m\u001b[1;33m,\u001b[0m \u001b[1;36m2\u001b[0m\u001b[1;33m]\u001b[0m\u001b[1;33m,\u001b[0m \u001b[0malpha\u001b[0m\u001b[1;33m=\u001b[0m\u001b[1;36m0.5\u001b[0m\u001b[1;33m)\u001b[0m\u001b[1;33m\u001b[0m\u001b[1;33m\u001b[0m\u001b[0m\n\u001b[0m\u001b[0;32m      4\u001b[0m \u001b[0mplt\u001b[0m\u001b[1;33m.\u001b[0m\u001b[0mxlim\u001b[0m\u001b[1;33m(\u001b[0m\u001b[1;33m*\u001b[0m\u001b[0mxlim\u001b[0m\u001b[1;33m)\u001b[0m\u001b[1;33m\u001b[0m\u001b[1;33m\u001b[0m\u001b[0m\n\u001b[0;32m      5\u001b[0m \u001b[0mplt\u001b[0m\u001b[1;33m.\u001b[0m\u001b[0mylim\u001b[0m\u001b[1;33m(\u001b[0m\u001b[1;33m*\u001b[0m\u001b[0mylim\u001b[0m\u001b[1;33m)\u001b[0m\u001b[1;33m\u001b[0m\u001b[1;33m\u001b[0m\u001b[0m\n",
      "\u001b[1;31mIndexError\u001b[0m: too many indices for array"
     ],
     "ename": "IndexError",
     "evalue": "too many indices for array",
     "output_type": "error"
    },
    {
     "data": {
      "text/plain": "<Figure size 432x288 with 1 Axes>",
      "image/png": "[encoded data removed]"
     },
     "metadata": {
      "needs_background": "light"
     },
     "output_type": "display_data"
    }
   ],
   "source": [
    "fig = plt.figure()\n",
    "ax = fig.add_subplot(1, 1, 1, projection='3d')\n",
    "ax.scatter(dots[:, 0], dots[:, 1], dots[:, 2], alpha=0.5)\n",
    "plt.xlim(*xlim)\n",
    "plt.ylim(*ylim)\n",
    "ax.set_zlim(*zlim)\n",
    "plt.show()"
   ]
  },
  {
   "cell_type": "markdown",
   "metadata": {},
   "source": [
    "Итак, мы разобрались с тем, что предсказания наша сеть делает, и они примерно правильные. Но мы взяли просто сеть с потолка: почему именно 6 нейронов на внутреннем слое? Почему только один внутренний слой?\n",
    "Давайте поэкспериментируем с этим!"
   ]
  },
  {
   "cell_type": "code",
   "execution_count": 16,
   "metadata": {
    "collapsed": false,
    "pycharm": {
     "is_executing": false
    }
   },
   "outputs": [
    {
     "data": {
      "text/plain": "interactive(children=(IntSlider(value=6, continuous_update=False, description='1st inner layer: ', max=10), In…",
      "application/vnd.jupyter.widget-view+json": {
       "version_major": 2,
       "version_minor": 0,
       "model_id": "2b0a6c2936344418b69abf36861d3200"
      }
     },
     "metadata": {},
     "output_type": "display_data"
    }
   ],
   "source": [
    "from ipywidgets import *\n",
    "@interact(layer1=IntSlider(min=0, max=10, continuous_update=False, description=\"1st inner layer: \", value=6),\n",
    "          layer2=IntSlider(min=0, max=10, continuous_update=False, description=\"2nd inner layer:\"),\n",
    "          layer3=IntSlider(min=0, max=10, continuous_update=False, description=\"3rd inner layer: \"),\n",
    "          batch_size=BoundedIntText(min=1, max=len(data), value=10, description=\"Batch size: \"),\n",
    "          learning_rate=Dropdown(options=[\"0.01\", \"0.05\", \"0.1\", \"0.5\", \"1\", \"5\", \"10\"], \n",
    "                                 description=\"Learning rate: \")\n",
    "         )\n",
    "def learning_curve_by_network_structure(layer1, layer2, layer3, batch_size, learning_rate):\n",
    "    layers = [x for x in [input_count, layer1, layer2, layer3, output_count] if x > 0]\n",
    "    nn = Network(layers, output=False)\n",
    "    learning_rate=float(learning_rate)\n",
    "    \n",
    "    CER = []\n",
    "    cost_train = []\n",
    "    cost_test  = []\n",
    "    for _ in range(150):\n",
    "        nn.SGD(training_data=train, epochs=1, mini_batch_size=batch_size, eta=learning_rate)\n",
    "        CER.append(1 - nn.evaluate(test) / len(test))\n",
    "        cost_test.append(cost_function(nn, test, onehot=False))\n",
    "        cost_train.append(cost_function(nn, train, onehot=True))\n",
    "    \n",
    "    fig = plt.figure(figsize=(15,5))\n",
    "    fig.add_subplot(1,2,1)\n",
    "    plt.ylim(0, 1)\n",
    "    plt.plot(CER)\n",
    "    plt.title(\"Classification error rate\")\n",
    "    plt.ylabel(\"Percent of incorrectly identified observations\")\n",
    "    plt.xlabel(\"Epoch number\")\n",
    "    \n",
    "    fig.add_subplot(1,2,2)\n",
    "    plt.plot(cost_train, label=\"Training error\", color=\"orange\")\n",
    "    plt.plot(cost_test, label=\"Test error\", color=\"blue\")\n",
    "    plt.title(\"Learning curve\")\n",
    "    plt.ylabel(\"Cost function\")\n",
    "    plt.xlabel(\"Epoch number\")\n",
    "    plt.legend()\n",
    "    plt.show()"
   ]
  },
  {
   "cell_type": "markdown",
   "metadata": {},
   "source": [
    "Этот виджет и ваши взаимодействия с ним должны оставить у вас в голове один большой вопрос: \"А как вообще выбирать архитектуру сети, чтобы что-нибудь работало\"?"
   ]
  },
  {
   "cell_type": "markdown",
   "metadata": {},
   "source": [
    "## Регуляризация\n",
    "Отлично, мы достигаем примерно 90%-ной точности только за счёт конструкции самой сети. Можно ли лучше?\n",
    "Давайте разберёмся со стандартными приёмами (которые, кстати, будут гарантированно объявлять более проcтые модели более хорошими)."
   ]
  },
  {
   "cell_type": "markdown",
   "metadata": {},
   "source": [
    "Напоминание: целевая функция при применении $\\ell_1$-регуляризации выглядит так: \n",
    "$$J_1 = \\frac{1}{n}\\sum_{i=1}^n \\left\\vert\\hat y_i - y_i\\right\\vert^2 + \\lambda_1\\sum_{j}\\left\\vert w_j\\right\\vert,$$\n",
    "где $w_j$ - любой вес в том смысле, что это любое $w_{jk}^l$.\n",
    "\n",
    "Целевая функция для $\\ell_2$-регуляризации выглядит похожим образом:\n",
    "$$J_2 = \\frac{1}{n}\\sum_{i=1}^n \\left\\vert\\hat y_i - y_i\\right\\vert^2 + \\lambda_2\\frac{1}{2}\\sum_{j}\\left\\vert w_j\\right\\vert^2,$$\n",
    "поэтому обычно имеет смысл их объединить и задавать параметрами коэффициенты $\\lambda_1$ и $\\lambda_2$, чтобы не плодить сущности:\n",
    "$$J_r = \\frac{1}{n}\\sum_{i=1}^n \\left\\vert\\hat y_i - y_i\\right\\vert^2 + \\lambda_1\\sum_{j}\\left\\vert w_j\\right\\vert + \\lambda_2\\frac{1}{2}\\sum_{j}\\left\\vert w_j\\right\\vert^2.$$\n",
    "\n",
    "Упражнение: посчитайте производные целевой функции $J_r$ по весам и проверьте себя и нас в коде ниже: правильно ли мы считаем эти производные?"
   ]
  },
  {
   "cell_type": "code",
   "execution_count": 17,
   "metadata": {
    "collapsed": true,
    "pycharm": {
     "is_executing": false
    }
   },
   "outputs": [],
   "source": [
    "class RegularizedNetwork(Network):\n",
    "    def __init__(self, sizes, output=True, l1=0, l2=0):\n",
    "        super().__init__(sizes, output)\n",
    "        self.l1 = l1\n",
    "        self.l2 = l2\n",
    "        \n",
    "    def update_mini_batch(self, mini_batch, eta):\n",
    "        \"\"\"\n",
    "        Обновить веса и смещения нейронной сети, сделав шаг градиентного\n",
    "        спуска на основе алгоритма обратного распространения ошибки, примененного\n",
    "        к одному mini batch. Учесть штрафы за L1 и L2.\n",
    "        ``mini_batch`` - список кортежей вида ``(x, y)``,\n",
    "        ``eta`` - величина шага (learning rate).\n",
    "        \"\"\"\n",
    "        \n",
    "        nabla_b = [np.zeros(b.shape) for b in self.biases]\n",
    "        nabla_w = [np.zeros(w.shape) for w in self.weights]\n",
    "        for x, y in mini_batch:\n",
    "            delta_nabla_b, delta_nabla_w = self.backprop(x, y)\n",
    "            nabla_b = [nb+dnb for nb, dnb in zip(nabla_b, delta_nabla_b)]\n",
    "            nabla_w = [nw+dnw for nw, dnw in zip(nabla_w, delta_nabla_w)]\n",
    "            \n",
    "        eps = eta / len(mini_batch)\n",
    "        self.weights = [w - eps * nw - self.l1 * np.sign(w) - self.l2 * w for w, nw in zip(self.weights, nabla_w)]\n",
    "        self.biases  = [b - eps * nb for b, nb in zip(self.biases,  nabla_b)]"
   ]
  },
  {
   "cell_type": "code",
   "execution_count": 18,
   "metadata": {
    "collapsed": false,
    "pycharm": {
     "is_executing": false
    }
   },
   "outputs": [
    {
     "data": {
      "text/plain": "interactive(children=(IntSlider(value=6, continuous_update=False, description='1st inner layer: ', max=10), In…",
      "application/vnd.jupyter.widget-view+json": {
       "version_major": 2,
       "version_minor": 0,
       "model_id": "7fcea5a9003e4e3e872f5fb5211a2a37"
      }
     },
     "metadata": {},
     "output_type": "display_data"
    }
   ],
   "source": [
    "%matplotlib inline\n",
    "from ipywidgets import *\n",
    "@interact(layer1=IntSlider(min=0, max=10, continuous_update=False, description=\"1st inner layer: \", value=6),\n",
    "          layer2=IntSlider(min=0, max=10, continuous_update=False, description=\"2nd inner layer:\"),\n",
    "          layer3=IntSlider(min=0, max=10, continuous_update=False, description=\"3rd inner layer: \"),\n",
    "          batch_size=BoundedIntText(min=1, max=len(data), value=10, description=\"Batch size: \"),\n",
    "          learning_rate=Dropdown(options=[\"0.01\", \"0.05\", \"0.1\", \"0.5\", \"1\", \"5\", \"10\"], \n",
    "                                 value=\"0.01\", description=\"Learning rate: \"),\n",
    "          l1=Dropdown(options=[\"0\", \"0.0001\", \"0.0005\", \"0.001\", \"0.005\", \"0.01\", \"0.05\", \"0.1\"], value=\"0.0001\", \n",
    "                      description=\"$\\ell_1:$\"),\n",
    "          l2=Dropdown(options=[\"0\", \"0.0001\", \"0.0005\", \"0.001\", \"0.005\", \"0.01\", \"0.05\", \"0.1\"], value=\"0.0001\", \n",
    "                      description=\"$\\ell_2:$\")\n",
    "         )\n",
    "def learning_curve_by_network_structure_and_regularization(layer1, layer2, layer3, batch_size, learning_rate, l1, l2):\n",
    "    layers = [x for x in [input_count, layer1, layer2, layer3, output_count] if x > 0]\n",
    "    nn = RegularizedNetwork(layers, output=False, l1=float(l1), l2=float(l2))\n",
    "    learning_rate=float(learning_rate)\n",
    "    \n",
    "    CER = []\n",
    "    cost_train = []\n",
    "    cost_test  = []\n",
    "    for _ in range(150):\n",
    "        nn.SGD(training_data=train, epochs=1, mini_batch_size=batch_size, eta=learning_rate)\n",
    "        CER.append(1 - nn.evaluate(test) / len(test))\n",
    "        cost_test.append(cost_function(nn, test, onehot=False))\n",
    "        cost_train.append(cost_function(nn, train, onehot=True))\n",
    "    \n",
    "    fig = plt.figure(figsize=(15,5))\n",
    "    fig.add_subplot(1,2,1)\n",
    "    plt.ylim(0, 1)\n",
    "    plt.plot(CER)\n",
    "    plt.title(\"Classification error rate\")\n",
    "    plt.ylabel(\"Percent of incorreclty identified observations\")\n",
    "    plt.xlabel(\"Epoch number\")\n",
    "    \n",
    "    fig.add_subplot(1,2,2)\n",
    "    plt.plot(cost_train, label=\"Training error\", color=\"orange\")\n",
    "    plt.plot(cost_test, label=\"Test error\", color=\"blue\")\n",
    "    plt.title(\"Learning curve\")\n",
    "    plt.ylabel(\"Cost function\")\n",
    "    plt.xlabel(\"Epoch number\")\n",
    "    plt.legend()\n",
    "    plt.show()"
   ]
  },
  {
   "cell_type": "markdown",
   "metadata": {},
   "source": [
    "Надеюсь, вы будете так же увлечённо рассматривать эти графики, как это делали мы (кое-кто час заворожённо двигал ползунки, всё больше и больше проникаясь пониманием!) Если у вас появились какие-то гениальные мысли (помимо двух заданий на интерпретацию графиков, которые ждут вас на Stepic.Org), не стесняйтесь писать их в комментариях к уроку!"
   ]
  }
 ],
 "metadata": {
  "kernelspec": {
   "display_name": "Python 3",
   "language": "python",
   "name": "python3"
  },
  "language_info": {
   "codemirror_mode": {
    "name": "ipython",
    "version": 3
   },
   "file_extension": ".py",
   "mimetype": "text/x-python",
   "name": "python",
   "nbconvert_exporter": "python",
   "pygments_lexer": "ipython3",
   "version": "3.4.3"
  },
  "pycharm": {
   "stem_cell": {
    "cell_type": "raw",
    "source": [],
    "metadata": {
     "collapsed": false
    }
   }
  }
 },
 "nbformat": 4,
 "nbformat_minor": 0
}