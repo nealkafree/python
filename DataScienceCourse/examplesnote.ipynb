{
 "cells": [
  {
   "cell_type": "code",
   "execution_count": 1,
   "metadata": {
    "collapsed": true,
    "pycharm": {
     "is_executing": false,
     "name": "#%%\n"
    }
   },
   "outputs": [],
   "source": [
    "import pandas as pd\n",
    "import numpy as np"
   ]
  },
  {
   "cell_type": "code",
   "execution_count": 2,
   "outputs": [],
   "source": [
    "students_performance = pd.read_csv('StudentsPerformance.csv')"
   ],
   "metadata": {
    "collapsed": false,
    "pycharm": {
     "name": "#%%\n",
     "is_executing": false
    }
   }
  },
  {
   "cell_type": "code",
   "execution_count": 3,
   "outputs": [
    {
     "data": {
      "text/plain": "gender                         object\nrace/ethnicity                 object\nparental level of education    object\nlunch                          object\ntest preparation course        object\nmath score                      int64\nreading score                   int64\nwriting score                   int64\ndtype: object"
     },
     "metadata": {},
     "output_type": "execute_result",
     "execution_count": 3
    }
   ],
   "source": [
    "students_performance.describe()\n",
    "students_performance.dtypes"
   ],
   "metadata": {
    "collapsed": false,
    "pycharm": {
     "name": "#%%\n",
     "is_executing": false
    }
   }
  },
  {
   "cell_type": "code",
   "execution_count": 4,
   "outputs": [],
   "source": [
    "st = students_performance.iloc[0:5, 0:3]"
   ],
   "metadata": {
    "collapsed": false,
    "pycharm": {
     "name": "#%%\n",
     "is_executing": false
    }
   }
  },
  {
   "cell_type": "code",
   "execution_count": 5,
   "outputs": [
    {
     "data": {
      "text/plain": "    gender\n1   female\n3     male\n15  female",
      "text/html": "<div>\n<style scoped>\n    .dataframe tbody tr th:only-of-type {\n        vertical-align: middle;\n    }\n\n    .dataframe tbody tr th {\n        vertical-align: top;\n    }\n\n    .dataframe thead th {\n        text-align: right;\n    }\n</style>\n<table border=\"1\" class=\"dataframe\">\n  <thead>\n    <tr style=\"text-align: right;\">\n      <th></th>\n      <th>gender</th>\n    </tr>\n  </thead>\n  <tbody>\n    <tr>\n      <td>1</td>\n      <td>female</td>\n    </tr>\n    <tr>\n      <td>3</td>\n      <td>male</td>\n    </tr>\n    <tr>\n      <td>15</td>\n      <td>female</td>\n    </tr>\n  </tbody>\n</table>\n</div>"
     },
     "metadata": {},
     "output_type": "execute_result",
     "execution_count": 5
    }
   ],
   "source": [
    "students_performance.loc[[1, 3, 15], ['gender']]"
   ],
   "metadata": {
    "collapsed": false,
    "pycharm": {
     "name": "#%%\n",
     "is_executing": false
    }
   }
  },
  {
   "cell_type": "code",
   "execution_count": 6,
   "outputs": [
    {
     "data": {
      "text/plain": "   gender race/ethnicity parental level of education         lunch  \\\n0  female        group B           bachelor's degree      standard   \n1  female        group C                some college      standard   \n2  female        group B             master's degree      standard   \n3    male        group A          associate's degree  free/reduced   \n4    male        group C                some college      standard   \n5  female        group B          associate's degree      standard   \n6  female        group B                some college      standard   \n\n  test preparation course  math score  reading score  writing score  \n0                    none          72             72             74  \n1               completed          69             90             88  \n2                    none          90             95             93  \n3                    none          47             57             44  \n4                    none          76             78             75  \n5                    none          71             83             78  \n6               completed          88             95             92  ",
      "text/html": "<div>\n<style scoped>\n    .dataframe tbody tr th:only-of-type {\n        vertical-align: middle;\n    }\n\n    .dataframe tbody tr th {\n        vertical-align: top;\n    }\n\n    .dataframe thead th {\n        text-align: right;\n    }\n</style>\n<table border=\"1\" class=\"dataframe\">\n  <thead>\n    <tr style=\"text-align: right;\">\n      <th></th>\n      <th>gender</th>\n      <th>race/ethnicity</th>\n      <th>parental level of education</th>\n      <th>lunch</th>\n      <th>test preparation course</th>\n      <th>math score</th>\n      <th>reading score</th>\n      <th>writing score</th>\n    </tr>\n  </thead>\n  <tbody>\n    <tr>\n      <td>0</td>\n      <td>female</td>\n      <td>group B</td>\n      <td>bachelor's degree</td>\n      <td>standard</td>\n      <td>none</td>\n      <td>72</td>\n      <td>72</td>\n      <td>74</td>\n    </tr>\n    <tr>\n      <td>1</td>\n      <td>female</td>\n      <td>group C</td>\n      <td>some college</td>\n      <td>standard</td>\n      <td>completed</td>\n      <td>69</td>\n      <td>90</td>\n      <td>88</td>\n    </tr>\n    <tr>\n      <td>2</td>\n      <td>female</td>\n      <td>group B</td>\n      <td>master's degree</td>\n      <td>standard</td>\n      <td>none</td>\n      <td>90</td>\n      <td>95</td>\n      <td>93</td>\n    </tr>\n    <tr>\n      <td>3</td>\n      <td>male</td>\n      <td>group A</td>\n      <td>associate's degree</td>\n      <td>free/reduced</td>\n      <td>none</td>\n      <td>47</td>\n      <td>57</td>\n      <td>44</td>\n    </tr>\n    <tr>\n      <td>4</td>\n      <td>male</td>\n      <td>group C</td>\n      <td>some college</td>\n      <td>standard</td>\n      <td>none</td>\n      <td>76</td>\n      <td>78</td>\n      <td>75</td>\n    </tr>\n    <tr>\n      <td>5</td>\n      <td>female</td>\n      <td>group B</td>\n      <td>associate's degree</td>\n      <td>standard</td>\n      <td>none</td>\n      <td>71</td>\n      <td>83</td>\n      <td>78</td>\n    </tr>\n    <tr>\n      <td>6</td>\n      <td>female</td>\n      <td>group B</td>\n      <td>some college</td>\n      <td>standard</td>\n      <td>completed</td>\n      <td>88</td>\n      <td>95</td>\n      <td>92</td>\n    </tr>\n  </tbody>\n</table>\n</div>"
     },
     "metadata": {},
     "output_type": "execute_result",
     "execution_count": 6
    }
   ],
   "source": [
    "students_performance.loc[:6]"
   ],
   "metadata": {
    "collapsed": false,
    "pycharm": {
     "name": "#%%\n",
     "is_executing": false
    }
   }
  },
  {
   "cell_type": "code",
   "execution_count": 7,
   "outputs": [],
   "source": [
    "import matplotlib.pyplot as plt\n",
    "import seaborn as sns\n",
    "%matplotlib inline"
   ],
   "metadata": {
    "collapsed": false,
    "pycharm": {
     "name": "#%%\n",
     "is_executing": false
    }
   }
  },
  {
   "cell_type": "code",
   "execution_count": 8,
   "outputs": [],
   "source": [
    "# students_performance.lunch.hist()"
   ],
   "metadata": {
    "collapsed": false,
    "pycharm": {
     "name": "#%%\n",
     "is_executing": false
    }
   }
  },
  {
   "cell_type": "code",
   "execution_count": 9,
   "outputs": [],
   "source": [
    "# students_performance.plot.scatter(x='math score', y='reading score')"
   ],
   "metadata": {
    "collapsed": false,
    "pycharm": {
     "name": "#%%\n",
     "is_executing": false
    }
   }
  },
  {
   "cell_type": "code",
   "execution_count": 10,
   "outputs": [],
   "source": [
    "# sns.lmplot(x='math score', y='reading score', hue='gender', data=students_performance)"
   ],
   "metadata": {
    "collapsed": false,
    "pycharm": {
     "name": "#%%\n",
     "is_executing": false
    }
   }
  },
  {
   "cell_type": "code",
   "execution_count": 11,
   "outputs": [],
   "source": [
    "# income = pd.read_csv('income.csv')\n",
    "# sns.lineplot(x=income.index, y=income.income)"
   ],
   "metadata": {
    "collapsed": false,
    "pycharm": {
     "name": "#%%\n",
     "is_executing": false
    }
   }
  },
  {
   "cell_type": "code",
   "execution_count": 12,
   "outputs": [],
   "source": [
    "# dat = pd.read_csv('dataset_209770_6.txt', sep=' ')\n",
    "# sns.scatterplot(x='x',y='y',data=dat)"
   ],
   "metadata": {
    "collapsed": false,
    "pycharm": {
     "name": "#%%\n",
     "is_executing": false
    }
   }
  },
  {
   "cell_type": "code",
   "execution_count": 13,
   "outputs": [],
   "source": [
    "# gen = pd.read_csv('genome_matrix.csv')\n",
    "# g = sns.heatmap(gen.iloc[:,1:], cmap='viridis')\n",
    "# g.xaxis.set_ticks_position('top')\n",
    "# g.xaxis.set_tick_params(rotation=90)"
   ],
   "metadata": {
    "collapsed": false,
    "pycharm": {
     "name": "#%%\n",
     "is_executing": false
    }
   }
  },
  {
   "cell_type": "code",
   "execution_count": 14,
   "outputs": [],
   "source": [
    "# dota.roles.str.count(',').hist()"
   ],
   "metadata": {
    "collapsed": false,
    "pycharm": {
     "name": "#%%\n",
     "is_executing": false
    }
   }
  },
  {
   "cell_type": "code",
   "execution_count": 15,
   "outputs": [],
   "source": [
    "# iris = pd.read_csv('iris.csv')\n",
    "# for column in iris.iloc[:, 1:]:\n",
    "#     sns.kdeplot(iris[column])\n",
    "# iris.head()\n",
    "# "
   ],
   "metadata": {
    "collapsed": false,
    "pycharm": {
     "name": "#%%\n",
     "is_executing": false
    }
   }
  },
  {
   "cell_type": "code",
   "execution_count": 16,
   "outputs": [],
   "source": [
    "# sns.violinplot(iris['petal length'])\n",
    "# "
   ],
   "metadata": {
    "collapsed": false,
    "pycharm": {
     "name": "#%%\n",
     "is_executing": false
    }
   }
  },
  {
   "cell_type": "code",
   "execution_count": 17,
   "outputs": [],
   "source": [
    "# sns.pairplot(data=iris.iloc[:,1:-1])"
   ],
   "metadata": {
    "collapsed": false,
    "pycharm": {
     "name": "#%%\n",
     "is_executing": false
    }
   }
  },
  {
   "cell_type": "code",
   "execution_count": 18,
   "outputs": [],
   "source": [
    "# d = {'type': ['A', 'A', 'B', 'B'], 'value': [10, 14, 12, 23]}\n",
    "# my_data = pd.DataFrame(data=d)\n",
    "# my_data\n",
    "# "
   ],
   "metadata": {
    "collapsed": false,
    "pycharm": {
     "name": "#%%\n",
     "is_executing": false
    }
   }
  },
  {
   "cell_type": "code",
   "execution_count": 19,
   "outputs": [],
   "source": [
    "# my_stat = pd.read_csv('my_stat.csv')\n",
    "# subset_1 = my_stat.iloc[0:10, [0, 2]]\n",
    "# subset_2 = my_stat[['V2', 'V4']].drop([0, 4])\n",
    "# "
   ],
   "metadata": {
    "collapsed": false,
    "pycharm": {
     "name": "#%%\n",
     "is_executing": false
    }
   }
  },
  {
   "cell_type": "code",
   "execution_count": 20,
   "outputs": [],
   "source": [
    "# subset_1 = my_stat[(my_stat['V1'] > 0) & (my_stat['V3'] == 'A')]\n",
    "# subset_2 = my_stat[(my_stat['V2'] != 10) | (my_stat['V4'] >= 1)]\n",
    "# "
   ],
   "metadata": {
    "collapsed": false,
    "pycharm": {
     "name": "#%%\n",
     "is_executing": false
    }
   }
  },
  {
   "cell_type": "code",
   "execution_count": 21,
   "outputs": [],
   "source": [
    "# import math\n",
    "# my_stat = my_stat.assign(V5 = lambda x: x.V1 + x.V4)\n",
    "# my_stat = my_stat.assign(V6 = lambda x: np.log(x.V2))\n",
    "# "
   ],
   "metadata": {
    "collapsed": false,
    "pycharm": {
     "name": "#%%\n",
     "is_executing": false
    }
   }
  },
  {
   "cell_type": "code",
   "execution_count": 22,
   "outputs": [],
   "source": [
    "# my_stat = my_stat.rename(columns={'V1': 'session_value', 'V2': 'group', 'V3': 'time', 'V4': 'n_users'})"
   ],
   "metadata": {
    "collapsed": false,
    "pycharm": {
     "name": "#%%\n",
     "is_executing": false
    }
   }
  },
  {
   "cell_type": "code",
   "execution_count": 23,
   "outputs": [],
   "source": [
    "# my_stat = pd.read_csv('my_stat_1.csv')\n",
    "# my_stat = my_stat.fillna(0)\n",
    "# med = my_stat[my_stat['n_users'] > 0].n_users.median()\n",
    "# my_stat.loc[my_stat['n_users'] < 0, 'n_users'] = med"
   ],
   "metadata": {
    "collapsed": false,
    "pycharm": {
     "name": "#%%\n",
     "is_executing": false
    }
   }
  },
  {
   "cell_type": "code",
   "execution_count": 24,
   "outputs": [],
   "source": [
    "# mean_session_value_data = my_stat.groupby('group', as_index=False).agg({'session_value':'mean'})\n",
    "# mean_session_value_data = mean_session_value_data.rename(columns={'session_value': 'mean_session_value'})"
   ],
   "metadata": {
    "collapsed": false,
    "pycharm": {
     "name": "#%%\n",
     "is_executing": false
    }
   }
  },
  {
   "cell_type": "code",
   "execution_count": 25,
   "outputs": [],
   "source": [
    "from sklearn import tree\n",
    "data = pd.DataFrame({'X_1': [1, 1, 1, 0, 0, 0, 0, 1], 'X_2': [0, 0, 0, 1, 0, 0, 0, 1], 'Y': [1, 1, 1, 1, 0, 0, 0, 0]})"
   ],
   "metadata": {
    "collapsed": false,
    "pycharm": {
     "name": "#%%\n",
     "is_executing": false
    }
   }
  },
  {
   "cell_type": "code",
   "execution_count": 26,
   "outputs": [],
   "source": [
    "clf = tree.DecisionTreeClassifier(criterion='entropy')\n",
    "X = data[['X_1', 'X_2']]\n",
    "y = data['Y']"
   ],
   "metadata": {
    "collapsed": false,
    "pycharm": {
     "name": "#%%\n",
     "is_executing": false
    }
   }
  },
  {
   "cell_type": "code",
   "execution_count": 27,
   "outputs": [
    {
     "data": {
      "text/plain": "[Text(167.4, 181.2, 'X_1 <= 0.5\\nentropy = 1.0\\nsamples = 8\\nvalue = [4, 4]'),\n Text(83.7, 108.72, 'X_2 <= 0.5\\nentropy = 0.811\\nsamples = 4\\nvalue = [3, 1]'),\n Text(41.85, 36.23999999999998, 'entropy = 0.0\\nsamples = 3\\nvalue = [3, 0]'),\n Text(125.55000000000001, 36.23999999999998, 'entropy = 0.0\\nsamples = 1\\nvalue = [0, 1]'),\n Text(251.10000000000002, 108.72, 'X_2 <= 0.5\\nentropy = 0.811\\nsamples = 4\\nvalue = [1, 3]'),\n Text(209.25, 36.23999999999998, 'entropy = 0.0\\nsamples = 3\\nvalue = [0, 3]'),\n Text(292.95, 36.23999999999998, 'entropy = 0.0\\nsamples = 1\\nvalue = [1, 0]')]"
     },
     "metadata": {},
     "output_type": "execute_result",
     "execution_count": 27
    },
    {
     "data": {
      "text/plain": "<Figure size 432x288 with 1 Axes>",
      "image/png": "[encoded data removed]"
     },
     "metadata": {
      "needs_background": "light"
     },
     "output_type": "display_data"
    }
   ],
   "source": [
    "clf.fit(X, y)\n",
    "tree.plot_tree(clf, feature_names=list(X), filled=True)"
   ],
   "metadata": {
    "collapsed": false,
    "pycharm": {
     "name": "#%%\n",
     "is_executing": false
    }
   }
  },
  {
   "cell_type": "code",
   "execution_count": 28,
   "outputs": [],
   "source": [
    "titanic = pd.read_csv('titanic.csv')"
   ],
   "metadata": {
    "collapsed": false,
    "pycharm": {
     "name": "#%%\n",
     "is_executing": false
    }
   }
  },
  {
   "cell_type": "code",
   "execution_count": 29,
   "outputs": [],
   "source": [
    "X = titanic.drop(['PassengerId', 'Survived', 'Name', 'Ticket', 'Cabin'], axis=1)\n",
    "y = titanic['Survived']"
   ],
   "metadata": {
    "collapsed": false,
    "pycharm": {
     "name": "#%%\n",
     "is_executing": false
    }
   }
  },
  {
   "cell_type": "code",
   "execution_count": 30,
   "outputs": [],
   "source": [
    "titanic_clf = tree.DecisionTreeClassifier(criterion='entropy', max_depth=5)"
   ],
   "metadata": {
    "collapsed": false,
    "pycharm": {
     "name": "#%%\n",
     "is_executing": false
    }
   }
  },
  {
   "cell_type": "code",
   "execution_count": 31,
   "outputs": [],
   "source": [
    "X = X.fillna({'Age': X.Age.median()})\n",
    "X = pd.get_dummies(X)"
   ],
   "metadata": {
    "collapsed": false,
    "pycharm": {
     "name": "#%%\n",
     "is_executing": false
    }
   }
  },
  {
   "cell_type": "code",
   "execution_count": 32,
   "outputs": [
    {
     "data": {
      "text/plain": "DecisionTreeClassifier(class_weight=None, criterion='entropy', max_depth=5,\n                       max_features=None, max_leaf_nodes=None,\n                       min_impurity_decrease=0.0, min_impurity_split=None,\n                       min_samples_leaf=1, min_samples_split=2,\n                       min_weight_fraction_leaf=0.0, presort=False,\n                       random_state=None, splitter='best')"
     },
     "metadata": {},
     "output_type": "execute_result",
     "execution_count": 32
    }
   ],
   "source": [
    "titanic_clf.fit(X, y)"
   ],
   "metadata": {
    "collapsed": false,
    "pycharm": {
     "name": "#%%\n",
     "is_executing": false
    }
   }
  },
  {
   "cell_type": "code",
   "execution_count": 33,
   "outputs": [],
   "source": [
    "# tree.plot_tree(titanic_clf, feature_names=list(X2), filled=True)"
   ],
   "metadata": {
    "collapsed": false,
    "pycharm": {
     "name": "#%%\n",
     "is_executing": false
    }
   }
  },
  {
   "cell_type": "code",
   "execution_count": 34,
   "outputs": [
    {
     "data": {
      "text/plain": "0.8496071829405163"
     },
     "metadata": {},
     "output_type": "execute_result",
     "execution_count": 34
    }
   ],
   "source": [
    "from sklearn.model_selection import train_test_split\n",
    "X_train, X_test, y_train, y_test = train_test_split(X, y, test_size=0.2, random_state=42)\n",
    "titanic_clf.score(X, y)"
   ],
   "metadata": {
    "collapsed": false,
    "pycharm": {
     "name": "#%%\n",
     "is_executing": false
    }
   }
  },
  {
   "cell_type": "code",
   "execution_count": 35,
   "outputs": [
    {
     "data": {
      "text/plain": "0.8044692737430168"
     },
     "metadata": {},
     "output_type": "execute_result",
     "execution_count": 35
    }
   ],
   "source": [
    "titanic_clf.fit(X_train, y_train)\n",
    "titanic_clf.score(X_test, y_test)"
   ],
   "metadata": {
    "collapsed": false,
    "pycharm": {
     "name": "#%%\n",
     "is_executing": false
    }
   }
  },
  {
   "cell_type": "code",
   "execution_count": 36,
   "outputs": [
    {
     "data": {
      "text/plain": "   max_depth  train_score  test_score  cross_val_score\n0          1     0.787921    0.782123         0.787980\n0          2     0.803371    0.765363         0.786562\n0          3     0.834270    0.798883         0.823044\n0          4     0.837079    0.798883         0.813234\n0          5     0.848315    0.804469         0.810427",
      "text/html": "<div>\n<style scoped>\n    .dataframe tbody tr th:only-of-type {\n        vertical-align: middle;\n    }\n\n    .dataframe tbody tr th {\n        vertical-align: top;\n    }\n\n    .dataframe thead th {\n        text-align: right;\n    }\n</style>\n<table border=\"1\" class=\"dataframe\">\n  <thead>\n    <tr style=\"text-align: right;\">\n      <th></th>\n      <th>max_depth</th>\n      <th>train_score</th>\n      <th>test_score</th>\n      <th>cross_val_score</th>\n    </tr>\n  </thead>\n  <tbody>\n    <tr>\n      <td>0</td>\n      <td>1</td>\n      <td>0.787921</td>\n      <td>0.782123</td>\n      <td>0.787980</td>\n    </tr>\n    <tr>\n      <td>0</td>\n      <td>2</td>\n      <td>0.803371</td>\n      <td>0.765363</td>\n      <td>0.786562</td>\n    </tr>\n    <tr>\n      <td>0</td>\n      <td>3</td>\n      <td>0.834270</td>\n      <td>0.798883</td>\n      <td>0.823044</td>\n    </tr>\n    <tr>\n      <td>0</td>\n      <td>4</td>\n      <td>0.837079</td>\n      <td>0.798883</td>\n      <td>0.813234</td>\n    </tr>\n    <tr>\n      <td>0</td>\n      <td>5</td>\n      <td>0.848315</td>\n      <td>0.804469</td>\n      <td>0.810427</td>\n    </tr>\n  </tbody>\n</table>\n</div>"
     },
     "metadata": {},
     "output_type": "execute_result",
     "execution_count": 36
    }
   ],
   "source": [
    "from sklearn.model_selection import cross_val_score\n",
    "max_depth_values = range(1, 50)\n",
    "scores_data = pd.DataFrame()\n",
    "for max_depth in max_depth_values:\n",
    "    clf = tree.DecisionTreeClassifier(criterion='entropy', max_depth=max_depth)\n",
    "    clf.fit(X_train, y_train)\n",
    "    temp = pd.DataFrame({'max_depth': [max_depth], 'train_score': \\\n",
    "    [clf.score(X_train, y_train)], 'test_score': [clf.score(X_test, y_test)],\n",
    "                         'cross_val_score': [cross_val_score(clf, X_train, y_train, cv=5).mean()]})\n",
    "    scores_data = scores_data.append(temp)\n",
    "scores_data.head()"
   ],
   "metadata": {
    "collapsed": false,
    "pycharm": {
     "name": "#%%\n",
     "is_executing": false
    }
   }
  },
  {
   "cell_type": "code",
   "execution_count": 37,
   "outputs": [
    {
     "data": {
      "text/plain": "   max_depth     set_type     score\n0          1  train_score  0.787921\n1          2  train_score  0.803371\n2          3  train_score  0.834270\n3          4  train_score  0.837079\n4          5  train_score  0.848315",
      "text/html": "<div>\n<style scoped>\n    .dataframe tbody tr th:only-of-type {\n        vertical-align: middle;\n    }\n\n    .dataframe tbody tr th {\n        vertical-align: top;\n    }\n\n    .dataframe thead th {\n        text-align: right;\n    }\n</style>\n<table border=\"1\" class=\"dataframe\">\n  <thead>\n    <tr style=\"text-align: right;\">\n      <th></th>\n      <th>max_depth</th>\n      <th>set_type</th>\n      <th>score</th>\n    </tr>\n  </thead>\n  <tbody>\n    <tr>\n      <td>0</td>\n      <td>1</td>\n      <td>train_score</td>\n      <td>0.787921</td>\n    </tr>\n    <tr>\n      <td>1</td>\n      <td>2</td>\n      <td>train_score</td>\n      <td>0.803371</td>\n    </tr>\n    <tr>\n      <td>2</td>\n      <td>3</td>\n      <td>train_score</td>\n      <td>0.834270</td>\n    </tr>\n    <tr>\n      <td>3</td>\n      <td>4</td>\n      <td>train_score</td>\n      <td>0.837079</td>\n    </tr>\n    <tr>\n      <td>4</td>\n      <td>5</td>\n      <td>train_score</td>\n      <td>0.848315</td>\n    </tr>\n  </tbody>\n</table>\n</div>"
     },
     "metadata": {},
     "output_type": "execute_result",
     "execution_count": 37
    }
   ],
   "source": [
    "scores_data_melted = pd.melt(scores_data, id_vars = ['max_depth'], value_vars=['train_score', 'test_score', 'cross_val_score'],\n",
    "                             var_name='set_type', value_name='score')\n",
    "scores_data_melted.head()"
   ],
   "metadata": {
    "collapsed": false,
    "pycharm": {
     "name": "#%%\n",
     "is_executing": false
    }
   }
  },
  {
   "cell_type": "code",
   "execution_count": 38,
   "outputs": [
    {
     "data": {
      "text/plain": "<matplotlib.axes._subplots.AxesSubplot at 0x2d34ec0ee88>"
     },
     "metadata": {},
     "output_type": "execute_result",
     "execution_count": 38
    },
    {
     "data": {
      "text/plain": "<Figure size 432x288 with 1 Axes>",
      "image/png": "[encoded data removed]"
     },
     "metadata": {
      "needs_background": "light"
     },
     "output_type": "display_data"
    }
   ],
   "source": [
    "sns.lineplot(data=scores_data_melted, x='max_depth', y='score', hue='set_type')"
   ],
   "metadata": {
    "collapsed": false,
    "pycharm": {
     "name": "#%%\n",
     "is_executing": false
    }
   }
  },
  {
   "cell_type": "code",
   "execution_count": 39,
   "outputs": [
    {
     "data": {
      "text/plain": "0.7963221575148456"
     },
     "metadata": {},
     "output_type": "execute_result",
     "execution_count": 39
    }
   ],
   "source": [
    "clf = tree.DecisionTreeClassifier(criterion='entropy', max_depth=8)\n",
    "cross_val_score(clf, X_train, y_train, cv=5).mean()"
   ],
   "metadata": {
    "collapsed": false,
    "pycharm": {
     "name": "#%%\n",
     "is_executing": false
    }
   }
  },
  {
   "cell_type": "code",
   "execution_count": 40,
   "outputs": [],
   "source": [
    "train_iris = pd.read_csv('train_iris.csv')\n",
    "test_iris = pd.read_csv('test_iris.csv')\n",
    "X_train = train_iris.drop(['species', 'Unnamed: 0'], axis=1)\n",
    "y_train = train_iris.species\n",
    "X_test = test_iris.drop(['species', 'Unnamed: 0'], axis=1)\n",
    "y_test = test_iris.species"
   ],
   "metadata": {
    "collapsed": false,
    "pycharm": {
     "name": "#%%\n",
     "is_executing": false
    }
   }
  },
  {
   "cell_type": "code",
   "execution_count": 41,
   "outputs": [],
   "source": [
    "max_depth_values = range(1, 100)\n",
    "scores_data = pd.DataFrame()\n",
    "np.random.seed(0)\n",
    "for max_depth in max_depth_values:\n",
    "    clf = tree.DecisionTreeClassifier(criterion='entropy', max_depth=max_depth)\n",
    "    clf.fit(X_train, y_train)\n",
    "    temp = pd.DataFrame({'max_depth': [max_depth], 'train_score': \\\n",
    "    [clf.score(X_train, y_train)], 'accuracy_score': [clf.score(X_test, y_test)]})\n",
    "    scores_data = scores_data.append(temp)"
   ],
   "metadata": {
    "collapsed": false,
    "pycharm": {
     "name": "#%%\n",
     "is_executing": false
    }
   }
  },
  {
   "cell_type": "code",
   "execution_count": 42,
   "outputs": [],
   "source": [
    "scores_data_melted = pd.melt(scores_data, id_vars = ['max_depth'], value_vars=['train_score', 'accuracy_score'],\n",
    "                             var_name='set_type', value_name='score')"
   ],
   "metadata": {
    "collapsed": false,
    "pycharm": {
     "name": "#%%\n",
     "is_executing": false
    }
   }
  },
  {
   "cell_type": "code",
   "execution_count": 43,
   "outputs": [
    {
     "data": {
      "text/plain": "<matplotlib.axes._subplots.AxesSubplot at 0x2d34ebfc0c8>"
     },
     "metadata": {},
     "output_type": "execute_result",
     "execution_count": 43
    },
    {
     "data": {
      "text/plain": "<Figure size 432x288 with 1 Axes>",
      "image/png": "[encoded data removed]"
     },
     "metadata": {
      "needs_background": "light"
     },
     "output_type": "display_data"
    }
   ],
   "source": [
    "sns.lineplot(data=scores_data_melted, x='max_depth', y='score', hue='set_type')"
   ],
   "metadata": {
    "collapsed": false,
    "pycharm": {
     "name": "#%%\n",
     "is_executing": false
    }
   }
  },
  {
   "cell_type": "code",
   "execution_count": 44,
   "outputs": [],
   "source": [
    "data = pd.read_csv('dogs_n_cats.csv')\n",
    "X = data.drop(['Вид'], axis=1)\n",
    "y = data['Вид']"
   ],
   "metadata": {
    "collapsed": false,
    "pycharm": {
     "name": "#%%\n",
     "is_executing": false
    }
   }
  },
  {
   "cell_type": "code",
   "execution_count": 45,
   "outputs": [],
   "source": [
    "max_depth_values = range(1, 30)\n",
    "scores_data = pd.DataFrame()\n",
    "for max_depth in max_depth_values:\n",
    "    clf = tree.DecisionTreeClassifier(criterion='entropy', max_depth=max_depth)\n",
    "    clf.fit(X, y)\n",
    "    temp = pd.DataFrame({'max_depth': [max_depth], 'score': [clf.score(X, y)]})\n",
    "    scores_data = scores_data.append(temp)"
   ],
   "metadata": {
    "collapsed": false,
    "pycharm": {
     "name": "#%%\n",
     "is_executing": false
    }
   }
  },
  {
   "cell_type": "code",
   "execution_count": 46,
   "outputs": [
    {
     "data": {
      "text/plain": "<matplotlib.axes._subplots.AxesSubplot at 0x2d34ed5e288>"
     },
     "metadata": {},
     "output_type": "execute_result",
     "execution_count": 46
    },
    {
     "data": {
      "text/plain": "<Figure size 432x288 with 1 Axes>",
      "image/png": "[encoded data removed]"
     },
     "metadata": {
      "needs_background": "light"
     },
     "output_type": "display_data"
    }
   ],
   "source": [
    "sns.lineplot(data=scores_data, x='max_depth', y='score')"
   ],
   "metadata": {
    "collapsed": false,
    "pycharm": {
     "name": "#%%\n",
     "is_executing": false
    }
   }
  },
  {
   "cell_type": "code",
   "execution_count": 47,
   "outputs": [
    {
     "data": {
      "text/plain": "46"
     },
     "metadata": {},
     "output_type": "execute_result",
     "execution_count": 47
    }
   ],
   "source": [
    "best_clf = tree.DecisionTreeClassifier(criterion='entropy', max_depth=1)\n",
    "best_clf.fit(X, y)\n",
    "test_data = pd.read_json('dataset_209691_15.txt')\n",
    "res = best_clf.predict(test_data)\n",
    "res[res == 'собачка'].size"
   ],
   "metadata": {
    "collapsed": false,
    "pycharm": {
     "name": "#%%\n",
     "is_executing": false
    }
   }
  },
  {
   "cell_type": "code",
   "execution_count": 48,
   "outputs": [],
   "source": [
    "from sklearn.metrics import precision_score\n",
    "data = pd.read_csv('songs.csv')\n",
    "X = data[['year', 'commas', 'exclamations', 'colons', 'hyphens']]\n",
    "y = data['artist']\n",
    "X_train, X_test, y_train, y_test = train_test_split(X, y, test_size=0.2, random_state=42)"
   ],
   "metadata": {
    "collapsed": false,
    "pycharm": {
     "name": "#%%\n",
     "is_executing": false
    }
   }
  },
  {
   "cell_type": "code",
   "execution_count": 54,
   "outputs": [
    {
     "data": {
      "text/plain": "0.6805555555555556"
     },
     "metadata": {},
     "output_type": "execute_result",
     "execution_count": 54
    }
   ],
   "source": [
    "clf = tree.DecisionTreeClassifier(criterion='entropy')\n",
    "clf.fit(X_train, y_train)\n",
    "predictions = clf.predict(X_test)\n",
    "precision = precision_score(y_test, predictions, average='micro')\n",
    "precision"
   ],
   "metadata": {
    "collapsed": false,
    "pycharm": {
     "name": "#%%\n",
     "is_executing": false
    }
   }
  },
  {
   "cell_type": "code",
   "execution_count": 52,
   "outputs": [],
   "source": [
    "from sklearn.model_selection import GridSearchCV\n",
    "\n",
    "parameters = {'criterion': ['entropy', 'gini'], 'max_depth': range(1,30)}\n",
    "grid_search_cv = GridSearchCV(tree.DecisionTreeClassifier(), parameters, cv=5)"
   ],
   "metadata": {
    "collapsed": false,
    "pycharm": {
     "name": "#%%\n",
     "is_executing": false
    }
   }
  },
  {
   "cell_type": "code",
   "execution_count": 56,
   "outputs": [],
   "source": [
    "from sklearn.metrics import roc_curve, auc\n",
    "# fpr, tpr, thresholds = roc_curve(y_test, clf.predict_proba(X_test)[:,1])\n",
    "# roc_auc= auc(fpr, tpr)\n",
    "# plt.figure()\n",
    "# plt.plot(fpr, tpr, color='darkorange', label='ROC curve (area = %0.2f)' % roc_auc)\n",
    "# plt.plot([0, 1], [0, 1], color='navy', linestyle='--')\n",
    "# plt.xlim([0.0, 1.0])\n",
    "# plt.ylim([0.0, 1.05])\n",
    "# plt.xlabel('False Positive Rate')\n",
    "# plt.ylabel('True Positive Rate')\n",
    "# plt.title('Receiver operating characteristic example')\n",
    "# plt.legend(loc=\"lower right\")\n"
   ],
   "metadata": {
    "collapsed": false,
    "pycharm": {
     "name": "#%%\n",
     "is_executing": false
    }
   }
  }
 ],
 "metadata": {
  "kernelspec": {
   "display_name": "Python 3",
   "language": "python",
   "name": "python3"
  },
  "language_info": {
   "codemirror_mode": {
    "name": "ipython",
    "version": 2
   },
   "file_extension": ".py",
   "mimetype": "text/x-python",
   "name": "python",
   "nbconvert_exporter": "python",
   "pygments_lexer": "ipython2",
   "version": "2.7.6"
  },
  "pycharm": {
   "stem_cell": {
    "cell_type": "raw",
    "source": [],
    "metadata": {
     "collapsed": false
    }
   }
  }
 },
 "nbformat": 4,
 "nbformat_minor": 0
}