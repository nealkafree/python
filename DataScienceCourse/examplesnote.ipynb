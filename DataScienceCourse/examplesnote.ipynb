{
 "cells": [
  {
   "cell_type": "code",
   "execution_count": 1,
   "metadata": {
    "collapsed": true,
    "pycharm": {
     "is_executing": false,
     "name": "#%%\n"
    }
   },
   "outputs": [],
   "source": [
    "import pandas as pd\n",
    "import numpy as np"
   ]
  },
  {
   "cell_type": "code",
   "execution_count": 2,
   "outputs": [],
   "source": [
    "students_performance = pd.read_csv('StudentsPerformance.csv')"
   ],
   "metadata": {
    "collapsed": false,
    "pycharm": {
     "name": "#%%\n",
     "is_executing": false
    }
   }
  },
  {
   "cell_type": "code",
   "execution_count": 3,
   "outputs": [
    {
     "data": {
      "text/plain": "gender                         object\nrace/ethnicity                 object\nparental level of education    object\nlunch                          object\ntest preparation course        object\nmath score                      int64\nreading score                   int64\nwriting score                   int64\ndtype: object"
     },
     "metadata": {},
     "output_type": "execute_result",
     "execution_count": 3
    }
   ],
   "source": [
    "students_performance.describe()\n",
    "students_performance.dtypes"
   ],
   "metadata": {
    "collapsed": false,
    "pycharm": {
     "name": "#%%\n",
     "is_executing": false
    }
   }
  },
  {
   "cell_type": "code",
   "execution_count": 4,
   "outputs": [],
   "source": [
    "st = students_performance.iloc[0:5, 0:3]"
   ],
   "metadata": {
    "collapsed": false,
    "pycharm": {
     "name": "#%%\n",
     "is_executing": false
    }
   }
  },
  {
   "cell_type": "code",
   "execution_count": 5,
   "outputs": [
    {
     "data": {
      "text/plain": "    gender\n1   female\n3     male\n15  female",
      "text/html": "<div>\n<style scoped>\n    .dataframe tbody tr th:only-of-type {\n        vertical-align: middle;\n    }\n\n    .dataframe tbody tr th {\n        vertical-align: top;\n    }\n\n    .dataframe thead th {\n        text-align: right;\n    }\n</style>\n<table border=\"1\" class=\"dataframe\">\n  <thead>\n    <tr style=\"text-align: right;\">\n      <th></th>\n      <th>gender</th>\n    </tr>\n  </thead>\n  <tbody>\n    <tr>\n      <td>1</td>\n      <td>female</td>\n    </tr>\n    <tr>\n      <td>3</td>\n      <td>male</td>\n    </tr>\n    <tr>\n      <td>15</td>\n      <td>female</td>\n    </tr>\n  </tbody>\n</table>\n</div>"
     },
     "metadata": {},
     "output_type": "execute_result",
     "execution_count": 5
    }
   ],
   "source": [
    "students_performance.loc[[1, 3, 15], ['gender']]"
   ],
   "metadata": {
    "collapsed": false,
    "pycharm": {
     "name": "#%%\n",
     "is_executing": false
    }
   }
  },
  {
   "cell_type": "code",
   "execution_count": 6,
   "outputs": [
    {
     "data": {
      "text/plain": "   gender race/ethnicity parental level of education         lunch  \\\n0  female        group B           bachelor's degree      standard   \n1  female        group C                some college      standard   \n2  female        group B             master's degree      standard   \n3    male        group A          associate's degree  free/reduced   \n4    male        group C                some college      standard   \n5  female        group B          associate's degree      standard   \n6  female        group B                some college      standard   \n\n  test preparation course  math score  reading score  writing score  \n0                    none          72             72             74  \n1               completed          69             90             88  \n2                    none          90             95             93  \n3                    none          47             57             44  \n4                    none          76             78             75  \n5                    none          71             83             78  \n6               completed          88             95             92  ",
      "text/html": "<div>\n<style scoped>\n    .dataframe tbody tr th:only-of-type {\n        vertical-align: middle;\n    }\n\n    .dataframe tbody tr th {\n        vertical-align: top;\n    }\n\n    .dataframe thead th {\n        text-align: right;\n    }\n</style>\n<table border=\"1\" class=\"dataframe\">\n  <thead>\n    <tr style=\"text-align: right;\">\n      <th></th>\n      <th>gender</th>\n      <th>race/ethnicity</th>\n      <th>parental level of education</th>\n      <th>lunch</th>\n      <th>test preparation course</th>\n      <th>math score</th>\n      <th>reading score</th>\n      <th>writing score</th>\n    </tr>\n  </thead>\n  <tbody>\n    <tr>\n      <td>0</td>\n      <td>female</td>\n      <td>group B</td>\n      <td>bachelor's degree</td>\n      <td>standard</td>\n      <td>none</td>\n      <td>72</td>\n      <td>72</td>\n      <td>74</td>\n    </tr>\n    <tr>\n      <td>1</td>\n      <td>female</td>\n      <td>group C</td>\n      <td>some college</td>\n      <td>standard</td>\n      <td>completed</td>\n      <td>69</td>\n      <td>90</td>\n      <td>88</td>\n    </tr>\n    <tr>\n      <td>2</td>\n      <td>female</td>\n      <td>group B</td>\n      <td>master's degree</td>\n      <td>standard</td>\n      <td>none</td>\n      <td>90</td>\n      <td>95</td>\n      <td>93</td>\n    </tr>\n    <tr>\n      <td>3</td>\n      <td>male</td>\n      <td>group A</td>\n      <td>associate's degree</td>\n      <td>free/reduced</td>\n      <td>none</td>\n      <td>47</td>\n      <td>57</td>\n      <td>44</td>\n    </tr>\n    <tr>\n      <td>4</td>\n      <td>male</td>\n      <td>group C</td>\n      <td>some college</td>\n      <td>standard</td>\n      <td>none</td>\n      <td>76</td>\n      <td>78</td>\n      <td>75</td>\n    </tr>\n    <tr>\n      <td>5</td>\n      <td>female</td>\n      <td>group B</td>\n      <td>associate's degree</td>\n      <td>standard</td>\n      <td>none</td>\n      <td>71</td>\n      <td>83</td>\n      <td>78</td>\n    </tr>\n    <tr>\n      <td>6</td>\n      <td>female</td>\n      <td>group B</td>\n      <td>some college</td>\n      <td>standard</td>\n      <td>completed</td>\n      <td>88</td>\n      <td>95</td>\n      <td>92</td>\n    </tr>\n  </tbody>\n</table>\n</div>"
     },
     "metadata": {},
     "output_type": "execute_result",
     "execution_count": 6
    }
   ],
   "source": [
    "students_performance.loc[:6]"
   ],
   "metadata": {
    "collapsed": false,
    "pycharm": {
     "name": "#%%\n",
     "is_executing": false
    }
   }
  },
  {
   "cell_type": "code",
   "execution_count": 7,
   "outputs": [
    {
     "name": "stdout",
     "text": [
      "(891, 12)\n",
      "float64    2\n",
      "int64      5\n",
      "object     5\n",
      "dtype: int64\n"
     ],
     "output_type": "stream"
    },
    {
     "name": "stderr",
     "text": [
      "C:\\Users\\kafree\\Anaconda3\\lib\\site-packages\\ipykernel_launcher.py:3: FutureWarning: `get_dtype_counts` has been deprecated and will be removed in a future version. For DataFrames use `.dtypes.value_counts()\n",
      "  This is separate from the ipykernel package so we can avoid doing imports until\n"
     ],
     "output_type": "stream"
    }
   ],
   "source": [
    "titanic = pd.read_csv('titanic.csv')\n",
    "print(titanic.shape)\n",
    "print(titanic.get_dtype_counts())"
   ],
   "metadata": {
    "collapsed": false,
    "pycharm": {
     "name": "#%%\n",
     "is_executing": false
    }
   }
  },
  {
   "cell_type": "code",
   "execution_count": 8,
   "outputs": [
    {
     "data": {
      "text/plain": "     writing score\n0               74\n1               88\n2               93\n4               75\n5               78\n..             ...\n992             76\n993             74\n995             95\n998             77\n999             86\n\n[512 rows x 1 columns]",
      "text/html": "<div>\n<style scoped>\n    .dataframe tbody tr th:only-of-type {\n        vertical-align: middle;\n    }\n\n    .dataframe tbody tr th {\n        vertical-align: top;\n    }\n\n    .dataframe thead th {\n        text-align: right;\n    }\n</style>\n<table border=\"1\" class=\"dataframe\">\n  <thead>\n    <tr style=\"text-align: right;\">\n      <th></th>\n      <th>writing score</th>\n    </tr>\n  </thead>\n  <tbody>\n    <tr>\n      <td>0</td>\n      <td>74</td>\n    </tr>\n    <tr>\n      <td>1</td>\n      <td>88</td>\n    </tr>\n    <tr>\n      <td>2</td>\n      <td>93</td>\n    </tr>\n    <tr>\n      <td>4</td>\n      <td>75</td>\n    </tr>\n    <tr>\n      <td>5</td>\n      <td>78</td>\n    </tr>\n    <tr>\n      <td>...</td>\n      <td>...</td>\n    </tr>\n    <tr>\n      <td>992</td>\n      <td>76</td>\n    </tr>\n    <tr>\n      <td>993</td>\n      <td>74</td>\n    </tr>\n    <tr>\n      <td>995</td>\n      <td>95</td>\n    </tr>\n    <tr>\n      <td>998</td>\n      <td>77</td>\n    </tr>\n    <tr>\n      <td>999</td>\n      <td>86</td>\n    </tr>\n  </tbody>\n</table>\n<p>512 rows × 1 columns</p>\n</div>"
     },
     "metadata": {},
     "output_type": "execute_result",
     "execution_count": 8
    }
   ],
   "source": [
    "mean = students_performance['writing score'].mean()\n",
    "students_performance.loc[students_performance['writing score'] > mean, ['writing score']]"
   ],
   "metadata": {
    "collapsed": false,
    "pycharm": {
     "name": "#%%\n",
     "is_executing": false
    }
   }
  },
  {
   "cell_type": "code",
   "execution_count": 9,
   "outputs": [],
   "source": [
    "free_lunch = students_performance['lunch'] == 'free/reduced'\n",
    "standard_lunch = students_performance['lunch'] == 'standard'"
   ],
   "metadata": {
    "collapsed": false,
    "pycharm": {
     "name": "#%%\n",
     "is_executing": false
    }
   }
  },
  {
   "cell_type": "code",
   "execution_count": 10,
   "outputs": [
    {
     "data": {
      "text/plain": "   gender race/ethnicity  math score\n0  female        group A   58.527778\n1  female        group B   61.403846\n2  female        group C   62.033333\n3  female        group D   65.248062\n4  female        group E   70.811594\n5    male        group A   63.735849\n6    male        group B   65.930233\n7    male        group C   67.611511\n8    male        group D   69.413534\n9    male        group E   76.746479",
      "text/html": "<div>\n<style scoped>\n    .dataframe tbody tr th:only-of-type {\n        vertical-align: middle;\n    }\n\n    .dataframe tbody tr th {\n        vertical-align: top;\n    }\n\n    .dataframe thead th {\n        text-align: right;\n    }\n</style>\n<table border=\"1\" class=\"dataframe\">\n  <thead>\n    <tr style=\"text-align: right;\">\n      <th></th>\n      <th>gender</th>\n      <th>race/ethnicity</th>\n      <th>math score</th>\n    </tr>\n  </thead>\n  <tbody>\n    <tr>\n      <td>0</td>\n      <td>female</td>\n      <td>group A</td>\n      <td>58.527778</td>\n    </tr>\n    <tr>\n      <td>1</td>\n      <td>female</td>\n      <td>group B</td>\n      <td>61.403846</td>\n    </tr>\n    <tr>\n      <td>2</td>\n      <td>female</td>\n      <td>group C</td>\n      <td>62.033333</td>\n    </tr>\n    <tr>\n      <td>3</td>\n      <td>female</td>\n      <td>group D</td>\n      <td>65.248062</td>\n    </tr>\n    <tr>\n      <td>4</td>\n      <td>female</td>\n      <td>group E</td>\n      <td>70.811594</td>\n    </tr>\n    <tr>\n      <td>5</td>\n      <td>male</td>\n      <td>group A</td>\n      <td>63.735849</td>\n    </tr>\n    <tr>\n      <td>6</td>\n      <td>male</td>\n      <td>group B</td>\n      <td>65.930233</td>\n    </tr>\n    <tr>\n      <td>7</td>\n      <td>male</td>\n      <td>group C</td>\n      <td>67.611511</td>\n    </tr>\n    <tr>\n      <td>8</td>\n      <td>male</td>\n      <td>group D</td>\n      <td>69.413534</td>\n    </tr>\n    <tr>\n      <td>9</td>\n      <td>male</td>\n      <td>group E</td>\n      <td>76.746479</td>\n    </tr>\n  </tbody>\n</table>\n</div>"
     },
     "metadata": {},
     "output_type": "execute_result",
     "execution_count": 10
    }
   ],
   "source": [
    "students_performance.groupby(['gender', 'race/ethnicity'], as_index=False).aggregate({'math score' : 'mean'})"
   ],
   "metadata": {
    "collapsed": false,
    "pycharm": {
     "name": "#%%\n",
     "is_executing": false
    }
   }
  },
  {
   "cell_type": "code",
   "execution_count": 11,
   "outputs": [
    {
     "data": {
      "text/plain": "     gender  math score\n149    male         100\n623    male         100\n625    male         100\n916    male         100\n306    male          99\n451  female         100\n458  female         100\n962  female         100\n114  female          99\n263  female          99",
      "text/html": "<div>\n<style scoped>\n    .dataframe tbody tr th:only-of-type {\n        vertical-align: middle;\n    }\n\n    .dataframe tbody tr th {\n        vertical-align: top;\n    }\n\n    .dataframe thead th {\n        text-align: right;\n    }\n</style>\n<table border=\"1\" class=\"dataframe\">\n  <thead>\n    <tr style=\"text-align: right;\">\n      <th></th>\n      <th>gender</th>\n      <th>math score</th>\n    </tr>\n  </thead>\n  <tbody>\n    <tr>\n      <td>149</td>\n      <td>male</td>\n      <td>100</td>\n    </tr>\n    <tr>\n      <td>623</td>\n      <td>male</td>\n      <td>100</td>\n    </tr>\n    <tr>\n      <td>625</td>\n      <td>male</td>\n      <td>100</td>\n    </tr>\n    <tr>\n      <td>916</td>\n      <td>male</td>\n      <td>100</td>\n    </tr>\n    <tr>\n      <td>306</td>\n      <td>male</td>\n      <td>99</td>\n    </tr>\n    <tr>\n      <td>451</td>\n      <td>female</td>\n      <td>100</td>\n    </tr>\n    <tr>\n      <td>458</td>\n      <td>female</td>\n      <td>100</td>\n    </tr>\n    <tr>\n      <td>962</td>\n      <td>female</td>\n      <td>100</td>\n    </tr>\n    <tr>\n      <td>114</td>\n      <td>female</td>\n      <td>99</td>\n    </tr>\n    <tr>\n      <td>263</td>\n      <td>female</td>\n      <td>99</td>\n    </tr>\n  </tbody>\n</table>\n</div>"
     },
     "metadata": {},
     "output_type": "execute_result",
     "execution_count": 11
    }
   ],
   "source": [
    "students_performance[['gender', 'math score']].sort_values(['gender', 'math score'], ascending=False).groupby('gender').head()"
   ],
   "metadata": {
    "collapsed": false,
    "pycharm": {
     "name": "#%%\n",
     "is_executing": false
    }
   }
  },
  {
   "cell_type": "code",
   "execution_count": 12,
   "outputs": [
    {
     "name": "stderr",
     "text": [
      "C:\\Users\\kafree\\Anaconda3\\lib\\site-packages\\pandas\\core\\series.py:853: RuntimeWarning: divide by zero encountered in log\n",
      "  result = getattr(ufunc, method)(*inputs, **kwargs)\n"
     ],
     "output_type": "stream"
    },
    {
     "data": {
      "text/plain": "0      4.276666\n1      4.234107\n2      4.499810\n3      3.850148\n4      4.330733\n         ...   \n995    4.477337\n996    4.127134\n997    4.077537\n998    4.219508\n999    4.343805\nName: total, Length: 1000, dtype: float64"
     },
     "metadata": {},
     "output_type": "execute_result",
     "execution_count": 12
    }
   ],
   "source": [
    "students_performance = students_performance.assign(total = np.log(students_performance['math score']))\n",
    "students_performance['total']"
   ],
   "metadata": {
    "collapsed": false,
    "pycharm": {
     "name": "#%%\n",
     "is_executing": false
    }
   }
  },
  {
   "cell_type": "code",
   "execution_count": 13,
   "outputs": [
    {
     "data": {
      "text/plain": "      Unnamed: 0  attack_type  id  localized_name  name  primary_attr  roles\nlegs                                                                        \n0             11           11  11              11    11            11     11\n2             95           95  95              95    95            95     95\n4              7            7   7               7     7             7      7\n6              3            3   3               3     3             3      3\n8              1            1   1               1     1             1      1",
      "text/html": "<div>\n<style scoped>\n    .dataframe tbody tr th:only-of-type {\n        vertical-align: middle;\n    }\n\n    .dataframe tbody tr th {\n        vertical-align: top;\n    }\n\n    .dataframe thead th {\n        text-align: right;\n    }\n</style>\n<table border=\"1\" class=\"dataframe\">\n  <thead>\n    <tr style=\"text-align: right;\">\n      <th></th>\n      <th>Unnamed: 0</th>\n      <th>attack_type</th>\n      <th>id</th>\n      <th>localized_name</th>\n      <th>name</th>\n      <th>primary_attr</th>\n      <th>roles</th>\n    </tr>\n    <tr>\n      <th>legs</th>\n      <th></th>\n      <th></th>\n      <th></th>\n      <th></th>\n      <th></th>\n      <th></th>\n      <th></th>\n    </tr>\n  </thead>\n  <tbody>\n    <tr>\n      <td>0</td>\n      <td>11</td>\n      <td>11</td>\n      <td>11</td>\n      <td>11</td>\n      <td>11</td>\n      <td>11</td>\n      <td>11</td>\n    </tr>\n    <tr>\n      <td>2</td>\n      <td>95</td>\n      <td>95</td>\n      <td>95</td>\n      <td>95</td>\n      <td>95</td>\n      <td>95</td>\n      <td>95</td>\n    </tr>\n    <tr>\n      <td>4</td>\n      <td>7</td>\n      <td>7</td>\n      <td>7</td>\n      <td>7</td>\n      <td>7</td>\n      <td>7</td>\n      <td>7</td>\n    </tr>\n    <tr>\n      <td>6</td>\n      <td>3</td>\n      <td>3</td>\n      <td>3</td>\n      <td>3</td>\n      <td>3</td>\n      <td>3</td>\n      <td>3</td>\n    </tr>\n    <tr>\n      <td>8</td>\n      <td>1</td>\n      <td>1</td>\n      <td>1</td>\n      <td>1</td>\n      <td>1</td>\n      <td>1</td>\n      <td>1</td>\n    </tr>\n  </tbody>\n</table>\n</div>"
     },
     "metadata": {},
     "output_type": "execute_result",
     "execution_count": 13
    }
   ],
   "source": [
    "dota = pd.read_csv('dota_hero_stats.csv')\n",
    "dota.groupby('legs').count()"
   ],
   "metadata": {
    "collapsed": false,
    "pycharm": {
     "name": "#%%\n",
     "is_executing": false
    }
   }
  },
  {
   "cell_type": "code",
   "execution_count": 14,
   "outputs": [
    {
     "data": {
      "text/plain": "               Unnamed: 0      Salary\nExecutor Type                        \nLoopa    A      46.000000   58.000000\n         B      24.000000  145.166667\n         C      31.666667  154.333333\n         D      31.857143  137.714286\n         E      23.500000  164.000000\n         F      20.000000  238.000000\nPupa     A      16.000000  160.833333\n         B      41.000000   77.000000\n         C      23.000000   74.500000\n         D      14.000000  146.500000\n         E      19.800000  131.200000\n         F      25.750000  136.250000",
      "text/html": "<div>\n<style scoped>\n    .dataframe tbody tr th:only-of-type {\n        vertical-align: middle;\n    }\n\n    .dataframe tbody tr th {\n        vertical-align: top;\n    }\n\n    .dataframe thead th {\n        text-align: right;\n    }\n</style>\n<table border=\"1\" class=\"dataframe\">\n  <thead>\n    <tr style=\"text-align: right;\">\n      <th></th>\n      <th></th>\n      <th>Unnamed: 0</th>\n      <th>Salary</th>\n    </tr>\n    <tr>\n      <th>Executor</th>\n      <th>Type</th>\n      <th></th>\n      <th></th>\n    </tr>\n  </thead>\n  <tbody>\n    <tr>\n      <td rowspan=\"6\" valign=\"top\">Loopa</td>\n      <td>A</td>\n      <td>46.000000</td>\n      <td>58.000000</td>\n    </tr>\n    <tr>\n      <td>B</td>\n      <td>24.000000</td>\n      <td>145.166667</td>\n    </tr>\n    <tr>\n      <td>C</td>\n      <td>31.666667</td>\n      <td>154.333333</td>\n    </tr>\n    <tr>\n      <td>D</td>\n      <td>31.857143</td>\n      <td>137.714286</td>\n    </tr>\n    <tr>\n      <td>E</td>\n      <td>23.500000</td>\n      <td>164.000000</td>\n    </tr>\n    <tr>\n      <td>F</td>\n      <td>20.000000</td>\n      <td>238.000000</td>\n    </tr>\n    <tr>\n      <td rowspan=\"6\" valign=\"top\">Pupa</td>\n      <td>A</td>\n      <td>16.000000</td>\n      <td>160.833333</td>\n    </tr>\n    <tr>\n      <td>B</td>\n      <td>41.000000</td>\n      <td>77.000000</td>\n    </tr>\n    <tr>\n      <td>C</td>\n      <td>23.000000</td>\n      <td>74.500000</td>\n    </tr>\n    <tr>\n      <td>D</td>\n      <td>14.000000</td>\n      <td>146.500000</td>\n    </tr>\n    <tr>\n      <td>E</td>\n      <td>19.800000</td>\n      <td>131.200000</td>\n    </tr>\n    <tr>\n      <td>F</td>\n      <td>25.750000</td>\n      <td>136.250000</td>\n    </tr>\n  </tbody>\n</table>\n</div>"
     },
     "metadata": {},
     "output_type": "execute_result",
     "execution_count": 14
    }
   ],
   "source": [
    "pa = pd.read_csv('accountancy.csv')\n",
    "pa.groupby(['Executor','Type']).mean()"
   ],
   "metadata": {
    "collapsed": false,
    "pycharm": {
     "name": "#%%\n",
     "is_executing": false
    }
   }
  },
  {
   "cell_type": "code",
   "execution_count": 15,
   "outputs": [
    {
     "data": {
      "text/plain": "                          Unnamed: 0  id  legs  localized_name  name  roles\nattack_type primary_attr                                                   \nMelee       agi                   19  19    19              19    19     19\n            int                    2   2     2               2     2      2\n            str                   35  35    35              35    35     35\nRanged      agi                   18  18    18              18    18     18\n            int                   40  40    40              40    40     40\n            str                    3   3     3               3     3      3",
      "text/html": "<div>\n<style scoped>\n    .dataframe tbody tr th:only-of-type {\n        vertical-align: middle;\n    }\n\n    .dataframe tbody tr th {\n        vertical-align: top;\n    }\n\n    .dataframe thead th {\n        text-align: right;\n    }\n</style>\n<table border=\"1\" class=\"dataframe\">\n  <thead>\n    <tr style=\"text-align: right;\">\n      <th></th>\n      <th></th>\n      <th>Unnamed: 0</th>\n      <th>id</th>\n      <th>legs</th>\n      <th>localized_name</th>\n      <th>name</th>\n      <th>roles</th>\n    </tr>\n    <tr>\n      <th>attack_type</th>\n      <th>primary_attr</th>\n      <th></th>\n      <th></th>\n      <th></th>\n      <th></th>\n      <th></th>\n      <th></th>\n    </tr>\n  </thead>\n  <tbody>\n    <tr>\n      <td rowspan=\"3\" valign=\"top\">Melee</td>\n      <td>agi</td>\n      <td>19</td>\n      <td>19</td>\n      <td>19</td>\n      <td>19</td>\n      <td>19</td>\n      <td>19</td>\n    </tr>\n    <tr>\n      <td>int</td>\n      <td>2</td>\n      <td>2</td>\n      <td>2</td>\n      <td>2</td>\n      <td>2</td>\n      <td>2</td>\n    </tr>\n    <tr>\n      <td>str</td>\n      <td>35</td>\n      <td>35</td>\n      <td>35</td>\n      <td>35</td>\n      <td>35</td>\n      <td>35</td>\n    </tr>\n    <tr>\n      <td rowspan=\"3\" valign=\"top\">Ranged</td>\n      <td>agi</td>\n      <td>18</td>\n      <td>18</td>\n      <td>18</td>\n      <td>18</td>\n      <td>18</td>\n      <td>18</td>\n    </tr>\n    <tr>\n      <td>int</td>\n      <td>40</td>\n      <td>40</td>\n      <td>40</td>\n      <td>40</td>\n      <td>40</td>\n      <td>40</td>\n    </tr>\n    <tr>\n      <td>str</td>\n      <td>3</td>\n      <td>3</td>\n      <td>3</td>\n      <td>3</td>\n      <td>3</td>\n      <td>3</td>\n    </tr>\n  </tbody>\n</table>\n</div>"
     },
     "metadata": {},
     "output_type": "execute_result",
     "execution_count": 15
    }
   ],
   "source": [
    "dota.groupby(['attack_type', 'primary_attr']).count()"
   ],
   "metadata": {
    "collapsed": false,
    "pycharm": {
     "name": "#%%\n",
     "is_executing": false
    }
   }
  },
  {
   "cell_type": "code",
   "execution_count": 16,
   "outputs": [
    {
     "data": {
      "text/plain": "               alanin\ngenus                \nAscophyllum  0.875429\nCladophora   6.881024\nFucus        6.641303\nPalmaria     3.176440\nSaccharina   5.793163",
      "text/html": "<div>\n<style scoped>\n    .dataframe tbody tr th:only-of-type {\n        vertical-align: middle;\n    }\n\n    .dataframe tbody tr th {\n        vertical-align: top;\n    }\n\n    .dataframe thead th {\n        text-align: right;\n    }\n</style>\n<table border=\"1\" class=\"dataframe\">\n  <thead>\n    <tr style=\"text-align: right;\">\n      <th></th>\n      <th>alanin</th>\n    </tr>\n    <tr>\n      <th>genus</th>\n      <th></th>\n    </tr>\n  </thead>\n  <tbody>\n    <tr>\n      <td>Ascophyllum</td>\n      <td>0.875429</td>\n    </tr>\n    <tr>\n      <td>Cladophora</td>\n      <td>6.881024</td>\n    </tr>\n    <tr>\n      <td>Fucus</td>\n      <td>6.641303</td>\n    </tr>\n    <tr>\n      <td>Palmaria</td>\n      <td>3.176440</td>\n    </tr>\n    <tr>\n      <td>Saccharina</td>\n      <td>5.793163</td>\n    </tr>\n  </tbody>\n</table>\n</div>"
     },
     "metadata": {},
     "output_type": "execute_result",
     "execution_count": 16
    }
   ],
   "source": [
    "concentrations = pd.read_csv('algae.csv')\n",
    "concentrations[['genus','alanin']].groupby(['genus']).max()\n"
   ],
   "metadata": {
    "collapsed": false,
    "pycharm": {
     "name": "#%%\n",
     "is_executing": false
    }
   }
  },
  {
   "cell_type": "code",
   "execution_count": 17,
   "outputs": [
    {
     "data": {
      "text/plain": "<pandas.core.groupby.generic.DataFrameGroupBy object at 0x000001892467F248>"
     },
     "metadata": {},
     "output_type": "execute_result",
     "execution_count": 17
    }
   ],
   "source": [
    "concentrations.groupby('group')"
   ],
   "metadata": {
    "collapsed": false,
    "pycharm": {
     "name": "#%%\n",
     "is_executing": false
    }
   }
  },
  {
   "cell_type": "code",
   "execution_count": 18,
   "outputs": [],
   "source": [
    "import matplotlib.pyplot as plt\n",
    "import seaborn as sns\n",
    "%matplotlib inline"
   ],
   "metadata": {
    "collapsed": false,
    "pycharm": {
     "name": "#%%\n",
     "is_executing": false
    }
   }
  },
  {
   "cell_type": "code",
   "execution_count": 19,
   "outputs": [],
   "source": [
    "# students_performance.lunch.hist()"
   ],
   "metadata": {
    "collapsed": false,
    "pycharm": {
     "name": "#%%\n",
     "is_executing": false
    }
   }
  },
  {
   "cell_type": "code",
   "execution_count": 20,
   "outputs": [],
   "source": [
    "# students_performance.plot.scatter(x='math score', y='reading score')"
   ],
   "metadata": {
    "collapsed": false,
    "pycharm": {
     "name": "#%%\n",
     "is_executing": false
    }
   }
  },
  {
   "cell_type": "code",
   "execution_count": 21,
   "outputs": [],
   "source": [
    "# sns.lmplot(x='math score', y='reading score', hue='gender', data=students_performance)"
   ],
   "metadata": {
    "collapsed": false,
    "pycharm": {
     "name": "#%%\n",
     "is_executing": false
    }
   }
  },
  {
   "cell_type": "code",
   "execution_count": 22,
   "outputs": [],
   "source": [
    "# income = pd.read_csv('income.csv')\n",
    "# sns.lineplot(x=income.index, y=income.income)"
   ],
   "metadata": {
    "collapsed": false,
    "pycharm": {
     "name": "#%%\n",
     "is_executing": false
    }
   }
  },
  {
   "cell_type": "code",
   "execution_count": 23,
   "outputs": [],
   "source": [
    "# dat = pd.read_csv('dataset_209770_6.txt', sep=' ')\n",
    "# sns.scatterplot(x='x',y='y',data=dat)"
   ],
   "metadata": {
    "collapsed": false,
    "pycharm": {
     "name": "#%%\n",
     "is_executing": false
    }
   }
  },
  {
   "cell_type": "code",
   "execution_count": 24,
   "outputs": [],
   "source": [
    "# gen = pd.read_csv('genome_matrix.csv')\n",
    "# g = sns.heatmap(gen.iloc[:,1:], cmap='viridis')\n",
    "# g.xaxis.set_ticks_position('top')\n",
    "# g.xaxis.set_tick_params(rotation=90)"
   ],
   "metadata": {
    "collapsed": false,
    "pycharm": {
     "name": "#%%\n",
     "is_executing": false
    }
   }
  },
  {
   "cell_type": "code",
   "execution_count": 25,
   "outputs": [],
   "source": [
    "# dota.roles.str.count(',').hist()"
   ],
   "metadata": {
    "collapsed": false,
    "pycharm": {
     "name": "#%%\n",
     "is_executing": false
    }
   }
  },
  {
   "cell_type": "code",
   "execution_count": 26,
   "outputs": [],
   "source": [
    "# iris = pd.read_csv('iris.csv')\n",
    "# for column in iris.iloc[:, 1:]:\n",
    "#     sns.kdeplot(iris[column])"
   ],
   "metadata": {
    "collapsed": false,
    "pycharm": {
     "name": "#%%\n",
     "is_executing": false
    }
   }
  },
  {
   "cell_type": "code",
   "execution_count": 27,
   "outputs": [],
   "source": [
    "# sns.violinplot(iris['petal length'])"
   ],
   "metadata": {
    "collapsed": false,
    "pycharm": {
     "name": "#%%\n",
     "is_executing": false
    }
   }
  },
  {
   "cell_type": "code",
   "execution_count": 28,
   "outputs": [],
   "source": [
    "# sns.pairplot(data=iris.iloc[:,1:-1])"
   ],
   "metadata": {
    "collapsed": false,
    "pycharm": {
     "name": "#%%\n",
     "is_executing": false
    }
   }
  },
  {
   "cell_type": "code",
   "execution_count": 29,
   "outputs": [
    {
     "data": {
      "text/plain": "  type  value\n0    A     10\n1    A     14\n2    B     12\n3    B     23",
      "text/html": "<div>\n<style scoped>\n    .dataframe tbody tr th:only-of-type {\n        vertical-align: middle;\n    }\n\n    .dataframe tbody tr th {\n        vertical-align: top;\n    }\n\n    .dataframe thead th {\n        text-align: right;\n    }\n</style>\n<table border=\"1\" class=\"dataframe\">\n  <thead>\n    <tr style=\"text-align: right;\">\n      <th></th>\n      <th>type</th>\n      <th>value</th>\n    </tr>\n  </thead>\n  <tbody>\n    <tr>\n      <td>0</td>\n      <td>A</td>\n      <td>10</td>\n    </tr>\n    <tr>\n      <td>1</td>\n      <td>A</td>\n      <td>14</td>\n    </tr>\n    <tr>\n      <td>2</td>\n      <td>B</td>\n      <td>12</td>\n    </tr>\n    <tr>\n      <td>3</td>\n      <td>B</td>\n      <td>23</td>\n    </tr>\n  </tbody>\n</table>\n</div>"
     },
     "metadata": {},
     "output_type": "execute_result",
     "execution_count": 29
    }
   ],
   "source": [
    "d = {'type': ['A', 'A', 'B', 'B'], 'value': [10, 14, 12, 23]}\n",
    "my_data = pd.DataFrame(data=d)\n",
    "my_data"
   ],
   "metadata": {
    "collapsed": false,
    "pycharm": {
     "name": "#%%\n",
     "is_executing": false
    }
   }
  },
  {
   "cell_type": "code",
   "execution_count": 30,
   "outputs": [],
   "source": [
    "my_stat = pd.read_csv('my_stat.csv')\n",
    "subset_1 = my_stat.iloc[0:10, [0, 2]]\n",
    "subset_2 = my_stat[['V2', 'V4']].drop([0, 4])"
   ],
   "metadata": {
    "collapsed": false,
    "pycharm": {
     "name": "#%%\n",
     "is_executing": false
    }
   }
  },
  {
   "cell_type": "code",
   "execution_count": 31,
   "outputs": [],
   "source": [
    "subset_1 = my_stat[(my_stat['V1'] > 0) & (my_stat['V3'] == 'A')]\n",
    "subset_2 = my_stat[(my_stat['V2'] != 10) | (my_stat['V4'] >= 1)]"
   ],
   "metadata": {
    "collapsed": false,
    "pycharm": {
     "name": "#%%\n",
     "is_executing": false
    }
   }
  },
  {
   "cell_type": "code",
   "execution_count": 32,
   "outputs": [],
   "source": [
    "import math\n",
    "my_stat = my_stat.assign(V5 = lambda x: x.V1 + x.V4)\n",
    "my_stat = my_stat.assign(V6 = lambda x: np.log(x.V2))"
   ],
   "metadata": {
    "collapsed": false,
    "pycharm": {
     "name": "#%%\n",
     "is_executing": false
    }
   }
  },
  {
   "cell_type": "code",
   "execution_count": 33,
   "outputs": [],
   "source": [
    "my_stat = my_stat.rename(columns={'V1': 'session_value', 'V2': 'group', 'V3': 'time', 'V4': 'n_users'})"
   ],
   "metadata": {
    "collapsed": false,
    "pycharm": {
     "name": "#%%\n",
     "is_executing": false
    }
   }
  },
  {
   "cell_type": "code",
   "execution_count": 34,
   "outputs": [],
   "source": [
    "# my_stat = pd.read_csv('my_stat_1.csv')\n",
    "# my_stat = my_stat.fillna(0)\n",
    "# med = my_stat[my_stat['n_users'] > 0].n_users.median()\n",
    "# my_stat.loc[my_stat['n_users'] < 0, 'n_users'] = med"
   ],
   "metadata": {
    "collapsed": false,
    "pycharm": {
     "name": "#%%\n",
     "is_executing": false
    }
   }
  },
  {
   "cell_type": "code",
   "execution_count": 35,
   "outputs": [],
   "source": [
    "mean_session_value_data = my_stat.groupby('group', as_index=False).agg({'session_value':'mean'})\n",
    "mean_session_value_data = mean_session_value_data.rename(columns={'session_value': 'mean_session_value'})"
   ],
   "metadata": {
    "collapsed": false,
    "pycharm": {
     "name": "#%%\n",
     "is_executing": false
    }
   }
  }
 ],
 "metadata": {
  "kernelspec": {
   "display_name": "Python 3",
   "language": "python",
   "name": "python3"
  },
  "language_info": {
   "codemirror_mode": {
    "name": "ipython",
    "version": 2
   },
   "file_extension": ".py",
   "mimetype": "text/x-python",
   "name": "python",
   "nbconvert_exporter": "python",
   "pygments_lexer": "ipython2",
   "version": "2.7.6"
  },
  "pycharm": {
   "stem_cell": {
    "cell_type": "raw",
    "source": [],
    "metadata": {
     "collapsed": false
    }
   }
  }
 },
 "nbformat": 4,
 "nbformat_minor": 0
}